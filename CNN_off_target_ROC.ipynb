{
  "nbformat": 4,
  "nbformat_minor": 0,
  "metadata": {
    "colab": {
      "name": "CNN_off_target_ROC.ipynb",
      "provenance": [],
      "collapsed_sections": [],
      "authorship_tag": "ABX9TyNAvCwQ1PD9CXsIOsdzJhKY",
      "include_colab_link": true
    },
    "kernelspec": {
      "name": "python3",
      "display_name": "Python 3"
    },
    "language_info": {
      "name": "python"
    }
  },
  "cells": [
    {
      "cell_type": "markdown",
      "metadata": {
        "id": "view-in-github",
        "colab_type": "text"
      },
      "source": [
        "<a href=\"https://colab.research.google.com/github/happyendingddd/CRISPR_Cas9_gRNA_design/blob/main/CNN_off_target_ROC.ipynb\" target=\"_parent\"><img src=\"https://colab.research.google.com/assets/colab-badge.svg\" alt=\"Open In Colab\"/></a>"
      ]
    },
    {
      "cell_type": "code",
      "metadata": {
        "id": "MPDIloPHJLDm"
      },
      "source": [
        "import tensorflow as tf\n",
        "\n",
        "import pandas as pd\n",
        "import numpy as np\n",
        "from tensorflow.keras import layers\n",
        "import sklearn\n",
        "import matplotlib.pyplot as plt"
      ],
      "execution_count": 295,
      "outputs": []
    },
    {
      "cell_type": "code",
      "metadata": {
        "id": "oAsslLtrRhcS"
      },
      "source": [
        "# 数据导入1\n",
        "file_path='/content/merge_ot_sgRNA_K562_binary.csv'\n",
        "data_read=pd.read_csv(file_path,sep=',')\n",
        "otSeq=np.array(data_read['OT'])\n",
        "guideSeq=np.array(data_read['Target sgRNA'])\n",
        "labels=np.array(data_read['Cleavage Frequency'])"
      ],
      "execution_count": 296,
      "outputs": []
    },
    {
      "cell_type": "code",
      "metadata": {
        "colab": {
          "base_uri": "https://localhost:8080/"
        },
        "id": "3rT58VHnm-HM",
        "outputId": "c8b21aa9-9043-4b9e-da70-3c1362e41480"
      },
      "source": [
        "data_read['Target sgRNA'].shape"
      ],
      "execution_count": 297,
      "outputs": [
        {
          "output_type": "execute_result",
          "data": {
            "text/plain": [
              "(120,)"
            ]
          },
          "metadata": {
            "tags": []
          },
          "execution_count": 297
        }
      ]
    },
    {
      "cell_type": "code",
      "metadata": {
        "id": "Ig37f_0tiZ5t",
        "colab": {
          "base_uri": "https://localhost:8080/",
          "height": 89
        },
        "outputId": "c8d57932-1331-461c-ea7d-d5973b6edc24"
      },
      "source": [
        "'''\n",
        "# after专属代码\n",
        "# 数据导入2（已经是编码形式）\n",
        "num_read=guideSeq.shape[0]\n",
        "seqdata_gP=np.load('/content/generated_ot_sgRNA_code_K562_positive.npy')[0:num_read-1]\n",
        "seqdata_gN=np.load('/content/generated_ot_sgRNA_code_K562_negetive.npy')[0:num_read-1]\n",
        "seqdata_g=np.vstack([seqdata_gP,seqdata_gN])\n",
        "labels_gP=np.zeros(seqdata_gP.shape[0])+1\n",
        "labels_gN=np.zeros(seqdata_gN.shape[0])\n",
        "labels_g=np.r_[labels_gP,labels_gN]\n",
        "labels_all=np.r_[labels,labels_g]\n",
        "'''"
      ],
      "execution_count": 298,
      "outputs": [
        {
          "output_type": "execute_result",
          "data": {
            "application/vnd.google.colaboratory.intrinsic+json": {
              "type": "string"
            },
            "text/plain": [
              "\"\\n# after专属代码\\n# 数据导入2（已经是编码形式）\\nnum_read=guideSeq.shape[0]\\nseqdata_gP=np.load('/content/generated_ot_sgRNA_code_K562_positive.npy')[0:num_read-1]\\nseqdata_gN=np.load('/content/generated_ot_sgRNA_code_K562_negetive.npy')[0:num_read-1]\\nseqdata_g=np.vstack([seqdata_gP,seqdata_gN])\\nlabels_gP=np.zeros(seqdata_gP.shape[0])+1\\nlabels_gN=np.zeros(seqdata_gN.shape[0])\\nlabels_g=np.r_[labels_gP,labels_gN]\\nlabels_all=np.r_[labels,labels_g]\\n\""
            ]
          },
          "metadata": {
            "tags": []
          },
          "execution_count": 298
        }
      ]
    },
    {
      "cell_type": "code",
      "metadata": {
        "id": "sUJpJOe6Xh0T"
      },
      "source": [
        "# 0ne_hot编码\n",
        "ntmap = {'A': (1, 0, 0, 0),\n",
        "         'C': (0, 1, 0, 0),\n",
        "         'G': (0, 0, 1, 0),\n",
        "         'T': (0, 0, 0, 1)\n",
        "         }\n",
        "\n",
        "def get_seqcode(seq):\n",
        "    return list(map(lambda c: ntmap[c], seq))\n",
        "\n",
        "def oneHotcoding(Seq):\n",
        "    n=0\n",
        "    for seq in Seq:\n",
        "        if n==0:\n",
        "            SeqcodeL=[]\n",
        "        seqcode=get_seqcode(seq)\n",
        "        n+=1\n",
        "        SeqcodeL.append(seqcode)\n",
        "        seqcode=[]\n",
        "        SeqcodeA=np.array(SeqcodeL)\n",
        "    return SeqcodeA"
      ],
      "execution_count": 299,
      "outputs": []
    },
    {
      "cell_type": "code",
      "metadata": {
        "id": "l4eR5tvcRkhV"
      },
      "source": [
        "# OR算子编码sgRNA-DNA\n",
        "def OR(a,b):\n",
        "    ab=np.zeros([a.shape[0],a.shape[1]])\n",
        "    for i in range(a.shape[0]):\n",
        "        for j in range(a.shape[1]):\n",
        "            if a[i][j] != b[i][j]:\n",
        "                ab[i][j]=a[i][j]+b[i][j]\n",
        "            else:\n",
        "                ab[i][j]=a[i][j]\n",
        "    return ab"
      ],
      "execution_count": 300,
      "outputs": []
    },
    {
      "cell_type": "code",
      "metadata": {
        "id": "aQfjTbR6csQA"
      },
      "source": [
        "# 编码\n",
        "guidecode=oneHotcoding(guideSeq)\n",
        "otcode=oneHotcoding(otSeq)\n",
        "guide_ot_code=np.zeros((guidecode.shape[0],guidecode.shape[1],guidecode.shape[2]))\n",
        "for i in range(len(guidecode)):\n",
        "    guide_ot_code[i]=OR(guidecode[i],otcode[i])\n",
        "seqdata=guide_ot_code"
      ],
      "execution_count": 301,
      "outputs": []
    },
    {
      "cell_type": "code",
      "metadata": {
        "colab": {
          "base_uri": "https://localhost:8080/",
          "height": 35
        },
        "id": "PBlEUwKweQhE",
        "outputId": "e72cbb6f-7d70-4178-d0ca-f60fec857c16"
      },
      "source": [
        "'''\n",
        "# after专属代码\n",
        "seqdata_all=np.vstack([seqdata,seqdata_g])\n",
        "print(seqdata_all.shape)\n",
        "'''"
      ],
      "execution_count": 302,
      "outputs": [
        {
          "output_type": "execute_result",
          "data": {
            "application/vnd.google.colaboratory.intrinsic+json": {
              "type": "string"
            },
            "text/plain": [
              "'\\n# after专属代码\\nseqdata_all=np.vstack([seqdata,seqdata_g])\\nprint(seqdata_all.shape)\\n'"
            ]
          },
          "metadata": {
            "tags": []
          },
          "execution_count": 302
        }
      ]
    },
    {
      "cell_type": "code",
      "metadata": {
        "id": "ryFWKfMci0H2"
      },
      "source": [
        "\n",
        "# before专属代码\n",
        "seqdata_all=seqdata\n",
        "labels_all=labels\n"
      ],
      "execution_count": 303,
      "outputs": []
    },
    {
      "cell_type": "code",
      "metadata": {
        "colab": {
          "base_uri": "https://localhost:8080/"
        },
        "id": "5WXpj3__lw0I",
        "outputId": "9dd7b899-a4a9-478b-c2e3-de56337f6d23"
      },
      "source": [
        "seqdata_all.shape"
      ],
      "execution_count": 304,
      "outputs": [
        {
          "output_type": "execute_result",
          "data": {
            "text/plain": [
              "(120, 23, 4)"
            ]
          },
          "metadata": {
            "tags": []
          },
          "execution_count": 304
        }
      ]
    },
    {
      "cell_type": "code",
      "metadata": {
        "colab": {
          "base_uri": "https://localhost:8080/"
        },
        "id": "AGTQMvFwmmEI",
        "outputId": "2893b931-96a5-4de6-fcc7-92d06b8839de"
      },
      "source": [
        "labels_all.shape"
      ],
      "execution_count": 305,
      "outputs": [
        {
          "output_type": "execute_result",
          "data": {
            "text/plain": [
              "(120,)"
            ]
          },
          "metadata": {
            "tags": []
          },
          "execution_count": 305
        }
      ]
    },
    {
      "cell_type": "code",
      "metadata": {
        "id": "fgztcQI0ZES9"
      },
      "source": [
        "from sklearn.model_selection import train_test_split\n",
        "train_seq,test_seq,train_lab,test_lab=train_test_split(seqdata_all,labels_all,train_size = 0.6,random_state=0,stratify=labels_all)"
      ],
      "execution_count": 306,
      "outputs": []
    },
    {
      "cell_type": "code",
      "metadata": {
        "id": "579mL7Rsb-NO"
      },
      "source": [
        "val_seq=test_seq[:int(test_seq.shape[0]*0.25)];val_lab=test_lab[:int(test_seq.shape[0]*0.25)]\n",
        "Ntest_seq=test_seq[int(test_seq.shape[0]*0.25)+1:];Ntest_lab=test_lab[int(test_seq.shape[0]*0.25)+1:]"
      ],
      "execution_count": 307,
      "outputs": []
    },
    {
      "cell_type": "code",
      "metadata": {
        "colab": {
          "base_uri": "https://localhost:8080/"
        },
        "id": "6AAGqIGzWYym",
        "outputId": "de5f0f43-153f-44e5-c69f-e5d2a074a163"
      },
      "source": [
        "sum(Ntest_lab)"
      ],
      "execution_count": 308,
      "outputs": [
        {
          "output_type": "execute_result",
          "data": {
            "text/plain": [
              "3"
            ]
          },
          "metadata": {
            "tags": []
          },
          "execution_count": 308
        }
      ]
    },
    {
      "cell_type": "code",
      "metadata": {
        "id": "yRdwI4H4J6GM"
      },
      "source": [
        "def CNN_model():\n",
        "  model = tf.keras.Sequential()\n",
        "  \n",
        "  model.add(layers.Conv1D(16, 3, padding='same', activation='relu', input_shape=(23,4)))\n",
        "  model.add(layers.BatchNormalization())\n",
        "  model.add(layers.LeakyReLU())\n",
        "  model.add(layers.Dropout(0.3))\n",
        "\n",
        "  model.add(layers.Conv1D(64, 3,padding='same', activation='relu'))\n",
        "  model.add(layers.BatchNormalization())\n",
        "  model.add(layers.LeakyReLU())\n",
        "  model.add(layers.Dropout(0.3))\n",
        "\n",
        "  model.add(layers.Conv1D(64, 3,padding='same', activation='relu'))\n",
        "  model.add(layers.BatchNormalization())\n",
        "  model.add(layers.LeakyReLU())\n",
        "  model.add(layers.Dropout(0.3))\n",
        "\n",
        "  model.add(layers.Flatten())\n",
        "  model.add(layers.Dense(16, activation='relu'))\n",
        "  #model.add(layers.Dense(2))\n",
        "  model.add(layers.Dense(2,activation='sigmoid'))\n",
        "\n",
        "  return model"
      ],
      "execution_count": 309,
      "outputs": []
    },
    {
      "cell_type": "code",
      "metadata": {
        "id": "NaSwu0mpR2MR",
        "colab": {
          "base_uri": "https://localhost:8080/"
        },
        "outputId": "c8a2a310-22b0-4caa-ef32-ef6ba4eb8ce8"
      },
      "source": [
        "model=CNN_model()\n",
        "model.summary()"
      ],
      "execution_count": 310,
      "outputs": [
        {
          "output_type": "stream",
          "text": [
            "Model: \"sequential_8\"\n",
            "_________________________________________________________________\n",
            "Layer (type)                 Output Shape              Param #   \n",
            "=================================================================\n",
            "conv1d_24 (Conv1D)           (None, 23, 16)            208       \n",
            "_________________________________________________________________\n",
            "batch_normalization_24 (Batc (None, 23, 16)            64        \n",
            "_________________________________________________________________\n",
            "leaky_re_lu_24 (LeakyReLU)   (None, 23, 16)            0         \n",
            "_________________________________________________________________\n",
            "dropout_24 (Dropout)         (None, 23, 16)            0         \n",
            "_________________________________________________________________\n",
            "conv1d_25 (Conv1D)           (None, 23, 64)            3136      \n",
            "_________________________________________________________________\n",
            "batch_normalization_25 (Batc (None, 23, 64)            256       \n",
            "_________________________________________________________________\n",
            "leaky_re_lu_25 (LeakyReLU)   (None, 23, 64)            0         \n",
            "_________________________________________________________________\n",
            "dropout_25 (Dropout)         (None, 23, 64)            0         \n",
            "_________________________________________________________________\n",
            "conv1d_26 (Conv1D)           (None, 23, 64)            12352     \n",
            "_________________________________________________________________\n",
            "batch_normalization_26 (Batc (None, 23, 64)            256       \n",
            "_________________________________________________________________\n",
            "leaky_re_lu_26 (LeakyReLU)   (None, 23, 64)            0         \n",
            "_________________________________________________________________\n",
            "dropout_26 (Dropout)         (None, 23, 64)            0         \n",
            "_________________________________________________________________\n",
            "flatten_8 (Flatten)          (None, 1472)              0         \n",
            "_________________________________________________________________\n",
            "dense_16 (Dense)             (None, 16)                23568     \n",
            "_________________________________________________________________\n",
            "dense_17 (Dense)             (None, 2)                 34        \n",
            "=================================================================\n",
            "Total params: 39,874\n",
            "Trainable params: 39,586\n",
            "Non-trainable params: 288\n",
            "_________________________________________________________________\n"
          ],
          "name": "stdout"
        }
      ]
    },
    {
      "cell_type": "code",
      "metadata": {
        "id": "2WewlvP6SLbc"
      },
      "source": [
        "model.compile(optimizer='adam',\n",
        "              loss=tf.keras.losses.SparseCategoricalCrossentropy(from_logits=True),\n",
        "              metrics=['accuracy'])"
      ],
      "execution_count": 311,
      "outputs": []
    },
    {
      "cell_type": "code",
      "metadata": {
        "colab": {
          "base_uri": "https://localhost:8080/"
        },
        "id": "Z04ozd0wNsfm",
        "outputId": "06bf651c-83b2-45b3-efe7-a340e727bf46"
      },
      "source": [
        "history = model.fit(train_seq, train_lab, epochs=50, batch_size=16,\n",
        "                    validation_data=(val_seq, val_lab))"
      ],
      "execution_count": 312,
      "outputs": [
        {
          "output_type": "stream",
          "text": [
            "Epoch 1/50\n",
            "5/5 [==============================] - 1s 59ms/step - loss: 0.8413 - accuracy: 0.5995 - val_loss: 0.6157 - val_accuracy: 0.9167\n",
            "Epoch 2/50\n",
            "5/5 [==============================] - 0s 14ms/step - loss: 0.3113 - accuracy: 0.8987 - val_loss: 0.6091 - val_accuracy: 0.9167\n",
            "Epoch 3/50\n",
            "5/5 [==============================] - 0s 16ms/step - loss: 0.3664 - accuracy: 0.8817 - val_loss: 0.6477 - val_accuracy: 0.9167\n",
            "Epoch 4/50\n",
            "5/5 [==============================] - 0s 13ms/step - loss: 0.2687 - accuracy: 0.9172 - val_loss: 0.6982 - val_accuracy: 0.4167\n",
            "Epoch 5/50\n",
            "5/5 [==============================] - 0s 12ms/step - loss: 0.2142 - accuracy: 0.9329 - val_loss: 0.7664 - val_accuracy: 0.0833\n",
            "Epoch 6/50\n",
            "5/5 [==============================] - 0s 12ms/step - loss: 0.2221 - accuracy: 0.9103 - val_loss: 0.8412 - val_accuracy: 0.0833\n",
            "Epoch 7/50\n",
            "5/5 [==============================] - 0s 12ms/step - loss: 0.2393 - accuracy: 0.8788 - val_loss: 0.9145 - val_accuracy: 0.0833\n",
            "Epoch 8/50\n",
            "5/5 [==============================] - 0s 12ms/step - loss: 0.1457 - accuracy: 0.9508 - val_loss: 0.9836 - val_accuracy: 0.0833\n",
            "Epoch 9/50\n",
            "5/5 [==============================] - 0s 13ms/step - loss: 0.1868 - accuracy: 0.9363 - val_loss: 1.0540 - val_accuracy: 0.0833\n",
            "Epoch 10/50\n",
            "5/5 [==============================] - 0s 14ms/step - loss: 0.1218 - accuracy: 0.9236 - val_loss: 1.1222 - val_accuracy: 0.0833\n",
            "Epoch 11/50\n",
            "5/5 [==============================] - 0s 13ms/step - loss: 0.2370 - accuracy: 0.8872 - val_loss: 1.1915 - val_accuracy: 0.0833\n",
            "Epoch 12/50\n",
            "5/5 [==============================] - 0s 13ms/step - loss: 0.1697 - accuracy: 0.9048 - val_loss: 1.2560 - val_accuracy: 0.0833\n",
            "Epoch 13/50\n",
            "5/5 [==============================] - 0s 13ms/step - loss: 0.0848 - accuracy: 0.9589 - val_loss: 1.3187 - val_accuracy: 0.0833\n",
            "Epoch 14/50\n",
            "5/5 [==============================] - 0s 14ms/step - loss: 0.1786 - accuracy: 0.9352 - val_loss: 1.3828 - val_accuracy: 0.0833\n",
            "Epoch 15/50\n",
            "5/5 [==============================] - 0s 14ms/step - loss: 0.1130 - accuracy: 0.9470 - val_loss: 1.4474 - val_accuracy: 0.0833\n",
            "Epoch 16/50\n",
            "5/5 [==============================] - 0s 14ms/step - loss: 0.0952 - accuracy: 0.9557 - val_loss: 1.5127 - val_accuracy: 0.0833\n",
            "Epoch 17/50\n",
            "5/5 [==============================] - 0s 13ms/step - loss: 0.0870 - accuracy: 0.9661 - val_loss: 1.5808 - val_accuracy: 0.0833\n",
            "Epoch 18/50\n",
            "5/5 [==============================] - 0s 13ms/step - loss: 0.1209 - accuracy: 0.9187 - val_loss: 1.6528 - val_accuracy: 0.0833\n",
            "Epoch 19/50\n",
            "5/5 [==============================] - 0s 15ms/step - loss: 0.1105 - accuracy: 0.9618 - val_loss: 1.7235 - val_accuracy: 0.0833\n",
            "Epoch 20/50\n",
            "5/5 [==============================] - 0s 15ms/step - loss: 0.1115 - accuracy: 0.9505 - val_loss: 1.7850 - val_accuracy: 0.0833\n",
            "Epoch 21/50\n",
            "5/5 [==============================] - 0s 14ms/step - loss: 0.1578 - accuracy: 0.9057 - val_loss: 1.8599 - val_accuracy: 0.0833\n",
            "Epoch 22/50\n",
            "5/5 [==============================] - 0s 14ms/step - loss: 0.0845 - accuracy: 0.9578 - val_loss: 1.9416 - val_accuracy: 0.0833\n",
            "Epoch 23/50\n",
            "5/5 [==============================] - 0s 15ms/step - loss: 0.0572 - accuracy: 0.9737 - val_loss: 2.0139 - val_accuracy: 0.0833\n",
            "Epoch 24/50\n",
            "5/5 [==============================] - 0s 15ms/step - loss: 0.0674 - accuracy: 0.9786 - val_loss: 2.0707 - val_accuracy: 0.0833\n",
            "Epoch 25/50\n",
            "5/5 [==============================] - 0s 13ms/step - loss: 0.0582 - accuracy: 0.9835 - val_loss: 2.1146 - val_accuracy: 0.0833\n",
            "Epoch 26/50\n",
            "5/5 [==============================] - 0s 12ms/step - loss: 0.0777 - accuracy: 0.9575 - val_loss: 2.1621 - val_accuracy: 0.0833\n",
            "Epoch 27/50\n",
            "5/5 [==============================] - 0s 16ms/step - loss: 0.0623 - accuracy: 1.0000 - val_loss: 2.2119 - val_accuracy: 0.0833\n",
            "Epoch 28/50\n",
            "5/5 [==============================] - 0s 13ms/step - loss: 0.0791 - accuracy: 0.9734 - val_loss: 2.2747 - val_accuracy: 0.0833\n",
            "Epoch 29/50\n",
            "5/5 [==============================] - 0s 13ms/step - loss: 0.0458 - accuracy: 0.9737 - val_loss: 2.3272 - val_accuracy: 0.0833\n",
            "Epoch 30/50\n",
            "5/5 [==============================] - 0s 13ms/step - loss: 0.0374 - accuracy: 0.9795 - val_loss: 2.3703 - val_accuracy: 0.0833\n",
            "Epoch 31/50\n",
            "5/5 [==============================] - 0s 13ms/step - loss: 0.0315 - accuracy: 0.9928 - val_loss: 2.4178 - val_accuracy: 0.0833\n",
            "Epoch 32/50\n",
            "5/5 [==============================] - 0s 14ms/step - loss: 0.0292 - accuracy: 1.0000 - val_loss: 2.4596 - val_accuracy: 0.0833\n",
            "Epoch 33/50\n",
            "5/5 [==============================] - 0s 13ms/step - loss: 0.0958 - accuracy: 0.9578 - val_loss: 2.4984 - val_accuracy: 0.0833\n",
            "Epoch 34/50\n",
            "5/5 [==============================] - 0s 13ms/step - loss: 0.0364 - accuracy: 1.0000 - val_loss: 2.5293 - val_accuracy: 0.0833\n",
            "Epoch 35/50\n",
            "5/5 [==============================] - 0s 13ms/step - loss: 0.0429 - accuracy: 0.9841 - val_loss: 2.5896 - val_accuracy: 0.0833\n",
            "Epoch 36/50\n",
            "5/5 [==============================] - 0s 14ms/step - loss: 0.0185 - accuracy: 1.0000 - val_loss: 2.6413 - val_accuracy: 0.0833\n",
            "Epoch 37/50\n",
            "5/5 [==============================] - 0s 13ms/step - loss: 0.0312 - accuracy: 0.9841 - val_loss: 2.6729 - val_accuracy: 0.0833\n",
            "Epoch 38/50\n",
            "5/5 [==============================] - 0s 12ms/step - loss: 0.0186 - accuracy: 1.0000 - val_loss: 2.6968 - val_accuracy: 0.0833\n",
            "Epoch 39/50\n",
            "5/5 [==============================] - 0s 12ms/step - loss: 0.0145 - accuracy: 1.0000 - val_loss: 2.7147 - val_accuracy: 0.0833\n",
            "Epoch 40/50\n",
            "5/5 [==============================] - 0s 13ms/step - loss: 0.0313 - accuracy: 1.0000 - val_loss: 2.7323 - val_accuracy: 0.0833\n",
            "Epoch 41/50\n",
            "5/5 [==============================] - 0s 15ms/step - loss: 0.0211 - accuracy: 1.0000 - val_loss: 2.7568 - val_accuracy: 0.0833\n",
            "Epoch 42/50\n",
            "5/5 [==============================] - 0s 17ms/step - loss: 0.0109 - accuracy: 1.0000 - val_loss: 2.7851 - val_accuracy: 0.0833\n",
            "Epoch 43/50\n",
            "5/5 [==============================] - 0s 13ms/step - loss: 0.0213 - accuracy: 1.0000 - val_loss: 2.8103 - val_accuracy: 0.0833\n",
            "Epoch 44/50\n",
            "5/5 [==============================] - 0s 13ms/step - loss: 0.0070 - accuracy: 1.0000 - val_loss: 2.8391 - val_accuracy: 0.0833\n",
            "Epoch 45/50\n",
            "5/5 [==============================] - 0s 15ms/step - loss: 0.0213 - accuracy: 0.9841 - val_loss: 2.8881 - val_accuracy: 0.0833\n",
            "Epoch 46/50\n",
            "5/5 [==============================] - 0s 14ms/step - loss: 0.0276 - accuracy: 1.0000 - val_loss: 2.9250 - val_accuracy: 0.0833\n",
            "Epoch 47/50\n",
            "5/5 [==============================] - 0s 12ms/step - loss: 0.0250 - accuracy: 1.0000 - val_loss: 2.9835 - val_accuracy: 0.0833\n",
            "Epoch 48/50\n",
            "5/5 [==============================] - 0s 13ms/step - loss: 0.0069 - accuracy: 1.0000 - val_loss: 3.0322 - val_accuracy: 0.0833\n",
            "Epoch 49/50\n",
            "5/5 [==============================] - 0s 12ms/step - loss: 0.0155 - accuracy: 1.0000 - val_loss: 3.0582 - val_accuracy: 0.0833\n",
            "Epoch 50/50\n",
            "5/5 [==============================] - 0s 12ms/step - loss: 0.0158 - accuracy: 1.0000 - val_loss: 3.0810 - val_accuracy: 0.0833\n"
          ],
          "name": "stdout"
        }
      ]
    },
    {
      "cell_type": "code",
      "metadata": {
        "colab": {
          "base_uri": "https://localhost:8080/",
          "height": 499
        },
        "id": "I7USoOtCe3sO",
        "outputId": "94403d12-81b5-49c3-ceb9-5ab69def0171"
      },
      "source": [
        "acc = history.history['accuracy']\n",
        "val_acc = history.history['val_accuracy']\n",
        "loss = history.history['loss']\n",
        "val_loss = history.history['val_loss']\n",
        "\n",
        "epochs_range = range(50)\n",
        "\n",
        "plt.figure(figsize=(8, 8))\n",
        "plt.subplot(1, 2, 1)\n",
        "plt.plot(epochs_range, acc, label='Training Accuracy')\n",
        "plt.plot(epochs_range, val_acc, label='Validation Accuracy')\n",
        "plt.legend(loc='lower right')\n",
        "plt.title('off_target_before_CNN_293r')\n",
        "\n",
        "plt.subplot(1, 2, 2)\n",
        "plt.plot(epochs_range, loss, label='Training Loss')\n",
        "plt.plot(epochs_range, val_loss, label='Validation Loss')\n",
        "plt.legend(loc='upper right')\n",
        "plt.title('off_target_before_CNN_293r')\n",
        "plt.show()"
      ],
      "execution_count": 313,
      "outputs": [
        {
          "output_type": "display_data",
          "data": {
            "image/png": "[encoded data removed]",
            "text/plain": [
              "<Figure size 576x576 with 2 Axes>"
            ]
          },
          "metadata": {
            "tags": [],
            "needs_background": "light"
          }
        }
      ]
    },
    {
      "cell_type": "code",
      "metadata": {
        "colab": {
          "base_uri": "https://localhost:8080/"
        },
        "id": "NzLHiYbNfVfX",
        "outputId": "7f254fab-ceaa-428f-bde5-c5925af4a82d"
      },
      "source": [
        "test_loss, test_acc = model.evaluate(Ntest_seq, Ntest_lab, verbose=2)"
      ],
      "execution_count": 314,
      "outputs": [
        {
          "output_type": "stream",
          "text": [
            "2/2 - 0s - loss: 2.8335 - accuracy: 0.0857\n"
          ],
          "name": "stdout"
        }
      ]
    },
    {
      "cell_type": "code",
      "metadata": {
        "id": "bifAL9U3MEy-"
      },
      "source": [
        "pred_pro=model.predict(Ntest_seq) #计算概率"
      ],
      "execution_count": 315,
      "outputs": []
    },
    {
      "cell_type": "code",
      "metadata": {
        "colab": {
          "base_uri": "https://localhost:8080/"
        },
        "id": "C7alJ6DxkvFE",
        "outputId": "924e8162-b956-42b9-da10-a885ef6bcf34"
      },
      "source": [
        "pred_pro.shape"
      ],
      "execution_count": 316,
      "outputs": [
        {
          "output_type": "execute_result",
          "data": {
            "text/plain": [
              "(35, 2)"
            ]
          },
          "metadata": {
            "tags": []
          },
          "execution_count": 316
        }
      ]
    },
    {
      "cell_type": "code",
      "metadata": {
        "colab": {
          "base_uri": "https://localhost:8080/",
          "height": 283
        },
        "id": "Hpvqy8Jky6CJ",
        "outputId": "18864592-3cf7-4a09-8b36-1a9028fedd3b"
      },
      "source": [
        "# ROC曲线（假正类率(fpr)/真正类率(tpr)）\n",
        "from sklearn.metrics import roc_curve\n",
        "fpr , tpr , thresholds = roc_curve(Ntest_lab,pred_pro[:,1])  # 计算多种阈值的TPR和FPR\n",
        "\n",
        "\n",
        "def plot_roc_curve(fpr,tpr,label=None):\n",
        "    plt.plot(fpr,tpr,'b--',linewidth=2,label=label)\n",
        "    plt.plot([0,1],[0,1],'k--')\n",
        "    plt.axis([0,1,0,1])\n",
        "    plt.xlabel('Fales Positive Rate')\n",
        "    plt.ylabel('True Positive Rate')\n",
        "\n",
        "\n",
        "plot_roc_curve(fpr,tpr)\n",
        "plt.show()"
      ],
      "execution_count": 317,
      "outputs": [
        {
          "output_type": "display_data",
          "data": {
            "image/png": "[encoded data removed]",
            "text/plain": [
              "<Figure size 432x288 with 1 Axes>"
            ]
          },
          "metadata": {
            "tags": [],
            "needs_background": "light"
          }
        }
      ]
    },
    {
      "cell_type": "code",
      "metadata": {
        "id": "OYtx3EXaVCRt"
      },
      "source": [
        "# ROC曲线下面积AUC\n",
        "from sklearn.metrics import roc_auc_score\n",
        "AUC=str(roc_auc_score(Ntest_lab,pred_pro[:,1]))"
      ],
      "execution_count": 319,
      "outputs": []
    },
    {
      "cell_type": "code",
      "metadata": {
        "colab": {
          "base_uri": "https://localhost:8080/",
          "height": 35
        },
        "id": "A1B9pwxAKvUx",
        "outputId": "11e13ab6-29d6-4d5a-d149-b7c8e830ec22"
      },
      "source": [
        "AUC"
      ],
      "execution_count": 320,
      "outputs": [
        {
          "output_type": "execute_result",
          "data": {
            "application/vnd.google.colaboratory.intrinsic+json": {
              "type": "string"
            },
            "text/plain": [
              "'0.8229166666666666'"
            ]
          },
          "metadata": {
            "tags": []
          },
          "execution_count": 320
        }
      ]
    },
    {
      "cell_type": "code",
      "metadata": {
        "colab": {
          "base_uri": "https://localhost:8080/"
        },
        "id": "ivTDOtksF3Op",
        "outputId": "3be281d2-6d08-49cf-ae5b-43dd1703d391"
      },
      "source": [
        "listnew=[list(fpr),list(tpr)]\n",
        "listnew[0]"
      ],
      "execution_count": 321,
      "outputs": [
        {
          "output_type": "execute_result",
          "data": {
            "text/plain": [
              "[0.0, 0.03125, 0.0625, 0.0625, 0.40625, 0.40625, 0.90625, 0.96875, 1.0]"
            ]
          },
          "metadata": {
            "tags": []
          },
          "execution_count": 321
        }
      ]
    },
    {
      "cell_type": "code",
      "metadata": {
        "id": "5pOgte10pWu4"
      },
      "source": [
        "def savedata2D(list1,filepath,test_acc,AUC):\n",
        "    output = open(filepath,'w+',encoding='utf-8')\n",
        "    for i in range(len(list1)):\n",
        "        for j in range(len(list1[i])):\n",
        "                output.write(str(list1[i][j]))    \n",
        "                output.write('\\t')   \n",
        "        output.write('\\n')\n",
        "    #output.write(AUC)\n",
        "    #output.write('\\n')\n",
        "    #output.write(str(test_acc))\n",
        "    #output.write('\\n')\n",
        "    output.close()"
      ],
      "execution_count": 322,
      "outputs": []
    },
    {
      "cell_type": "code",
      "metadata": {
        "id": "Ml6mTcKKIKj7"
      },
      "source": [
        "fp1='/content/data_ROC_293r_after.txt'\n",
        "fp2='/content/data_ROC_293r_before.txt'\n",
        "fp3='/content/data_ROC_K562_after.txt'\n",
        "fp4='/content/data_ROC_K562_before.txt'\n"
      ],
      "execution_count": 355,
      "outputs": []
    },
    {
      "cell_type": "code",
      "metadata": {
        "id": "d_PDe-SAN6Vj"
      },
      "source": [
        "listA=np.loadtxt(fp1)\n",
        "listB=np.loadtxt(fp2)\n",
        "listC=np.loadtxt(fp3)\n",
        "listD=np.loadtxt(fp4)"
      ],
      "execution_count": 356,
      "outputs": []
    },
    {
      "cell_type": "code",
      "metadata": {
        "id": "ETn7ZqQKS9n_"
      },
      "source": [
        "# 绘制前后变化\n",
        "def plot_roc_curve2(fpr1,tpr1,fpr2,tpr2,label1,label2,title):\n",
        "    plt.plot(fpr1,tpr1,'r--',linewidth=2,label=label1)\n",
        "    plt.plot(fpr2,tpr2,'g--',linewidth=2,label=label2)\n",
        "    plt.plot([0,1],[0,1],'k--')\n",
        "    plt.axis([0,1,0,1])\n",
        "    plt.xlabel('Fales Positive Rate')\n",
        "    plt.ylabel('True Positive Rate')\n",
        "\n",
        "    plt.legend(loc='upper right')\n",
        "    plt.title(title)"
      ],
      "execution_count": 357,
      "outputs": []
    },
    {
      "cell_type": "code",
      "metadata": {
        "colab": {
          "base_uri": "https://localhost:8080/",
          "height": 295
        },
        "id": "QXMn9qZOUdSf",
        "outputId": "e8ac2522-c2da-404f-8206-3c8e99b7a204"
      },
      "source": [
        "plt.subplot(1, 2, 1)\n",
        "title1='ROC curve of 293r off-target data'\n",
        "plot_roc_curve2(listB[0],listB[1],listA[0],listA[1],'before','after',title1)\n",
        "plt.subplot(1, 2, 2)\n",
        "title2='ROC curve of K562 off-target data'\n",
        "plot_roc_curve2(listD[0],listD[1],listC[0],listC[1],'before','after',title2)\n",
        "plt.show()"
      ],
      "execution_count": 359,
      "outputs": [
        {
          "output_type": "display_data",
          "data": {
            "image/png": "[encoded data removed]",
            "text/plain": [
              "<Figure size 432x288 with 2 Axes>"
            ]
          },
          "metadata": {
            "tags": [],
            "needs_background": "light"
          }
        }
      ]
    },
    {
      "cell_type": "code",
      "metadata": {
        "colab": {
          "base_uri": "https://localhost:8080/"
        },
        "id": "MbB4uowQUUAe",
        "outputId": "fc2f260e-4d25-40ed-bcf8-01905e0d0ed6"
      },
      "source": [
        "print(test_acc)"
      ],
      "execution_count": 325,
      "outputs": [
        {
          "output_type": "stream",
          "text": [
            "0.08571428805589676\n"
          ],
          "name": "stdout"
        }
      ]
    },
    {
      "cell_type": "code",
      "metadata": {
        "id": "mH0YpqDsd7ZG"
      },
      "source": [
        "# 保存模型\n",
        "#model.save('/content/model_trained_before_K562_cnn.h5') "
      ],
      "execution_count": 326,
      "outputs": []
    },
    {
      "cell_type": "code",
      "metadata": {
        "id": "oPCnIXbGeXg9"
      },
      "source": [
        "# 加载模型，同时加载了模型的结构、权重等信息\n",
        "#loaded_model = tf.keras.models.load_model('/content/model_trained_before_K562_cnn.h5')"
      ],
      "execution_count": 327,
      "outputs": []
    }
  ]
}