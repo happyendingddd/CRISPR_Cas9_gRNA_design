{
  "nbformat": 4,
  "nbformat_minor": 0,
  "metadata": {
    "colab": {
      "name": "CNN_off_target.ipynb",
      "provenance": [],
      "collapsed_sections": [],
      "authorship_tag": "ABX9TyPUmMD9khLkUdLW7RaehH17",
      "include_colab_link": true
    },
    "kernelspec": {
      "name": "python3",
      "display_name": "Python 3"
    },
    "language_info": {
      "name": "python"
    }
  },
  "cells": [
    {
      "cell_type": "markdown",
      "metadata": {
        "id": "view-in-github",
        "colab_type": "text"
      },
      "source": [
        "<a href=\"https://colab.research.google.com/github/happyendingddd/CRISPR_Cas9_gRNA_design/blob/main/CNN_off_target.ipynb\" target=\"_parent\"><img src=\"https://colab.research.google.com/assets/colab-badge.svg\" alt=\"Open In Colab\"/></a>"
      ]
    },
    {
      "cell_type": "code",
      "metadata": {
        "id": "MPDIloPHJLDm"
      },
      "source": [
        "import tensorflow as tf\n",
        "\n",
        "import pandas as pd\n",
        "import numpy as np\n",
        "from tensorflow.keras import layers\n",
        "import matplotlib.pyplot as plt"
      ],
      "execution_count": 137,
      "outputs": []
    },
    {
      "cell_type": "code",
      "metadata": {
        "id": "oAsslLtrRhcS"
      },
      "source": [
        "# 数据导入1\n",
        "file_path='/content/merge_ot_sgRNA_293r_binary.csv'\n",
        "data_read=pd.read_csv(file_path,sep=',')\n",
        "otSeq=np.array(data_read['OT'])\n",
        "guideSeq=np.array(data_read['Target sgRNA'])\n",
        "labels=np.array(data_read['Cleavage Frequency'])"
      ],
      "execution_count": 138,
      "outputs": []
    },
    {
      "cell_type": "code",
      "metadata": {
        "id": "Ig37f_0tiZ5t"
      },
      "source": [
        "# 数据导入2（已经是编码形式）\n",
        "num_read=guideSeq.shape[0]\n",
        "seqdata_gP=np.load('/content/generated_ot_sgRNA_code_293r_positive.npy')[0:num_read-1]\n",
        "seqdata_gN=np.load('/content/generated_ot_sgRNA_code_293r_negetive.npy')[0:num_read-1]\n",
        "seqdata_g=np.vstack([seqdata_gP,seqdata_gN])\n",
        "labels_gP=np.zeros(seqdata_gP.shape[0])+1\n",
        "labels_gN=np.zeros(seqdata_gN.shape[0])\n",
        "labels_g=np.r_[labels_gP,labels_gN]\n",
        "labels_all=np.r_[labels,labels_g]"
      ],
      "execution_count": 139,
      "outputs": []
    },
    {
      "cell_type": "code",
      "metadata": {
        "id": "sUJpJOe6Xh0T"
      },
      "source": [
        "# 0ne_hot编码\n",
        "ntmap = {'A': (1, 0, 0, 0),\n",
        "         'C': (0, 1, 0, 0),\n",
        "         'G': (0, 0, 1, 0),\n",
        "         'T': (0, 0, 0, 1)\n",
        "         }\n",
        "\n",
        "def get_seqcode(seq):\n",
        "    return list(map(lambda c: ntmap[c], seq))\n",
        "\n",
        "def oneHotcoding(Seq):\n",
        "    n=0\n",
        "    for seq in Seq:\n",
        "        if n==0:\n",
        "            SeqcodeL=[]\n",
        "        seqcode=get_seqcode(seq)\n",
        "        n+=1\n",
        "        SeqcodeL.append(seqcode)\n",
        "        seqcode=[]\n",
        "        SeqcodeA=np.array(SeqcodeL)\n",
        "    return SeqcodeA"
      ],
      "execution_count": 140,
      "outputs": []
    },
    {
      "cell_type": "code",
      "metadata": {
        "id": "l4eR5tvcRkhV"
      },
      "source": [
        "# OR算子编码sgRNA-DNA\n",
        "def OR(a,b):\n",
        "    ab=np.zeros([a.shape[0],a.shape[1]])\n",
        "    for i in range(a.shape[0]):\n",
        "        for j in range(a.shape[1]):\n",
        "            if a[i][j] != b[i][j]:\n",
        "                ab[i][j]=a[i][j]+b[i][j]\n",
        "            else:\n",
        "                ab[i][j]=a[i][j]\n",
        "    return ab"
      ],
      "execution_count": 141,
      "outputs": []
    },
    {
      "cell_type": "code",
      "metadata": {
        "id": "aQfjTbR6csQA"
      },
      "source": [
        "# 编码\n",
        "guidecode=oneHotcoding(guideSeq)\n",
        "otcode=oneHotcoding(otSeq)\n",
        "guide_ot_code=np.zeros((guidecode.shape[0],guidecode.shape[1],guidecode.shape[2]))\n",
        "for i in range(len(guidecode)):\n",
        "    guide_ot_code[i]=OR(guidecode[i],otcode[i])"
      ],
      "execution_count": 142,
      "outputs": []
    },
    {
      "cell_type": "code",
      "metadata": {
        "colab": {
          "base_uri": "https://localhost:8080/"
        },
        "id": "PBlEUwKweQhE",
        "outputId": "a70944d7-ae73-48bf-b092-9b1be867970f"
      },
      "source": [
        "seqdata=guide_ot_code\n",
        "seqdata_all=np.vstack([seqdata,seqdata_g])\n",
        "print(seqdata_all.shape)"
      ],
      "execution_count": 143,
      "outputs": [
        {
          "output_type": "stream",
          "text": [
            "(1606, 23, 4)\n"
          ],
          "name": "stdout"
        }
      ]
    },
    {
      "cell_type": "code",
      "metadata": {
        "id": "fgztcQI0ZES9"
      },
      "source": [
        "from sklearn.model_selection import train_test_split\n",
        "train_seq,test_seq,train_lab,test_lab=train_test_split(seqdata_all,labels_all,train_size = 0.75,random_state=14,stratify=labels_all)"
      ],
      "execution_count": 144,
      "outputs": []
    },
    {
      "cell_type": "code",
      "metadata": {
        "colab": {
          "base_uri": "https://localhost:8080/"
        },
        "id": "579mL7Rsb-NO",
        "outputId": "65622864-6775-4455-c971-5e663867c258"
      },
      "source": [
        "train_seq.shape"
      ],
      "execution_count": 145,
      "outputs": [
        {
          "output_type": "execute_result",
          "data": {
            "text/plain": [
              "(1204, 23, 4)"
            ]
          },
          "metadata": {
            "tags": []
          },
          "execution_count": 145
        }
      ]
    },
    {
      "cell_type": "code",
      "metadata": {
        "id": "yRdwI4H4J6GM"
      },
      "source": [
        "def CNN_model():\n",
        "  model = tf.keras.Sequential()\n",
        "  \n",
        "  model.add(layers.Conv1D(16, 3, padding='same', activation='relu', input_shape=(23,4)))\n",
        "  model.add(layers.BatchNormalization())\n",
        "  model.add(layers.LeakyReLU())\n",
        "  model.add(layers.Dropout(0.3))\n",
        "\n",
        "  model.add(layers.Conv1D(64, 3,padding='same', activation='relu'))\n",
        "  model.add(layers.BatchNormalization())\n",
        "  model.add(layers.LeakyReLU())\n",
        "  model.add(layers.Dropout(0.3))\n",
        "\n",
        "  model.add(layers.Conv1D(64, 3,padding='same', activation='relu'))\n",
        "  model.add(layers.BatchNormalization())\n",
        "  model.add(layers.LeakyReLU())\n",
        "  model.add(layers.Dropout(0.3))\n",
        "\n",
        "  model.add(layers.Flatten())\n",
        "  model.add(layers.Dense(16, activation='relu'))\n",
        "  model.add(layers.Dense(2))\n",
        "\n",
        "  return model"
      ],
      "execution_count": 146,
      "outputs": []
    },
    {
      "cell_type": "code",
      "metadata": {
        "id": "NaSwu0mpR2MR",
        "colab": {
          "base_uri": "https://localhost:8080/"
        },
        "outputId": "7e45c1be-7ce5-4599-d213-3a0bc9b1de01"
      },
      "source": [
        "model=CNN_model()\n",
        "model.summary()"
      ],
      "execution_count": 147,
      "outputs": [
        {
          "output_type": "stream",
          "text": [
            "Model: \"sequential_6\"\n",
            "_________________________________________________________________\n",
            "Layer (type)                 Output Shape              Param #   \n",
            "=================================================================\n",
            "conv1d_18 (Conv1D)           (None, 23, 16)            208       \n",
            "_________________________________________________________________\n",
            "batch_normalization_18 (Batc (None, 23, 16)            64        \n",
            "_________________________________________________________________\n",
            "leaky_re_lu_18 (LeakyReLU)   (None, 23, 16)            0         \n",
            "_________________________________________________________________\n",
            "dropout_18 (Dropout)         (None, 23, 16)            0         \n",
            "_________________________________________________________________\n",
            "conv1d_19 (Conv1D)           (None, 23, 64)            3136      \n",
            "_________________________________________________________________\n",
            "batch_normalization_19 (Batc (None, 23, 64)            256       \n",
            "_________________________________________________________________\n",
            "leaky_re_lu_19 (LeakyReLU)   (None, 23, 64)            0         \n",
            "_________________________________________________________________\n",
            "dropout_19 (Dropout)         (None, 23, 64)            0         \n",
            "_________________________________________________________________\n",
            "conv1d_20 (Conv1D)           (None, 23, 64)            12352     \n",
            "_________________________________________________________________\n",
            "batch_normalization_20 (Batc (None, 23, 64)            256       \n",
            "_________________________________________________________________\n",
            "leaky_re_lu_20 (LeakyReLU)   (None, 23, 64)            0         \n",
            "_________________________________________________________________\n",
            "dropout_20 (Dropout)         (None, 23, 64)            0         \n",
            "_________________________________________________________________\n",
            "flatten_6 (Flatten)          (None, 1472)              0         \n",
            "_________________________________________________________________\n",
            "dense_12 (Dense)             (None, 16)                23568     \n",
            "_________________________________________________________________\n",
            "dense_13 (Dense)             (None, 2)                 34        \n",
            "=================================================================\n",
            "Total params: 39,874\n",
            "Trainable params: 39,586\n",
            "Non-trainable params: 288\n",
            "_________________________________________________________________\n"
          ],
          "name": "stdout"
        }
      ]
    },
    {
      "cell_type": "code",
      "metadata": {
        "id": "2WewlvP6SLbc"
      },
      "source": [
        "model.compile(optimizer='adam',\n",
        "              loss=tf.keras.losses.SparseCategoricalCrossentropy(from_logits=True),\n",
        "              metrics=['accuracy'])"
      ],
      "execution_count": 148,
      "outputs": []
    },
    {
      "cell_type": "code",
      "metadata": {
        "colab": {
          "base_uri": "https://localhost:8080/"
        },
        "id": "NOE2_ENw4rHk",
        "outputId": "76c51315-8de9-480e-a47d-6ae75f2aa05a"
      },
      "source": [
        "print(type(test_seq))\n",
        "print(test_seq.shape)\n",
        "# 使用原始数据作为test"
      ],
      "execution_count": 149,
      "outputs": [
        {
          "output_type": "stream",
          "text": [
            "<class 'numpy.ndarray'>\n",
            "(402, 23, 4)\n"
          ],
          "name": "stdout"
        }
      ]
    },
    {
      "cell_type": "code",
      "metadata": {
        "colab": {
          "base_uri": "https://localhost:8080/"
        },
        "id": "Z04ozd0wNsfm",
        "outputId": "52eb8e6a-e206-4e13-dbbc-0f2fd5ee317f"
      },
      "source": [
        "history = model.fit(train_seq, train_lab, epochs=50, batch_size=16,\n",
        "                    validation_data=(test_seq, test_lab))"
      ],
      "execution_count": 150,
      "outputs": [
        {
          "output_type": "stream",
          "text": [
            "Epoch 1/50\n",
            "76/76 [==============================] - 2s 11ms/step - loss: 0.7143 - accuracy: 0.6669 - val_loss: 0.6448 - val_accuracy: 0.7935\n",
            "Epoch 2/50\n",
            "76/76 [==============================] - 1s 8ms/step - loss: 0.3655 - accuracy: 0.8212 - val_loss: 0.5864 - val_accuracy: 0.8259\n",
            "Epoch 3/50\n",
            "76/76 [==============================] - 1s 8ms/step - loss: 0.3228 - accuracy: 0.8261 - val_loss: 0.4664 - val_accuracy: 0.8458\n",
            "Epoch 4/50\n",
            "76/76 [==============================] - 1s 8ms/step - loss: 0.2736 - accuracy: 0.8664 - val_loss: 0.3439 - val_accuracy: 0.8632\n",
            "Epoch 5/50\n",
            "76/76 [==============================] - 1s 8ms/step - loss: 0.3047 - accuracy: 0.8276 - val_loss: 0.2848 - val_accuracy: 0.8632\n",
            "Epoch 6/50\n",
            "76/76 [==============================] - 1s 8ms/step - loss: 0.2579 - accuracy: 0.8558 - val_loss: 0.2620 - val_accuracy: 0.8607\n",
            "Epoch 7/50\n",
            "76/76 [==============================] - 1s 8ms/step - loss: 0.2461 - accuracy: 0.8683 - val_loss: 0.2495 - val_accuracy: 0.8632\n",
            "Epoch 8/50\n",
            "76/76 [==============================] - 1s 8ms/step - loss: 0.2254 - accuracy: 0.8833 - val_loss: 0.2439 - val_accuracy: 0.8706\n",
            "Epoch 9/50\n",
            "76/76 [==============================] - 1s 8ms/step - loss: 0.2311 - accuracy: 0.8673 - val_loss: 0.2319 - val_accuracy: 0.8781\n",
            "Epoch 10/50\n",
            "76/76 [==============================] - 1s 7ms/step - loss: 0.2259 - accuracy: 0.8932 - val_loss: 0.2331 - val_accuracy: 0.8632\n",
            "Epoch 11/50\n",
            "76/76 [==============================] - 1s 8ms/step - loss: 0.2223 - accuracy: 0.8797 - val_loss: 0.2314 - val_accuracy: 0.8806\n",
            "Epoch 12/50\n",
            "76/76 [==============================] - 1s 7ms/step - loss: 0.2177 - accuracy: 0.9005 - val_loss: 0.2325 - val_accuracy: 0.8806\n",
            "Epoch 13/50\n",
            "76/76 [==============================] - 1s 8ms/step - loss: 0.2463 - accuracy: 0.8605 - val_loss: 0.2335 - val_accuracy: 0.8881\n",
            "Epoch 14/50\n",
            "76/76 [==============================] - 1s 8ms/step - loss: 0.2022 - accuracy: 0.8916 - val_loss: 0.2297 - val_accuracy: 0.8955\n",
            "Epoch 15/50\n",
            "76/76 [==============================] - 1s 7ms/step - loss: 0.2131 - accuracy: 0.9040 - val_loss: 0.2421 - val_accuracy: 0.8682\n",
            "Epoch 16/50\n",
            "76/76 [==============================] - 1s 8ms/step - loss: 0.2145 - accuracy: 0.8800 - val_loss: 0.2386 - val_accuracy: 0.8706\n",
            "Epoch 17/50\n",
            "76/76 [==============================] - 1s 8ms/step - loss: 0.2201 - accuracy: 0.8828 - val_loss: 0.2386 - val_accuracy: 0.8881\n",
            "Epoch 18/50\n",
            "76/76 [==============================] - 1s 8ms/step - loss: 0.2181 - accuracy: 0.8825 - val_loss: 0.2254 - val_accuracy: 0.8905\n",
            "Epoch 19/50\n",
            "76/76 [==============================] - 1s 8ms/step - loss: 0.1905 - accuracy: 0.8889 - val_loss: 0.2283 - val_accuracy: 0.8955\n",
            "Epoch 20/50\n",
            "76/76 [==============================] - 1s 8ms/step - loss: 0.1946 - accuracy: 0.8943 - val_loss: 0.2224 - val_accuracy: 0.8930\n",
            "Epoch 21/50\n",
            "76/76 [==============================] - 1s 8ms/step - loss: 0.1897 - accuracy: 0.8929 - val_loss: 0.2268 - val_accuracy: 0.8955\n",
            "Epoch 22/50\n",
            "76/76 [==============================] - 1s 7ms/step - loss: 0.1763 - accuracy: 0.9114 - val_loss: 0.2337 - val_accuracy: 0.8980\n",
            "Epoch 23/50\n",
            "76/76 [==============================] - 1s 8ms/step - loss: 0.2040 - accuracy: 0.8966 - val_loss: 0.2303 - val_accuracy: 0.9080\n",
            "Epoch 24/50\n",
            "76/76 [==============================] - 1s 8ms/step - loss: 0.1779 - accuracy: 0.9085 - val_loss: 0.2272 - val_accuracy: 0.8955\n",
            "Epoch 25/50\n",
            "76/76 [==============================] - 1s 8ms/step - loss: 0.1814 - accuracy: 0.9114 - val_loss: 0.2306 - val_accuracy: 0.8881\n",
            "Epoch 26/50\n",
            "76/76 [==============================] - 1s 8ms/step - loss: 0.1819 - accuracy: 0.9059 - val_loss: 0.2205 - val_accuracy: 0.8731\n",
            "Epoch 27/50\n",
            "76/76 [==============================] - 1s 8ms/step - loss: 0.1798 - accuracy: 0.9005 - val_loss: 0.2253 - val_accuracy: 0.8856\n",
            "Epoch 28/50\n",
            "76/76 [==============================] - 1s 8ms/step - loss: 0.1827 - accuracy: 0.9046 - val_loss: 0.2328 - val_accuracy: 0.8806\n",
            "Epoch 29/50\n",
            "76/76 [==============================] - 1s 8ms/step - loss: 0.1668 - accuracy: 0.9195 - val_loss: 0.2315 - val_accuracy: 0.8881\n",
            "Epoch 30/50\n",
            "76/76 [==============================] - 1s 8ms/step - loss: 0.1714 - accuracy: 0.9108 - val_loss: 0.2356 - val_accuracy: 0.8756\n",
            "Epoch 31/50\n",
            "76/76 [==============================] - 1s 8ms/step - loss: 0.1768 - accuracy: 0.9046 - val_loss: 0.2274 - val_accuracy: 0.8657\n",
            "Epoch 32/50\n",
            "76/76 [==============================] - 1s 8ms/step - loss: 0.1770 - accuracy: 0.9212 - val_loss: 0.2313 - val_accuracy: 0.8756\n",
            "Epoch 33/50\n",
            "76/76 [==============================] - 1s 8ms/step - loss: 0.1694 - accuracy: 0.9126 - val_loss: 0.2405 - val_accuracy: 0.8806\n",
            "Epoch 34/50\n",
            "76/76 [==============================] - 1s 7ms/step - loss: 0.1705 - accuracy: 0.9071 - val_loss: 0.2385 - val_accuracy: 0.8781\n",
            "Epoch 35/50\n",
            "76/76 [==============================] - 1s 8ms/step - loss: 0.1613 - accuracy: 0.9157 - val_loss: 0.2413 - val_accuracy: 0.8806\n",
            "Epoch 36/50\n",
            "76/76 [==============================] - 1s 7ms/step - loss: 0.1657 - accuracy: 0.9166 - val_loss: 0.2387 - val_accuracy: 0.8831\n",
            "Epoch 37/50\n",
            "76/76 [==============================] - 1s 7ms/step - loss: 0.1518 - accuracy: 0.9287 - val_loss: 0.2442 - val_accuracy: 0.8806\n",
            "Epoch 38/50\n",
            "76/76 [==============================] - 1s 8ms/step - loss: 0.1651 - accuracy: 0.9159 - val_loss: 0.2375 - val_accuracy: 0.8831\n",
            "Epoch 39/50\n",
            "76/76 [==============================] - 1s 8ms/step - loss: 0.1430 - accuracy: 0.9357 - val_loss: 0.2367 - val_accuracy: 0.8806\n",
            "Epoch 40/50\n",
            "76/76 [==============================] - 1s 8ms/step - loss: 0.1561 - accuracy: 0.9194 - val_loss: 0.2376 - val_accuracy: 0.8806\n",
            "Epoch 41/50\n",
            "76/76 [==============================] - 1s 7ms/step - loss: 0.1516 - accuracy: 0.9250 - val_loss: 0.2494 - val_accuracy: 0.8831\n",
            "Epoch 42/50\n",
            "76/76 [==============================] - 1s 8ms/step - loss: 0.1287 - accuracy: 0.9359 - val_loss: 0.2506 - val_accuracy: 0.8856\n",
            "Epoch 43/50\n",
            "76/76 [==============================] - 1s 7ms/step - loss: 0.1323 - accuracy: 0.9437 - val_loss: 0.2528 - val_accuracy: 0.8930\n",
            "Epoch 44/50\n",
            "76/76 [==============================] - 1s 7ms/step - loss: 0.1527 - accuracy: 0.9192 - val_loss: 0.2511 - val_accuracy: 0.8930\n",
            "Epoch 45/50\n",
            "76/76 [==============================] - 1s 8ms/step - loss: 0.1464 - accuracy: 0.9328 - val_loss: 0.2630 - val_accuracy: 0.8806\n",
            "Epoch 46/50\n",
            "76/76 [==============================] - 1s 8ms/step - loss: 0.1254 - accuracy: 0.9346 - val_loss: 0.2561 - val_accuracy: 0.8756\n",
            "Epoch 47/50\n",
            "76/76 [==============================] - 1s 7ms/step - loss: 0.1385 - accuracy: 0.9385 - val_loss: 0.2443 - val_accuracy: 0.8881\n",
            "Epoch 48/50\n",
            "76/76 [==============================] - 1s 7ms/step - loss: 0.1700 - accuracy: 0.9250 - val_loss: 0.2602 - val_accuracy: 0.8806\n",
            "Epoch 49/50\n",
            "76/76 [==============================] - 1s 8ms/step - loss: 0.1529 - accuracy: 0.9332 - val_loss: 0.2694 - val_accuracy: 0.8881\n",
            "Epoch 50/50\n",
            "76/76 [==============================] - 1s 8ms/step - loss: 0.1325 - accuracy: 0.9309 - val_loss: 0.2666 - val_accuracy: 0.8731\n"
          ],
          "name": "stdout"
        }
      ]
    },
    {
      "cell_type": "code",
      "metadata": {
        "colab": {
          "base_uri": "https://localhost:8080/",
          "height": 499
        },
        "id": "I7USoOtCe3sO",
        "outputId": "bbea0442-e2c7-45aa-a1c0-84ebcc14ca3f"
      },
      "source": [
        "acc = history.history['accuracy']\n",
        "val_acc = history.history['val_accuracy']\n",
        "loss = history.history['loss']\n",
        "val_loss = history.history['val_loss']\n",
        "\n",
        "epochs_range = range(50)\n",
        "\n",
        "plt.figure(figsize=(8, 8))\n",
        "plt.subplot(1, 2, 1)\n",
        "plt.plot(epochs_range, acc, label='Training Accuracy')\n",
        "plt.plot(epochs_range, val_acc, label='Validation Accuracy')\n",
        "plt.legend(loc='lower right')\n",
        "plt.title('Training and Validation Accuracy')\n",
        "\n",
        "plt.subplot(1, 2, 2)\n",
        "plt.plot(epochs_range, loss, label='Training Loss')\n",
        "plt.plot(epochs_range, val_loss, label='Validation Loss')\n",
        "plt.legend(loc='upper right')\n",
        "plt.title('Training and Validation Loss')\n",
        "plt.show()"
      ],
      "execution_count": 151,
      "outputs": [
        {
          "output_type": "display_data",
          "data": {
            "image/png": "[encoded data removed]",
            "text/plain": [
              "<Figure size 576x576 with 2 Axes>"
            ]
          },
          "metadata": {
            "tags": [],
            "needs_background": "light"
          }
        }
      ]
    },
    {
      "cell_type": "code",
      "metadata": {
        "colab": {
          "base_uri": "https://localhost:8080/"
        },
        "id": "NzLHiYbNfVfX",
        "outputId": "12501824-764e-4d9e-b829-87c955388b2c"
      },
      "source": [
        "test_loss, test_acc = model.evaluate(test_seq,  test_lab, verbose=2)"
      ],
      "execution_count": 152,
      "outputs": [
        {
          "output_type": "stream",
          "text": [
            "13/13 - 0s - loss: 0.2666 - accuracy: 0.8731\n"
          ],
          "name": "stdout"
        }
      ]
    },
    {
      "cell_type": "code",
      "metadata": {
        "colab": {
          "base_uri": "https://localhost:8080/"
        },
        "id": "MbB4uowQUUAe",
        "outputId": "26ee3480-720e-4dc2-a52a-e0030e666523"
      },
      "source": [
        "print(test_acc)\n",
        "#after:293r=0.9825360774993896;K562=0.9555555582046509"
      ],
      "execution_count": 153,
      "outputs": [
        {
          "output_type": "stream",
          "text": [
            "0.8731343150138855\n"
          ],
          "name": "stdout"
        }
      ]
    },
    {
      "cell_type": "code",
      "metadata": {
        "id": "mH0YpqDsd7ZG"
      },
      "source": [
        "# 保存模型\n",
        "model.save('/content/model_trained.h5') \n"
      ],
      "execution_count": 154,
      "outputs": []
    },
    {
      "cell_type": "code",
      "metadata": {
        "id": "oPCnIXbGeXg9"
      },
      "source": [
        "# 加载模型，同时加载了模型的结构、权重等信息\n",
        "loaded_model = tf.keras.models.load_model('/content/model_trained.h5')"
      ],
      "execution_count": 155,
      "outputs": []
    }
  ]
}