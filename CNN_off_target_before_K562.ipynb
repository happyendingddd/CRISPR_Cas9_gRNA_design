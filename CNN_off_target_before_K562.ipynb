{
  "nbformat": 4,
  "nbformat_minor": 0,
  "metadata": {
    "colab": {
      "name": "CNN_off_target_before_K562.ipynb",
      "provenance": [],
      "collapsed_sections": [],
      "authorship_tag": "ABX9TyOdkh2/O0QbeXcPcJ1IaZeJ",
      "include_colab_link": true
    },
    "kernelspec": {
      "name": "python3",
      "display_name": "Python 3"
    },
    "language_info": {
      "name": "python"
    }
  },
  "cells": [
    {
      "cell_type": "markdown",
      "metadata": {
        "id": "view-in-github",
        "colab_type": "text"
      },
      "source": [
        "<a href=\"https://colab.research.google.com/github/happyendingddd/CRISPR_Cas9_gRNA_design/blob/main/CNN_off_target_before_K562.ipynb\" target=\"_parent\"><img src=\"https://colab.research.google.com/assets/colab-badge.svg\" alt=\"Open In Colab\"/></a>"
      ]
    },
    {
      "cell_type": "code",
      "metadata": {
        "id": "MPDIloPHJLDm"
      },
      "source": [
        "import tensorflow as tf\n",
        "\n",
        "import pandas as pd\n",
        "import numpy as np\n",
        "from tensorflow.keras import layers\n",
        "import sklearn\n",
        "import matplotlib.pyplot as plt"
      ],
      "execution_count": 229,
      "outputs": []
    },
    {
      "cell_type": "code",
      "metadata": {
        "id": "oAsslLtrRhcS"
      },
      "source": [
        "# 数据导入1\n",
        "file_path='/content/merge_ot_sgRNA_K562_binary.csv'\n",
        "data_read=pd.read_csv(file_path,sep=',')\n",
        "otSeq=np.array(data_read['OT'])\n",
        "guideSeq=np.array(data_read['Target sgRNA'])\n",
        "labels=np.array(data_read['Cleavage Frequency'])"
      ],
      "execution_count": 230,
      "outputs": []
    },
    {
      "cell_type": "code",
      "metadata": {
        "id": "Ig37f_0tiZ5t",
        "colab": {
          "base_uri": "https://localhost:8080/",
          "height": 89
        },
        "outputId": "3ab9770f-71b2-40b7-c994-aa113a8b097d"
      },
      "source": [
        "'''\n",
        "# after专属代码\n",
        "# 数据导入2（已经是编码形式）\n",
        "num_read=guideSeq.shape[0]\n",
        "seqdata_gP=np.load('/content/generated_ot_sgRNA_code_K562_positive.npy')[0:num_read-1]\n",
        "seqdata_gN=np.load('/content/generated_ot_sgRNA_code_K562_negetive.npy')[0:num_read-1]\n",
        "seqdata_g=np.vstack([seqdata_gP,seqdata_gN])\n",
        "labels_gP=np.zeros(seqdata_gP.shape[0])+1\n",
        "labels_gN=np.zeros(seqdata_gN.shape[0])\n",
        "labels_g=np.r_[labels_gP,labels_gN]\n",
        "labels_all=np.r_[labels,labels_g]\n",
        "'''"
      ],
      "execution_count": 231,
      "outputs": [
        {
          "output_type": "execute_result",
          "data": {
            "application/vnd.google.colaboratory.intrinsic+json": {
              "type": "string"
            },
            "text/plain": [
              "\"\\n# after专属代码\\n# 数据导入2（已经是编码形式）\\nnum_read=guideSeq.shape[0]\\nseqdata_gP=np.load('/content/generated_ot_sgRNA_code_K562_positive.npy')[0:num_read-1]\\nseqdata_gN=np.load('/content/generated_ot_sgRNA_code_K562_negetive.npy')[0:num_read-1]\\nseqdata_g=np.vstack([seqdata_gP,seqdata_gN])\\nlabels_gP=np.zeros(seqdata_gP.shape[0])+1\\nlabels_gN=np.zeros(seqdata_gN.shape[0])\\nlabels_g=np.r_[labels_gP,labels_gN]\\nlabels_all=np.r_[labels,labels_g]\\n\""
            ]
          },
          "metadata": {
            "tags": []
          },
          "execution_count": 231
        }
      ]
    },
    {
      "cell_type": "code",
      "metadata": {
        "id": "sUJpJOe6Xh0T"
      },
      "source": [
        "# 0ne_hot编码\n",
        "ntmap = {'A': (1, 0, 0, 0),\n",
        "         'C': (0, 1, 0, 0),\n",
        "         'G': (0, 0, 1, 0),\n",
        "         'T': (0, 0, 0, 1)\n",
        "         }\n",
        "\n",
        "def get_seqcode(seq):\n",
        "    return list(map(lambda c: ntmap[c], seq))\n",
        "\n",
        "def oneHotcoding(Seq):\n",
        "    n=0\n",
        "    for seq in Seq:\n",
        "        if n==0:\n",
        "            SeqcodeL=[]\n",
        "        seqcode=get_seqcode(seq)\n",
        "        n+=1\n",
        "        SeqcodeL.append(seqcode)\n",
        "        seqcode=[]\n",
        "        SeqcodeA=np.array(SeqcodeL)\n",
        "    return SeqcodeA"
      ],
      "execution_count": 232,
      "outputs": []
    },
    {
      "cell_type": "code",
      "metadata": {
        "id": "l4eR5tvcRkhV"
      },
      "source": [
        "# OR算子编码sgRNA-DNA\n",
        "def OR(a,b):\n",
        "    ab=np.zeros([a.shape[0],a.shape[1]])\n",
        "    for i in range(a.shape[0]):\n",
        "        for j in range(a.shape[1]):\n",
        "            if a[i][j] != b[i][j]:\n",
        "                ab[i][j]=a[i][j]+b[i][j]\n",
        "            else:\n",
        "                ab[i][j]=a[i][j]\n",
        "    return ab"
      ],
      "execution_count": 233,
      "outputs": []
    },
    {
      "cell_type": "code",
      "metadata": {
        "id": "aQfjTbR6csQA"
      },
      "source": [
        "# 编码\n",
        "guidecode=oneHotcoding(guideSeq)\n",
        "otcode=oneHotcoding(otSeq)\n",
        "guide_ot_code=np.zeros((guidecode.shape[0],guidecode.shape[1],guidecode.shape[2]))\n",
        "for i in range(len(guidecode)):\n",
        "    guide_ot_code[i]=OR(guidecode[i],otcode[i])"
      ],
      "execution_count": 234,
      "outputs": []
    },
    {
      "cell_type": "code",
      "metadata": {
        "colab": {
          "base_uri": "https://localhost:8080/",
          "height": 35
        },
        "id": "PBlEUwKweQhE",
        "outputId": "75a1dda1-db27-4313-f4ae-0e501c3a4e5b"
      },
      "source": [
        "'''# after专属代码\n",
        "seqdata=guide_ot_code\n",
        "seqdata_all=np.vstack([seqdata,seqdata_g])\n",
        "print(seqdata_all.shape)\n",
        "'''"
      ],
      "execution_count": 235,
      "outputs": [
        {
          "output_type": "execute_result",
          "data": {
            "application/vnd.google.colaboratory.intrinsic+json": {
              "type": "string"
            },
            "text/plain": [
              "'# after专属代码\\nseqdata=guide_ot_code\\nseqdata_all=np.vstack([seqdata,seqdata_g])\\nprint(seqdata_all.shape)\\n'"
            ]
          },
          "metadata": {
            "tags": []
          },
          "execution_count": 235
        }
      ]
    },
    {
      "cell_type": "code",
      "metadata": {
        "id": "ryFWKfMci0H2"
      },
      "source": [
        "# before专属代码\n",
        "seqdata_all=seqdata\n",
        "labels_all=labels"
      ],
      "execution_count": 236,
      "outputs": []
    },
    {
      "cell_type": "code",
      "metadata": {
        "id": "fgztcQI0ZES9"
      },
      "source": [
        "from sklearn.model_selection import train_test_split\n",
        "train_seq,test_seq,train_lab,test_lab=train_test_split(seqdata_all,labels_all,train_size = 0.6,random_state=0,stratify=labels_all)"
      ],
      "execution_count": 237,
      "outputs": []
    },
    {
      "cell_type": "code",
      "metadata": {
        "id": "579mL7Rsb-NO"
      },
      "source": [
        "val_seq=test_seq[:int(test_seq.shape[0]*0.25)];val_lab=test_lab[:int(test_seq.shape[0]*0.25)]\n",
        "Ntest_seq=test_seq[int(test_seq.shape[0]*0.25)+1:];Ntest_lab=test_lab[int(test_seq.shape[0]*0.25)+1:]"
      ],
      "execution_count": 238,
      "outputs": []
    },
    {
      "cell_type": "code",
      "metadata": {
        "colab": {
          "base_uri": "https://localhost:8080/"
        },
        "id": "6AAGqIGzWYym",
        "outputId": "4ae98f62-350b-4e23-aa1e-80d72c2ebd59"
      },
      "source": [
        "sum(Ntest_lab)"
      ],
      "execution_count": 239,
      "outputs": [
        {
          "output_type": "execute_result",
          "data": {
            "text/plain": [
              "3"
            ]
          },
          "metadata": {
            "tags": []
          },
          "execution_count": 239
        }
      ]
    },
    {
      "cell_type": "code",
      "metadata": {
        "id": "yRdwI4H4J6GM"
      },
      "source": [
        "def CNN_model():\n",
        "  model = tf.keras.Sequential()\n",
        "  \n",
        "  model.add(layers.Conv1D(16, 3, padding='same', activation='relu', input_shape=(23,4)))\n",
        "  model.add(layers.BatchNormalization())\n",
        "  model.add(layers.LeakyReLU())\n",
        "  model.add(layers.Dropout(0.3))\n",
        "\n",
        "  model.add(layers.Conv1D(64, 3,padding='same', activation='relu'))\n",
        "  model.add(layers.BatchNormalization())\n",
        "  model.add(layers.LeakyReLU())\n",
        "  model.add(layers.Dropout(0.3))\n",
        "\n",
        "  model.add(layers.Conv1D(64, 3,padding='same', activation='relu'))\n",
        "  model.add(layers.BatchNormalization())\n",
        "  model.add(layers.LeakyReLU())\n",
        "  model.add(layers.Dropout(0.3))\n",
        "\n",
        "  model.add(layers.Flatten())\n",
        "  model.add(layers.Dense(16, activation='relu'))\n",
        "  #model.add(layers.Dense(2))\n",
        "  model.add(layers.Dense(2,activation='sigmoid'))\n",
        "\n",
        "  return model"
      ],
      "execution_count": 240,
      "outputs": []
    },
    {
      "cell_type": "code",
      "metadata": {
        "id": "NaSwu0mpR2MR",
        "colab": {
          "base_uri": "https://localhost:8080/"
        },
        "outputId": "91191dde-3865-40f7-defc-4a8212f9eef2"
      },
      "source": [
        "model=CNN_model()\n",
        "model.summary()"
      ],
      "execution_count": 241,
      "outputs": [
        {
          "output_type": "stream",
          "text": [
            "Model: \"sequential_11\"\n",
            "_________________________________________________________________\n",
            "Layer (type)                 Output Shape              Param #   \n",
            "=================================================================\n",
            "conv1d_33 (Conv1D)           (None, 23, 16)            208       \n",
            "_________________________________________________________________\n",
            "batch_normalization_33 (Batc (None, 23, 16)            64        \n",
            "_________________________________________________________________\n",
            "leaky_re_lu_33 (LeakyReLU)   (None, 23, 16)            0         \n",
            "_________________________________________________________________\n",
            "dropout_33 (Dropout)         (None, 23, 16)            0         \n",
            "_________________________________________________________________\n",
            "conv1d_34 (Conv1D)           (None, 23, 64)            3136      \n",
            "_________________________________________________________________\n",
            "batch_normalization_34 (Batc (None, 23, 64)            256       \n",
            "_________________________________________________________________\n",
            "leaky_re_lu_34 (LeakyReLU)   (None, 23, 64)            0         \n",
            "_________________________________________________________________\n",
            "dropout_34 (Dropout)         (None, 23, 64)            0         \n",
            "_________________________________________________________________\n",
            "conv1d_35 (Conv1D)           (None, 23, 64)            12352     \n",
            "_________________________________________________________________\n",
            "batch_normalization_35 (Batc (None, 23, 64)            256       \n",
            "_________________________________________________________________\n",
            "leaky_re_lu_35 (LeakyReLU)   (None, 23, 64)            0         \n",
            "_________________________________________________________________\n",
            "dropout_35 (Dropout)         (None, 23, 64)            0         \n",
            "_________________________________________________________________\n",
            "flatten_11 (Flatten)         (None, 1472)              0         \n",
            "_________________________________________________________________\n",
            "dense_22 (Dense)             (None, 16)                23568     \n",
            "_________________________________________________________________\n",
            "dense_23 (Dense)             (None, 2)                 34        \n",
            "=================================================================\n",
            "Total params: 39,874\n",
            "Trainable params: 39,586\n",
            "Non-trainable params: 288\n",
            "_________________________________________________________________\n"
          ],
          "name": "stdout"
        }
      ]
    },
    {
      "cell_type": "code",
      "metadata": {
        "id": "2WewlvP6SLbc"
      },
      "source": [
        "model.compile(optimizer='adam',\n",
        "              loss=tf.keras.losses.SparseCategoricalCrossentropy(from_logits=True),\n",
        "              metrics=['accuracy'])"
      ],
      "execution_count": 242,
      "outputs": []
    },
    {
      "cell_type": "code",
      "metadata": {
        "colab": {
          "base_uri": "https://localhost:8080/"
        },
        "id": "Z04ozd0wNsfm",
        "outputId": "48fc0d12-f790-48d3-8942-9e18e5f05d37"
      },
      "source": [
        "history = model.fit(train_seq, train_lab, epochs=50, batch_size=16,\n",
        "                    validation_data=(val_seq, val_lab))"
      ],
      "execution_count": 243,
      "outputs": [
        {
          "output_type": "stream",
          "text": [
            "Epoch 1/50\n",
            "5/5 [==============================] - 1s 61ms/step - loss: 0.6596 - accuracy: 0.6215 - val_loss: 0.6006 - val_accuracy: 0.9167\n",
            "Epoch 2/50\n",
            "5/5 [==============================] - 0s 16ms/step - loss: 0.3716 - accuracy: 0.9025 - val_loss: 0.5862 - val_accuracy: 0.9167\n",
            "Epoch 3/50\n",
            "5/5 [==============================] - 0s 18ms/step - loss: 0.3972 - accuracy: 0.9198 - val_loss: 0.6310 - val_accuracy: 0.9167\n",
            "Epoch 4/50\n",
            "5/5 [==============================] - 0s 18ms/step - loss: 0.2231 - accuracy: 0.9207 - val_loss: 0.6755 - val_accuracy: 0.7500\n",
            "Epoch 5/50\n",
            "5/5 [==============================] - 0s 15ms/step - loss: 0.2003 - accuracy: 0.9187 - val_loss: 0.7099 - val_accuracy: 0.2500\n",
            "Epoch 6/50\n",
            "5/5 [==============================] - 0s 15ms/step - loss: 0.1718 - accuracy: 0.9300 - val_loss: 0.7404 - val_accuracy: 0.0833\n",
            "Epoch 7/50\n",
            "5/5 [==============================] - 0s 15ms/step - loss: 0.1511 - accuracy: 0.9303 - val_loss: 0.7726 - val_accuracy: 0.0833\n",
            "Epoch 8/50\n",
            "5/5 [==============================] - 0s 14ms/step - loss: 0.1868 - accuracy: 0.9340 - val_loss: 0.8049 - val_accuracy: 0.0833\n",
            "Epoch 9/50\n",
            "5/5 [==============================] - 0s 14ms/step - loss: 0.1617 - accuracy: 0.9294 - val_loss: 0.8367 - val_accuracy: 0.0833\n",
            "Epoch 10/50\n",
            "5/5 [==============================] - 0s 14ms/step - loss: 0.1824 - accuracy: 0.9112 - val_loss: 0.8716 - val_accuracy: 0.0833\n",
            "Epoch 11/50\n",
            "5/5 [==============================] - 0s 14ms/step - loss: 0.1462 - accuracy: 0.9326 - val_loss: 0.9072 - val_accuracy: 0.0833\n",
            "Epoch 12/50\n",
            "5/5 [==============================] - 0s 14ms/step - loss: 0.2417 - accuracy: 0.9089 - val_loss: 0.9463 - val_accuracy: 0.0833\n",
            "Epoch 13/50\n",
            "5/5 [==============================] - 0s 16ms/step - loss: 0.0885 - accuracy: 0.9737 - val_loss: 0.9807 - val_accuracy: 0.0833\n",
            "Epoch 14/50\n",
            "5/5 [==============================] - 0s 15ms/step - loss: 0.1679 - accuracy: 0.9245 - val_loss: 1.0033 - val_accuracy: 0.0833\n",
            "Epoch 15/50\n",
            "5/5 [==============================] - 0s 14ms/step - loss: 0.1463 - accuracy: 0.9387 - val_loss: 1.0311 - val_accuracy: 0.0833\n",
            "Epoch 16/50\n",
            "5/5 [==============================] - 0s 14ms/step - loss: 0.1839 - accuracy: 0.9314 - val_loss: 1.0634 - val_accuracy: 0.0833\n",
            "Epoch 17/50\n",
            "5/5 [==============================] - 0s 16ms/step - loss: 0.1188 - accuracy: 0.9734 - val_loss: 1.0866 - val_accuracy: 0.0833\n",
            "Epoch 18/50\n",
            "5/5 [==============================] - 0s 14ms/step - loss: 0.0660 - accuracy: 0.9881 - val_loss: 1.1112 - val_accuracy: 0.0833\n",
            "Epoch 19/50\n",
            "5/5 [==============================] - 0s 16ms/step - loss: 0.1195 - accuracy: 0.9734 - val_loss: 1.1336 - val_accuracy: 0.0833\n",
            "Epoch 20/50\n",
            "5/5 [==============================] - 0s 15ms/step - loss: 0.0784 - accuracy: 0.9847 - val_loss: 1.1559 - val_accuracy: 0.0833\n",
            "Epoch 21/50\n",
            "5/5 [==============================] - 0s 15ms/step - loss: 0.0865 - accuracy: 0.9786 - val_loss: 1.1825 - val_accuracy: 0.0833\n",
            "Epoch 22/50\n",
            "5/5 [==============================] - 0s 14ms/step - loss: 0.0680 - accuracy: 0.9841 - val_loss: 1.2014 - val_accuracy: 0.0833\n",
            "Epoch 23/50\n",
            "5/5 [==============================] - 0s 15ms/step - loss: 0.1358 - accuracy: 0.9306 - val_loss: 1.2233 - val_accuracy: 0.0833\n",
            "Epoch 24/50\n",
            "5/5 [==============================] - 0s 16ms/step - loss: 0.1059 - accuracy: 0.9630 - val_loss: 1.2490 - val_accuracy: 0.0833\n",
            "Epoch 25/50\n",
            "5/5 [==============================] - 0s 14ms/step - loss: 0.1011 - accuracy: 0.9630 - val_loss: 1.2583 - val_accuracy: 0.0833\n",
            "Epoch 26/50\n",
            "5/5 [==============================] - 0s 14ms/step - loss: 0.0660 - accuracy: 0.9734 - val_loss: 1.2590 - val_accuracy: 0.0833\n",
            "Epoch 27/50\n",
            "5/5 [==============================] - 0s 15ms/step - loss: 0.0635 - accuracy: 0.9954 - val_loss: 1.2782 - val_accuracy: 0.0833\n",
            "Epoch 28/50\n",
            "5/5 [==============================] - 0s 16ms/step - loss: 0.0786 - accuracy: 0.9630 - val_loss: 1.2973 - val_accuracy: 0.0833\n",
            "Epoch 29/50\n",
            "5/5 [==============================] - 0s 16ms/step - loss: 0.0752 - accuracy: 0.9459 - val_loss: 1.3117 - val_accuracy: 0.0833\n",
            "Epoch 30/50\n",
            "5/5 [==============================] - 0s 15ms/step - loss: 0.0893 - accuracy: 0.9690 - val_loss: 1.3163 - val_accuracy: 0.0833\n",
            "Epoch 31/50\n",
            "5/5 [==============================] - 0s 17ms/step - loss: 0.0486 - accuracy: 0.9928 - val_loss: 1.3327 - val_accuracy: 0.0833\n",
            "Epoch 32/50\n",
            "5/5 [==============================] - 0s 14ms/step - loss: 0.0531 - accuracy: 0.9690 - val_loss: 1.3620 - val_accuracy: 0.0833\n",
            "Epoch 33/50\n",
            "5/5 [==============================] - 0s 15ms/step - loss: 0.0586 - accuracy: 0.9841 - val_loss: 1.3722 - val_accuracy: 0.0833\n",
            "Epoch 34/50\n",
            "5/5 [==============================] - 0s 15ms/step - loss: 0.0216 - accuracy: 1.0000 - val_loss: 1.3873 - val_accuracy: 0.0833\n",
            "Epoch 35/50\n",
            "5/5 [==============================] - 0s 14ms/step - loss: 0.0392 - accuracy: 0.9928 - val_loss: 1.4054 - val_accuracy: 0.0833\n",
            "Epoch 36/50\n",
            "5/5 [==============================] - 0s 14ms/step - loss: 0.0652 - accuracy: 0.9737 - val_loss: 1.4491 - val_accuracy: 0.0833\n",
            "Epoch 37/50\n",
            "5/5 [==============================] - 0s 16ms/step - loss: 0.0262 - accuracy: 0.9928 - val_loss: 1.4813 - val_accuracy: 0.0833\n",
            "Epoch 38/50\n",
            "5/5 [==============================] - 0s 14ms/step - loss: 0.0131 - accuracy: 1.0000 - val_loss: 1.5120 - val_accuracy: 0.0833\n",
            "Epoch 39/50\n",
            "5/5 [==============================] - 0s 14ms/step - loss: 0.0359 - accuracy: 0.9821 - val_loss: 1.5335 - val_accuracy: 0.0833\n",
            "Epoch 40/50\n",
            "5/5 [==============================] - 0s 15ms/step - loss: 0.0567 - accuracy: 0.9893 - val_loss: 1.5698 - val_accuracy: 0.0833\n",
            "Epoch 41/50\n",
            "5/5 [==============================] - 0s 14ms/step - loss: 0.0203 - accuracy: 0.9928 - val_loss: 1.6025 - val_accuracy: 0.0833\n",
            "Epoch 42/50\n",
            "5/5 [==============================] - 0s 14ms/step - loss: 0.0281 - accuracy: 1.0000 - val_loss: 1.6266 - val_accuracy: 0.0833\n",
            "Epoch 43/50\n",
            "5/5 [==============================] - 0s 14ms/step - loss: 0.0142 - accuracy: 0.9928 - val_loss: 1.6453 - val_accuracy: 0.0833\n",
            "Epoch 44/50\n",
            "5/5 [==============================] - 0s 14ms/step - loss: 0.0621 - accuracy: 0.9737 - val_loss: 1.6592 - val_accuracy: 0.0833\n",
            "Epoch 45/50\n",
            "5/5 [==============================] - 0s 18ms/step - loss: 0.0451 - accuracy: 1.0000 - val_loss: 1.6755 - val_accuracy: 0.0833\n",
            "Epoch 46/50\n",
            "5/5 [==============================] - 0s 15ms/step - loss: 0.0376 - accuracy: 0.9664 - val_loss: 1.6913 - val_accuracy: 0.0833\n",
            "Epoch 47/50\n",
            "5/5 [==============================] - 0s 15ms/step - loss: 0.0072 - accuracy: 1.0000 - val_loss: 1.7070 - val_accuracy: 0.0833\n",
            "Epoch 48/50\n",
            "5/5 [==============================] - 0s 15ms/step - loss: 0.0403 - accuracy: 0.9841 - val_loss: 1.7243 - val_accuracy: 0.0833\n",
            "Epoch 49/50\n",
            "5/5 [==============================] - 0s 15ms/step - loss: 0.0273 - accuracy: 0.9928 - val_loss: 1.7537 - val_accuracy: 0.0833\n",
            "Epoch 50/50\n",
            "5/5 [==============================] - 0s 15ms/step - loss: 0.0120 - accuracy: 1.0000 - val_loss: 1.7808 - val_accuracy: 0.0833\n"
          ],
          "name": "stdout"
        }
      ]
    },
    {
      "cell_type": "code",
      "metadata": {
        "colab": {
          "base_uri": "https://localhost:8080/",
          "height": 499
        },
        "id": "I7USoOtCe3sO",
        "outputId": "23e03f6f-1afa-4ba6-d6d8-90fce05f92b4"
      },
      "source": [
        "acc = history.history['accuracy']\n",
        "val_acc = history.history['val_accuracy']\n",
        "loss = history.history['loss']\n",
        "val_loss = history.history['val_loss']\n",
        "\n",
        "epochs_range = range(50)\n",
        "\n",
        "plt.figure(figsize=(8, 8))\n",
        "plt.subplot(1, 2, 1)\n",
        "plt.plot(epochs_range, acc, label='Training Accuracy')\n",
        "plt.plot(epochs_range, val_acc, label='Validation Accuracy')\n",
        "plt.legend(loc='lower right')\n",
        "plt.title('off_target_after_CNN_K562')\n",
        "\n",
        "plt.subplot(1, 2, 2)\n",
        "plt.plot(epochs_range, loss, label='Training Loss')\n",
        "plt.plot(epochs_range, val_loss, label='Validation Loss')\n",
        "plt.legend(loc='upper right')\n",
        "plt.title('off_target_after_CNN_K562')\n",
        "plt.show()"
      ],
      "execution_count": 244,
      "outputs": [
        {
          "output_type": "display_data",
          "data": {
            "image/png": "[encoded data removed]",
            "text/plain": [
              "<Figure size 576x576 with 2 Axes>"
            ]
          },
          "metadata": {
            "tags": [],
            "needs_background": "light"
          }
        }
      ]
    },
    {
      "cell_type": "code",
      "metadata": {
        "colab": {
          "base_uri": "https://localhost:8080/"
        },
        "id": "NzLHiYbNfVfX",
        "outputId": "9616486f-e7cd-421c-a36a-28d86bfb3a92"
      },
      "source": [
        "test_loss, test_acc = model.evaluate(Ntest_seq, Ntest_lab, verbose=2)"
      ],
      "execution_count": 245,
      "outputs": [
        {
          "output_type": "stream",
          "text": [
            "2/2 - 0s - loss: 1.6280 - accuracy: 0.0857\n"
          ],
          "name": "stdout"
        }
      ]
    },
    {
      "cell_type": "code",
      "metadata": {
        "id": "bifAL9U3MEy-"
      },
      "source": [
        "pred_pro=model.predict(Ntest_seq) #计算概率"
      ],
      "execution_count": 246,
      "outputs": []
    },
    {
      "cell_type": "code",
      "metadata": {
        "colab": {
          "base_uri": "https://localhost:8080/",
          "height": 283
        },
        "id": "Hpvqy8Jky6CJ",
        "outputId": "12eb35f2-4e73-4bb6-947c-f21d06ad6ee7"
      },
      "source": [
        "# ROC曲线（假正类率(fpr)/真正类率(tpr)）\n",
        "from sklearn.metrics import roc_curve\n",
        "fpr , tpr , thresholds = roc_curve(Ntest_lab,pred_pro[:,1])  # 计算多种阈值的TPR和FPR\n",
        "\n",
        "def plot_roc_curve(fpr,tpr,label=None):\n",
        "    plt.plot(fpr,tpr,'b--',linewidth=2,label=label)\n",
        "    plt.plot([0,1],[0,1],'k--')\n",
        "    plt.axis([0,1,0,1])\n",
        "    plt.xlabel('Fales Positive Rate')\n",
        "    plt.ylabel('True Positive Rate')\n",
        "\n",
        "plot_roc_curve(fpr,tpr)\n",
        "plt.show()"
      ],
      "execution_count": 247,
      "outputs": [
        {
          "output_type": "display_data",
          "data": {
            "image/png": "[encoded data removed]",
            "text/plain": [
              "<Figure size 432x288 with 1 Axes>"
            ]
          },
          "metadata": {
            "tags": [],
            "needs_background": "light"
          }
        }
      ]
    },
    {
      "cell_type": "code",
      "metadata": {
        "colab": {
          "base_uri": "https://localhost:8080/"
        },
        "id": "OYtx3EXaVCRt",
        "outputId": "a1f62025-0fcb-413f-efa5-a3be5f8e2564"
      },
      "source": [
        "# ROC曲线下面积AUC\n",
        "from sklearn.metrics import roc_auc_score\n",
        "print(roc_auc_score(Ntest_lab,pred_pro[:,1]))"
      ],
      "execution_count": 248,
      "outputs": [
        {
          "output_type": "stream",
          "text": [
            "0.53125\n"
          ],
          "name": "stdout"
        }
      ]
    },
    {
      "cell_type": "code",
      "metadata": {
        "colab": {
          "base_uri": "https://localhost:8080/"
        },
        "id": "MbB4uowQUUAe",
        "outputId": "9ab73e1c-d57e-4549-f295-9bea83e1937b"
      },
      "source": [
        "print(test_acc)"
      ],
      "execution_count": 249,
      "outputs": [
        {
          "output_type": "stream",
          "text": [
            "0.08571428805589676\n"
          ],
          "name": "stdout"
        }
      ]
    },
    {
      "cell_type": "code",
      "metadata": {
        "id": "mH0YpqDsd7ZG"
      },
      "source": [
        "# 保存模型\n",
        "#model.save('/content/model_trained_before_K562_cnn.h5') "
      ],
      "execution_count": 250,
      "outputs": []
    },
    {
      "cell_type": "code",
      "metadata": {
        "id": "oPCnIXbGeXg9"
      },
      "source": [
        "# 加载模型，同时加载了模型的结构、权重等信息\n",
        "#loaded_model = tf.keras.models.load_model('/content/model_trained_before_K562_cnn.h5')"
      ],
      "execution_count": 251,
      "outputs": []
    }
  ]
}