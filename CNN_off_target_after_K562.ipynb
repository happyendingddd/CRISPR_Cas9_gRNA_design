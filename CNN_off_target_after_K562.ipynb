{
  "nbformat": 4,
  "nbformat_minor": 0,
  "metadata": {
    "colab": {
      "name": "CNN_off_target_after_K562.ipynb",
      "provenance": [],
      "collapsed_sections": [],
      "authorship_tag": "ABX9TyMjx46OICAxCh6zDFHlipLC",
      "include_colab_link": true
    },
    "kernelspec": {
      "name": "python3",
      "display_name": "Python 3"
    },
    "language_info": {
      "name": "python"
    }
  },
  "cells": [
    {
      "cell_type": "markdown",
      "metadata": {
        "id": "view-in-github",
        "colab_type": "text"
      },
      "source": [
        "<a href=\"https://colab.research.google.com/github/happyendingddd/CRISPR_Cas9_gRNA_design/blob/main/CNN_off_target_after_K562.ipynb\" target=\"_parent\"><img src=\"https://colab.research.google.com/assets/colab-badge.svg\" alt=\"Open In Colab\"/></a>"
      ]
    },
    {
      "cell_type": "code",
      "metadata": {
        "id": "MPDIloPHJLDm"
      },
      "source": [
        "import tensorflow as tf\n",
        "\n",
        "import pandas as pd\n",
        "import numpy as np\n",
        "from tensorflow.keras import layers\n",
        "import sklearn\n",
        "import matplotlib.pyplot as plt"
      ],
      "execution_count": 180,
      "outputs": []
    },
    {
      "cell_type": "code",
      "metadata": {
        "id": "oAsslLtrRhcS"
      },
      "source": [
        "# 数据导入1\n",
        "file_path='/content/merge_ot_sgRNA_K562_binary.csv'\n",
        "data_read=pd.read_csv(file_path,sep=',')\n",
        "otSeq=np.array(data_read['OT'])\n",
        "guideSeq=np.array(data_read['Target sgRNA'])\n",
        "labels=np.array(data_read['Cleavage Frequency'])"
      ],
      "execution_count": 181,
      "outputs": []
    },
    {
      "cell_type": "code",
      "metadata": {
        "id": "Ig37f_0tiZ5t"
      },
      "source": [
        "# 数据导入2（已经是编码形式）\n",
        "num_read=guideSeq.shape[0]\n",
        "seqdata_gP=np.load('/content/generated_ot_sgRNA_code_K562_positive.npy')[0:num_read-1]\n",
        "seqdata_gN=np.load('/content/generated_ot_sgRNA_code_K562_negetive.npy')[0:num_read-1]\n",
        "seqdata_g=np.vstack([seqdata_gP,seqdata_gN])\n",
        "labels_gP=np.zeros(seqdata_gP.shape[0])+1\n",
        "labels_gN=np.zeros(seqdata_gN.shape[0])\n",
        "labels_g=np.r_[labels_gP,labels_gN]\n",
        "labels_all=np.r_[labels,labels_g]"
      ],
      "execution_count": 182,
      "outputs": []
    },
    {
      "cell_type": "code",
      "metadata": {
        "id": "sUJpJOe6Xh0T"
      },
      "source": [
        "# 0ne_hot编码\n",
        "ntmap = {'A': (1, 0, 0, 0),\n",
        "         'C': (0, 1, 0, 0),\n",
        "         'G': (0, 0, 1, 0),\n",
        "         'T': (0, 0, 0, 1)\n",
        "         }\n",
        "\n",
        "def get_seqcode(seq):\n",
        "    return list(map(lambda c: ntmap[c], seq))\n",
        "\n",
        "def oneHotcoding(Seq):\n",
        "    n=0\n",
        "    for seq in Seq:\n",
        "        if n==0:\n",
        "            SeqcodeL=[]\n",
        "        seqcode=get_seqcode(seq)\n",
        "        n+=1\n",
        "        SeqcodeL.append(seqcode)\n",
        "        seqcode=[]\n",
        "        SeqcodeA=np.array(SeqcodeL)\n",
        "    return SeqcodeA"
      ],
      "execution_count": 183,
      "outputs": []
    },
    {
      "cell_type": "code",
      "metadata": {
        "id": "l4eR5tvcRkhV"
      },
      "source": [
        "# OR算子编码sgRNA-DNA\n",
        "def OR(a,b):\n",
        "    ab=np.zeros([a.shape[0],a.shape[1]])\n",
        "    for i in range(a.shape[0]):\n",
        "        for j in range(a.shape[1]):\n",
        "            if a[i][j] != b[i][j]:\n",
        "                ab[i][j]=a[i][j]+b[i][j]\n",
        "            else:\n",
        "                ab[i][j]=a[i][j]\n",
        "    return ab"
      ],
      "execution_count": 184,
      "outputs": []
    },
    {
      "cell_type": "code",
      "metadata": {
        "id": "aQfjTbR6csQA"
      },
      "source": [
        "# 编码\n",
        "guidecode=oneHotcoding(guideSeq)\n",
        "otcode=oneHotcoding(otSeq)\n",
        "guide_ot_code=np.zeros((guidecode.shape[0],guidecode.shape[1],guidecode.shape[2]))\n",
        "for i in range(len(guidecode)):\n",
        "    guide_ot_code[i]=OR(guidecode[i],otcode[i])"
      ],
      "execution_count": 185,
      "outputs": []
    },
    {
      "cell_type": "code",
      "metadata": {
        "colab": {
          "base_uri": "https://localhost:8080/"
        },
        "id": "PBlEUwKweQhE",
        "outputId": "e83bdff3-acad-4836-f475-1e3f89784209"
      },
      "source": [
        "seqdata=guide_ot_code\n",
        "seqdata_all=np.vstack([seqdata,seqdata_g])\n",
        "print(seqdata_all.shape)"
      ],
      "execution_count": 186,
      "outputs": [
        {
          "output_type": "stream",
          "text": [
            "(358, 23, 4)\n"
          ],
          "name": "stdout"
        }
      ]
    },
    {
      "cell_type": "code",
      "metadata": {
        "id": "fgztcQI0ZES9"
      },
      "source": [
        "from sklearn.model_selection import train_test_split\n",
        "train_seq,test_seq,train_lab,test_lab=train_test_split(seqdata_all,labels_all,train_size = 0.6,random_state=0,stratify=labels_all)"
      ],
      "execution_count": 187,
      "outputs": []
    },
    {
      "cell_type": "code",
      "metadata": {
        "id": "579mL7Rsb-NO"
      },
      "source": [
        "val_seq=test_seq[:int(test_seq.shape[0]*0.25)];val_lab=test_lab[:int(test_seq.shape[0]*0.25)]\n",
        "Ntest_seq=test_seq[int(test_seq.shape[0]*0.25)+1:];Ntest_lab=test_lab[int(test_seq.shape[0]*0.25)+1:]"
      ],
      "execution_count": 188,
      "outputs": []
    },
    {
      "cell_type": "code",
      "metadata": {
        "colab": {
          "base_uri": "https://localhost:8080/"
        },
        "id": "6AAGqIGzWYym",
        "outputId": "81a7d71d-a01a-4f3e-fda7-3979b1d98318"
      },
      "source": [
        "sum(Ntest_lab)"
      ],
      "execution_count": 189,
      "outputs": [
        {
          "output_type": "execute_result",
          "data": {
            "text/plain": [
              "35.0"
            ]
          },
          "metadata": {
            "tags": []
          },
          "execution_count": 189
        }
      ]
    },
    {
      "cell_type": "code",
      "metadata": {
        "id": "yRdwI4H4J6GM"
      },
      "source": [
        "def CNN_model():\n",
        "  model = tf.keras.Sequential()\n",
        "  \n",
        "  model.add(layers.Conv1D(16, 3, padding='same', activation='relu', input_shape=(23,4)))\n",
        "  model.add(layers.BatchNormalization())\n",
        "  model.add(layers.LeakyReLU())\n",
        "  model.add(layers.Dropout(0.3))\n",
        "\n",
        "  model.add(layers.Conv1D(64, 3,padding='same', activation='relu'))\n",
        "  model.add(layers.BatchNormalization())\n",
        "  model.add(layers.LeakyReLU())\n",
        "  model.add(layers.Dropout(0.3))\n",
        "\n",
        "  model.add(layers.Conv1D(64, 3,padding='same', activation='relu'))\n",
        "  model.add(layers.BatchNormalization())\n",
        "  model.add(layers.LeakyReLU())\n",
        "  model.add(layers.Dropout(0.3))\n",
        "\n",
        "  model.add(layers.Flatten())\n",
        "  model.add(layers.Dense(16, activation='relu'))\n",
        "  #model.add(layers.Dense(2))\n",
        "  model.add(layers.Dense(2,activation='sigmoid'))\n",
        "\n",
        "  return model"
      ],
      "execution_count": 190,
      "outputs": []
    },
    {
      "cell_type": "code",
      "metadata": {
        "id": "NaSwu0mpR2MR",
        "colab": {
          "base_uri": "https://localhost:8080/"
        },
        "outputId": "281779af-0126-41b6-aef7-7829dcff63b6"
      },
      "source": [
        "model=CNN_model()\n",
        "model.summary()"
      ],
      "execution_count": 191,
      "outputs": [
        {
          "output_type": "stream",
          "text": [
            "Model: \"sequential_9\"\n",
            "_________________________________________________________________\n",
            "Layer (type)                 Output Shape              Param #   \n",
            "=================================================================\n",
            "conv1d_27 (Conv1D)           (None, 23, 16)            208       \n",
            "_________________________________________________________________\n",
            "batch_normalization_27 (Batc (None, 23, 16)            64        \n",
            "_________________________________________________________________\n",
            "leaky_re_lu_27 (LeakyReLU)   (None, 23, 16)            0         \n",
            "_________________________________________________________________\n",
            "dropout_27 (Dropout)         (None, 23, 16)            0         \n",
            "_________________________________________________________________\n",
            "conv1d_28 (Conv1D)           (None, 23, 64)            3136      \n",
            "_________________________________________________________________\n",
            "batch_normalization_28 (Batc (None, 23, 64)            256       \n",
            "_________________________________________________________________\n",
            "leaky_re_lu_28 (LeakyReLU)   (None, 23, 64)            0         \n",
            "_________________________________________________________________\n",
            "dropout_28 (Dropout)         (None, 23, 64)            0         \n",
            "_________________________________________________________________\n",
            "conv1d_29 (Conv1D)           (None, 23, 64)            12352     \n",
            "_________________________________________________________________\n",
            "batch_normalization_29 (Batc (None, 23, 64)            256       \n",
            "_________________________________________________________________\n",
            "leaky_re_lu_29 (LeakyReLU)   (None, 23, 64)            0         \n",
            "_________________________________________________________________\n",
            "dropout_29 (Dropout)         (None, 23, 64)            0         \n",
            "_________________________________________________________________\n",
            "flatten_9 (Flatten)          (None, 1472)              0         \n",
            "_________________________________________________________________\n",
            "dense_18 (Dense)             (None, 16)                23568     \n",
            "_________________________________________________________________\n",
            "dense_19 (Dense)             (None, 2)                 34        \n",
            "=================================================================\n",
            "Total params: 39,874\n",
            "Trainable params: 39,586\n",
            "Non-trainable params: 288\n",
            "_________________________________________________________________\n"
          ],
          "name": "stdout"
        }
      ]
    },
    {
      "cell_type": "code",
      "metadata": {
        "id": "2WewlvP6SLbc"
      },
      "source": [
        "model.compile(optimizer='adam',\n",
        "              loss=tf.keras.losses.SparseCategoricalCrossentropy(from_logits=True),\n",
        "              metrics=['accuracy'])"
      ],
      "execution_count": 192,
      "outputs": []
    },
    {
      "cell_type": "code",
      "metadata": {
        "colab": {
          "base_uri": "https://localhost:8080/"
        },
        "id": "Z04ozd0wNsfm",
        "outputId": "2adc0208-5872-46f4-924f-a7b3d280d2c6"
      },
      "source": [
        "history = model.fit(train_seq, train_lab, epochs=50, batch_size=16,\n",
        "                    validation_data=(val_seq, val_lab))"
      ],
      "execution_count": 193,
      "outputs": [
        {
          "output_type": "stream",
          "text": [
            "Epoch 1/50\n",
            "14/14 [==============================] - 1s 24ms/step - loss: 0.7542 - accuracy: 0.6129 - val_loss: 0.6612 - val_accuracy: 0.8333\n",
            "Epoch 2/50\n",
            "14/14 [==============================] - 0s 9ms/step - loss: 0.2435 - accuracy: 0.9208 - val_loss: 0.6591 - val_accuracy: 0.8056\n",
            "Epoch 3/50\n",
            "14/14 [==============================] - 0s 9ms/step - loss: 0.1616 - accuracy: 0.9296 - val_loss: 0.6680 - val_accuracy: 0.4444\n",
            "Epoch 4/50\n",
            "14/14 [==============================] - 0s 9ms/step - loss: 0.0766 - accuracy: 0.9751 - val_loss: 0.6775 - val_accuracy: 0.4444\n",
            "Epoch 5/50\n",
            "14/14 [==============================] - 0s 9ms/step - loss: 0.0692 - accuracy: 0.9756 - val_loss: 0.6819 - val_accuracy: 0.4444\n",
            "Epoch 6/50\n",
            "14/14 [==============================] - 0s 10ms/step - loss: 0.0688 - accuracy: 0.9626 - val_loss: 0.6809 - val_accuracy: 0.4444\n",
            "Epoch 7/50\n",
            "14/14 [==============================] - 0s 9ms/step - loss: 0.0481 - accuracy: 0.9815 - val_loss: 0.6792 - val_accuracy: 0.4444\n",
            "Epoch 8/50\n",
            "14/14 [==============================] - 0s 9ms/step - loss: 0.0251 - accuracy: 0.9914 - val_loss: 0.6818 - val_accuracy: 0.4444\n",
            "Epoch 9/50\n",
            "14/14 [==============================] - 0s 9ms/step - loss: 0.0394 - accuracy: 0.9814 - val_loss: 0.6592 - val_accuracy: 0.4444\n",
            "Epoch 10/50\n",
            "14/14 [==============================] - 0s 9ms/step - loss: 0.0209 - accuracy: 0.9936 - val_loss: 0.6590 - val_accuracy: 0.4444\n",
            "Epoch 11/50\n",
            "14/14 [==============================] - 0s 11ms/step - loss: 0.0593 - accuracy: 0.9689 - val_loss: 0.6485 - val_accuracy: 0.4444\n",
            "Epoch 12/50\n",
            "14/14 [==============================] - 0s 11ms/step - loss: 0.0545 - accuracy: 0.9907 - val_loss: 0.6285 - val_accuracy: 0.4444\n",
            "Epoch 13/50\n",
            "14/14 [==============================] - 0s 9ms/step - loss: 0.0166 - accuracy: 0.9974 - val_loss: 0.6220 - val_accuracy: 0.4444\n",
            "Epoch 14/50\n",
            "14/14 [==============================] - 0s 10ms/step - loss: 0.0343 - accuracy: 0.9861 - val_loss: 0.5943 - val_accuracy: 0.4722\n",
            "Epoch 15/50\n",
            "14/14 [==============================] - 0s 9ms/step - loss: 0.0439 - accuracy: 0.9861 - val_loss: 0.5710 - val_accuracy: 0.6667\n",
            "Epoch 16/50\n",
            "14/14 [==============================] - 0s 9ms/step - loss: 0.0151 - accuracy: 0.9938 - val_loss: 0.5595 - val_accuracy: 0.6667\n",
            "Epoch 17/50\n",
            "14/14 [==============================] - 0s 9ms/step - loss: 0.0149 - accuracy: 0.9991 - val_loss: 0.5448 - val_accuracy: 0.7500\n",
            "Epoch 18/50\n",
            "14/14 [==============================] - 0s 10ms/step - loss: 0.0293 - accuracy: 0.9924 - val_loss: 0.5362 - val_accuracy: 0.7222\n",
            "Epoch 19/50\n",
            "14/14 [==============================] - 0s 9ms/step - loss: 0.0122 - accuracy: 1.0000 - val_loss: 0.5120 - val_accuracy: 0.7778\n",
            "Epoch 20/50\n",
            "14/14 [==============================] - 0s 9ms/step - loss: 0.0121 - accuracy: 0.9947 - val_loss: 0.4929 - val_accuracy: 0.7500\n",
            "Epoch 21/50\n",
            "14/14 [==============================] - 0s 9ms/step - loss: 0.0112 - accuracy: 1.0000 - val_loss: 0.4739 - val_accuracy: 0.7222\n",
            "Epoch 22/50\n",
            "14/14 [==============================] - 0s 11ms/step - loss: 0.0102 - accuracy: 0.9983 - val_loss: 0.4553 - val_accuracy: 0.7222\n",
            "Epoch 23/50\n",
            "14/14 [==============================] - 0s 10ms/step - loss: 0.0118 - accuracy: 0.9963 - val_loss: 0.4291 - val_accuracy: 0.8056\n",
            "Epoch 24/50\n",
            "14/14 [==============================] - 0s 9ms/step - loss: 0.0065 - accuracy: 0.9979 - val_loss: 0.4110 - val_accuracy: 0.8333\n",
            "Epoch 25/50\n",
            "14/14 [==============================] - 0s 9ms/step - loss: 0.0248 - accuracy: 0.9944 - val_loss: 0.4028 - val_accuracy: 0.8333\n",
            "Epoch 26/50\n",
            "14/14 [==============================] - 0s 9ms/step - loss: 0.0522 - accuracy: 0.9903 - val_loss: 0.4045 - val_accuracy: 0.8333\n",
            "Epoch 27/50\n",
            "14/14 [==============================] - 0s 9ms/step - loss: 0.0241 - accuracy: 0.9893 - val_loss: 0.4016 - val_accuracy: 0.8333\n",
            "Epoch 28/50\n",
            "14/14 [==============================] - 0s 10ms/step - loss: 0.0111 - accuracy: 0.9969 - val_loss: 0.4283 - val_accuracy: 0.8333\n",
            "Epoch 29/50\n",
            "14/14 [==============================] - 0s 10ms/step - loss: 0.0060 - accuracy: 0.9979 - val_loss: 0.4620 - val_accuracy: 0.8333\n",
            "Epoch 30/50\n",
            "14/14 [==============================] - 0s 10ms/step - loss: 0.0085 - accuracy: 1.0000 - val_loss: 0.4961 - val_accuracy: 0.8056\n",
            "Epoch 31/50\n",
            "14/14 [==============================] - 0s 9ms/step - loss: 0.0130 - accuracy: 0.9903 - val_loss: 0.5456 - val_accuracy: 0.8056\n",
            "Epoch 32/50\n",
            "14/14 [==============================] - 0s 10ms/step - loss: 0.0052 - accuracy: 0.9975 - val_loss: 0.5682 - val_accuracy: 0.8056\n",
            "Epoch 33/50\n",
            "14/14 [==============================] - 0s 10ms/step - loss: 0.0045 - accuracy: 0.9969 - val_loss: 0.5926 - val_accuracy: 0.8056\n",
            "Epoch 34/50\n",
            "14/14 [==============================] - 0s 9ms/step - loss: 0.0014 - accuracy: 1.0000 - val_loss: 0.6261 - val_accuracy: 0.8056\n",
            "Epoch 35/50\n",
            "14/14 [==============================] - 0s 9ms/step - loss: 0.0126 - accuracy: 0.9969 - val_loss: 0.6744 - val_accuracy: 0.8056\n",
            "Epoch 36/50\n",
            "14/14 [==============================] - 0s 12ms/step - loss: 0.0157 - accuracy: 0.9938 - val_loss: 0.6991 - val_accuracy: 0.8056\n",
            "Epoch 37/50\n",
            "14/14 [==============================] - 0s 10ms/step - loss: 0.0053 - accuracy: 0.9963 - val_loss: 0.7263 - val_accuracy: 0.8056\n",
            "Epoch 38/50\n",
            "14/14 [==============================] - 0s 9ms/step - loss: 0.0051 - accuracy: 0.9948 - val_loss: 0.7754 - val_accuracy: 0.8056\n",
            "Epoch 39/50\n",
            "14/14 [==============================] - 0s 9ms/step - loss: 0.0072 - accuracy: 0.9924 - val_loss: 0.8542 - val_accuracy: 0.8056\n",
            "Epoch 40/50\n",
            "14/14 [==============================] - 0s 10ms/step - loss: 0.0053 - accuracy: 1.0000 - val_loss: 0.8665 - val_accuracy: 0.8056\n",
            "Epoch 41/50\n",
            "14/14 [==============================] - 0s 10ms/step - loss: 0.0103 - accuracy: 0.9925 - val_loss: 0.9256 - val_accuracy: 0.8056\n",
            "Epoch 42/50\n",
            "14/14 [==============================] - 0s 9ms/step - loss: 0.0107 - accuracy: 0.9948 - val_loss: 1.0336 - val_accuracy: 0.8056\n",
            "Epoch 43/50\n",
            "14/14 [==============================] - 0s 9ms/step - loss: 0.0032 - accuracy: 1.0000 - val_loss: 1.0893 - val_accuracy: 0.8056\n",
            "Epoch 44/50\n",
            "14/14 [==============================] - 0s 9ms/step - loss: 0.0127 - accuracy: 0.9938 - val_loss: 1.1416 - val_accuracy: 0.8056\n",
            "Epoch 45/50\n",
            "14/14 [==============================] - 0s 11ms/step - loss: 0.0063 - accuracy: 1.0000 - val_loss: 1.0460 - val_accuracy: 0.8333\n",
            "Epoch 46/50\n",
            "14/14 [==============================] - 0s 9ms/step - loss: 0.0053 - accuracy: 0.9975 - val_loss: 1.0214 - val_accuracy: 0.8333\n",
            "Epoch 47/50\n",
            "14/14 [==============================] - 0s 9ms/step - loss: 0.0070 - accuracy: 0.9957 - val_loss: 1.0898 - val_accuracy: 0.8056\n",
            "Epoch 48/50\n",
            "14/14 [==============================] - 0s 9ms/step - loss: 0.0085 - accuracy: 0.9962 - val_loss: 1.0470 - val_accuracy: 0.8056\n",
            "Epoch 49/50\n",
            "14/14 [==============================] - 0s 9ms/step - loss: 0.0069 - accuracy: 0.9975 - val_loss: 1.0635 - val_accuracy: 0.8056\n",
            "Epoch 50/50\n",
            "14/14 [==============================] - 0s 9ms/step - loss: 0.0013 - accuracy: 1.0000 - val_loss: 1.0929 - val_accuracy: 0.8056\n"
          ],
          "name": "stdout"
        }
      ]
    },
    {
      "cell_type": "code",
      "metadata": {
        "colab": {
          "base_uri": "https://localhost:8080/",
          "height": 499
        },
        "id": "I7USoOtCe3sO",
        "outputId": "152f550a-a030-4308-c44a-438fa042c53f"
      },
      "source": [
        "acc = history.history['accuracy']\n",
        "val_acc = history.history['val_accuracy']\n",
        "loss = history.history['loss']\n",
        "val_loss = history.history['val_loss']\n",
        "\n",
        "epochs_range = range(50)\n",
        "\n",
        "plt.figure(figsize=(8, 8))\n",
        "plt.subplot(1, 2, 1)\n",
        "plt.plot(epochs_range, acc, label='Training Accuracy')\n",
        "plt.plot(epochs_range, val_acc, label='Validation Accuracy')\n",
        "plt.legend(loc='lower right')\n",
        "plt.title('off_target_after_CNN_K562')\n",
        "\n",
        "plt.subplot(1, 2, 2)\n",
        "plt.plot(epochs_range, loss, label='Training Loss')\n",
        "plt.plot(epochs_range, val_loss, label='Validation Loss')\n",
        "plt.legend(loc='upper right')\n",
        "plt.title('off_target_after_CNN_K562')\n",
        "plt.show()"
      ],
      "execution_count": 194,
      "outputs": [
        {
          "output_type": "display_data",
          "data": {
            "image/png": "[encoded data removed]",
            "text/plain": [
              "<Figure size 576x576 with 2 Axes>"
            ]
          },
          "metadata": {
            "tags": [],
            "needs_background": "light"
          }
        }
      ]
    },
    {
      "cell_type": "code",
      "metadata": {
        "colab": {
          "base_uri": "https://localhost:8080/"
        },
        "id": "NzLHiYbNfVfX",
        "outputId": "a3b39e8a-411c-421e-bc65-cca9cb9716bc"
      },
      "source": [
        "test_loss, test_acc = model.evaluate(Ntest_seq, Ntest_lab, verbose=2)"
      ],
      "execution_count": 195,
      "outputs": [
        {
          "output_type": "stream",
          "text": [
            "4/4 - 0s - loss: 0.0987 - accuracy: 0.9626\n"
          ],
          "name": "stdout"
        }
      ]
    },
    {
      "cell_type": "code",
      "metadata": {
        "id": "bifAL9U3MEy-"
      },
      "source": [
        "pred_pro=model.predict(Ntest_seq) #计算概率"
      ],
      "execution_count": 196,
      "outputs": []
    },
    {
      "cell_type": "code",
      "metadata": {
        "colab": {
          "base_uri": "https://localhost:8080/",
          "height": 283
        },
        "id": "Hpvqy8Jky6CJ",
        "outputId": "997615eb-feba-41e6-8f80-af79ba4e59e2"
      },
      "source": [
        "# ROC曲线（假正类率(fpr)/真正类率(tpr)）\n",
        "from sklearn.metrics import roc_curve\n",
        "fpr , tpr , thresholds = roc_curve(Ntest_lab,pred_pro[:,1])  # 计算多种阈值的TPR和FPR\n",
        "\n",
        "def plot_roc_curve(fpr,tpr,label=None):\n",
        "    plt.plot(fpr,tpr,'b--',linewidth=2,label=label)\n",
        "    plt.plot([0,1],[0,1],'k--')\n",
        "    plt.axis([0,1,0,1])\n",
        "    plt.xlabel('Fales Positive Rate')\n",
        "    plt.ylabel('True Positive Rate')\n",
        "\n",
        "plot_roc_curve(fpr,tpr)\n",
        "plt.show()"
      ],
      "execution_count": 197,
      "outputs": [
        {
          "output_type": "display_data",
          "data": {
            "image/png": "[encoded data removed]",
            "text/plain": [
              "<Figure size 432x288 with 1 Axes>"
            ]
          },
          "metadata": {
            "tags": [],
            "needs_background": "light"
          }
        }
      ]
    },
    {
      "cell_type": "code",
      "metadata": {
        "colab": {
          "base_uri": "https://localhost:8080/"
        },
        "id": "OYtx3EXaVCRt",
        "outputId": "75d6ce76-f73c-40e1-a1a9-0e5a3405a1ad"
      },
      "source": [
        "# ROC曲线下面积AUC\n",
        "from sklearn.metrics import roc_auc_score\n",
        "print(roc_auc_score(Ntest_lab,pred_pro[:,1]))"
      ],
      "execution_count": 198,
      "outputs": [
        {
          "output_type": "stream",
          "text": [
            "0.9972222222222222\n"
          ],
          "name": "stdout"
        }
      ]
    },
    {
      "cell_type": "code",
      "metadata": {
        "colab": {
          "base_uri": "https://localhost:8080/"
        },
        "id": "MbB4uowQUUAe",
        "outputId": "af83005e-58c8-40de-d1b3-b1d25295cc7b"
      },
      "source": [
        "print(test_acc)"
      ],
      "execution_count": 199,
      "outputs": [
        {
          "output_type": "stream",
          "text": [
            "0.9626168012619019\n"
          ],
          "name": "stdout"
        }
      ]
    },
    {
      "cell_type": "code",
      "metadata": {
        "id": "mH0YpqDsd7ZG"
      },
      "source": [
        "# 保存模型\n",
        "model.save('/content/model_trained_after_K562_cnn.h5') \n"
      ],
      "execution_count": 200,
      "outputs": []
    },
    {
      "cell_type": "code",
      "metadata": {
        "id": "oPCnIXbGeXg9"
      },
      "source": [
        "# 加载模型，同时加载了模型的结构、权重等信息\n",
        "loaded_model = tf.keras.models.load_model('/content/model_trained_after_K562_cnn.h5')"
      ],
      "execution_count": 201,
      "outputs": []
    }
  ]
}