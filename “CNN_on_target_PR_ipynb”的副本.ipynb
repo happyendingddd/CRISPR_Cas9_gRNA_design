{
  "nbformat": 4,
  "nbformat_minor": 0,
  "metadata": {
    "colab": {
      "name": "“CNN_on_target_PR.ipynb”的副本",
      "provenance": [],
      "collapsed_sections": [],
      "authorship_tag": "ABX9TyNdkovUzzFDVr6bKBDUX2V6",
      "include_colab_link": true
    },
    "kernelspec": {
      "display_name": "Python 3",
      "name": "python3"
    },
    "language_info": {
      "name": "python"
    }
  },
  "cells": [
    {
      "cell_type": "markdown",
      "metadata": {
        "id": "view-in-github",
        "colab_type": "text"
      },
      "source": [
        "<a href=\"https://colab.research.google.com/github/happyendingddd/CRISPR_Cas9_gRNA_design/blob/main/%E2%80%9CCNN_on_target_PR_ipynb%E2%80%9D%E7%9A%84%E5%89%AF%E6%9C%AC.ipynb\" target=\"_parent\"><img src=\"https://colab.research.google.com/assets/colab-badge.svg\" alt=\"Open In Colab\"/></a>"
      ]
    },
    {
      "cell_type": "code",
      "metadata": {
        "id": "MPDIloPHJLDm"
      },
      "source": [
        "import tensorflow as tf\n",
        "import pandas as pd\n",
        "import numpy as np\n",
        "from tensorflow.keras import layers\n",
        "import matplotlib.pyplot as plt"
      ],
      "execution_count": 317,
      "outputs": []
    },
    {
      "cell_type": "code",
      "metadata": {
        "colab": {
          "base_uri": "https://localhost:8080/"
        },
        "id": "oAsslLtrRhcS",
        "outputId": "ea1c9be4-6a4c-4509-8a47-2a0adc8f8adc"
      },
      "source": [
        "# 数据导入1\n",
        "file_path='/content/hek293t_binary.csv'\n",
        "data_read=pd.read_csv(file_path,sep=',')\n",
        "guideSeq=np.array(data_read['sgRNA'])\n",
        "guideSeq=guideSeq.reshape((guideSeq.shape[0],1))\n",
        "labels=np.array(data_read['Normalized_efficacy'])\n",
        "print(guideSeq.shape)"
      ],
      "execution_count": 318,
      "outputs": [
        {
          "output_type": "stream",
          "text": [
            "(2333, 1)\n"
          ],
          "name": "stdout"
        }
      ]
    },
    {
      "cell_type": "code",
      "metadata": {
        "id": "j49M6Jmzytwf"
      },
      "source": [
        "def read_gdata(fp,num_read):\n",
        "  with open(fp, \"r\") as f:\n",
        "    list1=[]\n",
        "    i=0\n",
        "    for line in f.readlines():\n",
        "      i+=1\n",
        "      if i<=num_read:\n",
        "        line = line.strip('\\n')  #去掉列表中每一个元素的换行符\n",
        "        list1.append(line)\n",
        "  arr=np.array(list1)\n",
        "  seq_g=arr.reshape((arr.shape[0],1))\n",
        "  return seq_g"
      ],
      "execution_count": 319,
      "outputs": []
    },
    {
      "cell_type": "code",
      "metadata": {
        "id": "dTClYm5H2FXZ"
      },
      "source": [
        "\n",
        "# after专属代码\n",
        "# 数据导入2\n",
        "FP='/content/generated_seq_hek293t_positive.txt'\n",
        "FN='/content/generated_seq_hek293t_negetive.txt'\n",
        "num_read=int(guideSeq.shape[0]/2)\n",
        "seq_gP=read_gdata(FP,num_read)\n",
        "seq_gN=read_gdata(FN,num_read)\n",
        "seq_g=np.vstack([seq_gP,seq_gN])\n",
        "labels_gP=np.zeros(seq_gP.shape[0])+1\n",
        "labels_gN=np.zeros(seq_gN.shape[0])\n",
        "labels_g=np.r_[labels_gP,labels_gN]\n",
        "labels_all=np.r_[labels,labels_g]\n"
      ],
      "execution_count": 320,
      "outputs": []
    },
    {
      "cell_type": "code",
      "metadata": {
        "colab": {
          "base_uri": "https://localhost:8080/"
        },
        "id": "O9GccZGo3LWb",
        "outputId": "177fc2e5-4556-47a5-d8e3-bfaca97ad472"
      },
      "source": [
        "\n",
        "# after专属代码\n",
        "seq_all=np.vstack([guideSeq,seq_g])\n",
        "print(seq_all.shape)\n"
      ],
      "execution_count": 321,
      "outputs": [
        {
          "output_type": "stream",
          "text": [
            "(4665, 1)\n"
          ],
          "name": "stdout"
        }
      ]
    },
    {
      "cell_type": "code",
      "metadata": {
        "colab": {
          "base_uri": "https://localhost:8080/",
          "height": 35
        },
        "id": "QqqJdSlSC6oP",
        "outputId": "039d47f8-b407-4021-8ab2-04d1a4da4943"
      },
      "source": [
        "'''\n",
        "# before专属代码\n",
        "labels_all=labels\n",
        "seq_all=guideSeq\n",
        "'''"
      ],
      "execution_count": 322,
      "outputs": [
        {
          "output_type": "execute_result",
          "data": {
            "application/vnd.google.colaboratory.intrinsic+json": {
              "type": "string"
            },
            "text/plain": [
              "'\\n# before专属代码\\nlabels_all=labels\\nseq_all=guideSeq\\n'"
            ]
          },
          "metadata": {
            "tags": []
          },
          "execution_count": 322
        }
      ]
    },
    {
      "cell_type": "code",
      "metadata": {
        "colab": {
          "base_uri": "https://localhost:8080/"
        },
        "id": "qDlgaZXV3hWc",
        "outputId": "cf1b4e3b-17ef-4ddd-dd01-032eb9c38c19"
      },
      "source": [
        "seq_all=seq_all.reshape(seq_all.shape[0])\n",
        "print(seq_all.shape)"
      ],
      "execution_count": 323,
      "outputs": [
        {
          "output_type": "stream",
          "text": [
            "(4665,)\n"
          ],
          "name": "stdout"
        }
      ]
    },
    {
      "cell_type": "code",
      "metadata": {
        "id": "sUJpJOe6Xh0T"
      },
      "source": [
        "#one-hot编码\n",
        "ntmap = {'A': (1, 0, 0, 0),\n",
        "         'C': (0, 1, 0, 0),\n",
        "         'G': (0, 0, 1, 0),\n",
        "         'T': (0, 0, 0, 1)\n",
        "         }\n",
        "\n",
        "def get_seqcode(seq):\n",
        "    return list(map(lambda c: ntmap[c], seq))\n",
        "\n",
        "def oneHotcoding(Seq):\n",
        "    n=0\n",
        "    for seq in Seq:\n",
        "        if n==0:\n",
        "            SeqcodeL=[]\n",
        "        seqcode=get_seqcode(seq)\n",
        "        n+=1\n",
        "        SeqcodeL.append(seqcode)\n",
        "        seqcode=[]\n",
        "        SeqcodeA=np.array(SeqcodeL)\n",
        "    return SeqcodeA"
      ],
      "execution_count": 324,
      "outputs": []
    },
    {
      "cell_type": "code",
      "metadata": {
        "id": "l4eR5tvcRkhV"
      },
      "source": [
        "guidecode=oneHotcoding(seq_all)"
      ],
      "execution_count": 325,
      "outputs": []
    },
    {
      "cell_type": "code",
      "metadata": {
        "id": "aQfjTbR6csQA",
        "colab": {
          "base_uri": "https://localhost:8080/"
        },
        "outputId": "08f3aaf1-9f89-4e24-c4a1-c6af55ed38d1"
      },
      "source": [
        "guidecode.shape"
      ],
      "execution_count": 326,
      "outputs": [
        {
          "output_type": "execute_result",
          "data": {
            "text/plain": [
              "(4665, 23, 4)"
            ]
          },
          "metadata": {
            "tags": []
          },
          "execution_count": 326
        }
      ]
    },
    {
      "cell_type": "code",
      "metadata": {
        "id": "bo_OQPINcE3L",
        "colab": {
          "base_uri": "https://localhost:8080/"
        },
        "outputId": "49b18d9f-22fb-4d1a-c2f5-823c4bd3e485"
      },
      "source": [
        "seqdata_all=guidecode\n",
        "print(seqdata_all.shape)"
      ],
      "execution_count": 327,
      "outputs": [
        {
          "output_type": "stream",
          "text": [
            "(4665, 23, 4)\n"
          ],
          "name": "stdout"
        }
      ]
    },
    {
      "cell_type": "code",
      "metadata": {
        "id": "fgztcQI0ZES9"
      },
      "source": [
        "from sklearn.model_selection import train_test_split\n",
        "train_seq,test_seq,train_lab,test_lab=train_test_split(seqdata_all,labels_all,train_size = 0.6,random_state=14,stratify=labels_all)"
      ],
      "execution_count": 328,
      "outputs": []
    },
    {
      "cell_type": "code",
      "metadata": {
        "id": "579mL7Rsb-NO",
        "colab": {
          "base_uri": "https://localhost:8080/"
        },
        "outputId": "87c69b17-fdef-4796-f8a4-d6a5e1734714"
      },
      "source": [
        "train_seq.shape"
      ],
      "execution_count": 329,
      "outputs": [
        {
          "output_type": "execute_result",
          "data": {
            "text/plain": [
              "(2799, 23, 4)"
            ]
          },
          "metadata": {
            "tags": []
          },
          "execution_count": 329
        }
      ]
    },
    {
      "cell_type": "code",
      "metadata": {
        "id": "QgFrcDWfEPtN"
      },
      "source": [
        "Ntest_seq=test_seq[:int(test_seq.shape[0]*5/8)]\n",
        "val_seq=test_seq[int(test_seq.shape[0]*5/8)+1:]\n",
        "Ntest_lab=test_lab[:int(test_seq.shape[0]*5/8)]\n",
        "val_lab=test_lab[int(test_seq.shape[0]*5/8)+1:]"
      ],
      "execution_count": 330,
      "outputs": []
    },
    {
      "cell_type": "code",
      "metadata": {
        "id": "yRdwI4H4J6GM"
      },
      "source": [
        "def CNN_model():\n",
        "  model = tf.keras.Sequential()\n",
        "  \n",
        "  model.add(layers.Conv1D(16, 3, padding='same', activation='relu', input_shape=(23,4)))\n",
        "  model.add(layers.BatchNormalization())\n",
        "  model.add(layers.LeakyReLU())\n",
        "  model.add(layers.Dropout(0.3))\n",
        "\n",
        "  model.add(layers.Conv1D(64, 3,padding='same', activation='relu'))\n",
        "  model.add(layers.BatchNormalization())\n",
        "  model.add(layers.LeakyReLU())\n",
        "  model.add(layers.Dropout(0.3))\n",
        "\n",
        "  model.add(layers.Conv1D(64, 3,padding='same', activation='relu'))\n",
        "  model.add(layers.BatchNormalization())\n",
        "  model.add(layers.LeakyReLU())\n",
        "  model.add(layers.Dropout(0.3))\n",
        "\n",
        "  model.add(layers.Flatten())\n",
        "  model.add(layers.Dense(16, activation='relu'))\n",
        "  model.add(layers.Dense(2,activation='sigmoid'))\n",
        "\n",
        "  return model"
      ],
      "execution_count": 331,
      "outputs": []
    },
    {
      "cell_type": "code",
      "metadata": {
        "id": "NaSwu0mpR2MR"
      },
      "source": [
        "model=CNN_model()\n",
        "#model.summary()"
      ],
      "execution_count": 332,
      "outputs": []
    },
    {
      "cell_type": "code",
      "metadata": {
        "id": "2WewlvP6SLbc"
      },
      "source": [
        "model.compile(optimizer='adam',\n",
        "              loss=tf.keras.losses.SparseCategoricalCrossentropy(from_logits=True),\n",
        "              metrics=['accuracy'])"
      ],
      "execution_count": 333,
      "outputs": []
    },
    {
      "cell_type": "code",
      "metadata": {
        "id": "Z04ozd0wNsfm",
        "colab": {
          "base_uri": "https://localhost:8080/"
        },
        "outputId": "e2160e64-062f-4a2e-d598-6c1d4c33c7d9"
      },
      "source": [
        "history = model.fit(train_seq, train_lab, epochs=200, batch_size=16,\n",
        "                    validation_data=(val_seq, val_lab))"
      ],
      "execution_count": 334,
      "outputs": [
        {
          "output_type": "stream",
          "text": [
            "Epoch 1/200\n",
            "175/175 [==============================] - 2s 7ms/step - loss: 0.4457 - accuracy: 0.8077 - val_loss: 0.9865 - val_accuracy: 0.2589\n",
            "Epoch 2/200\n",
            "175/175 [==============================] - 1s 6ms/step - loss: 0.1844 - accuracy: 0.9429 - val_loss: 0.6770 - val_accuracy: 0.6209\n",
            "Epoch 3/200\n",
            "175/175 [==============================] - 1s 6ms/step - loss: 0.1406 - accuracy: 0.9516 - val_loss: 0.2652 - val_accuracy: 0.9041\n",
            "Epoch 4/200\n",
            "175/175 [==============================] - 1s 6ms/step - loss: 0.1276 - accuracy: 0.9597 - val_loss: 0.2149 - val_accuracy: 0.9227\n",
            "Epoch 5/200\n",
            "175/175 [==============================] - 1s 6ms/step - loss: 0.1097 - accuracy: 0.9703 - val_loss: 0.1989 - val_accuracy: 0.9385\n",
            "Epoch 6/200\n",
            "175/175 [==============================] - 1s 6ms/step - loss: 0.1021 - accuracy: 0.9671 - val_loss: 0.1580 - val_accuracy: 0.9442\n",
            "Epoch 7/200\n",
            "175/175 [==============================] - 1s 6ms/step - loss: 0.0821 - accuracy: 0.9685 - val_loss: 0.1590 - val_accuracy: 0.9428\n",
            "Epoch 8/200\n",
            "175/175 [==============================] - 1s 6ms/step - loss: 0.0881 - accuracy: 0.9704 - val_loss: 0.1794 - val_accuracy: 0.9428\n",
            "Epoch 9/200\n",
            "175/175 [==============================] - 1s 6ms/step - loss: 0.0712 - accuracy: 0.9778 - val_loss: 0.1923 - val_accuracy: 0.9428\n",
            "Epoch 10/200\n",
            "175/175 [==============================] - 1s 6ms/step - loss: 0.0761 - accuracy: 0.9765 - val_loss: 0.1870 - val_accuracy: 0.9413\n",
            "Epoch 11/200\n",
            "175/175 [==============================] - 1s 6ms/step - loss: 0.0543 - accuracy: 0.9808 - val_loss: 0.1991 - val_accuracy: 0.9399\n",
            "Epoch 12/200\n",
            "175/175 [==============================] - 1s 6ms/step - loss: 0.0663 - accuracy: 0.9796 - val_loss: 0.1885 - val_accuracy: 0.9471\n",
            "Epoch 13/200\n",
            "175/175 [==============================] - 1s 6ms/step - loss: 0.0486 - accuracy: 0.9863 - val_loss: 0.1653 - val_accuracy: 0.9542\n",
            "Epoch 14/200\n",
            "175/175 [==============================] - 1s 6ms/step - loss: 0.0388 - accuracy: 0.9874 - val_loss: 0.2096 - val_accuracy: 0.9514\n",
            "Epoch 15/200\n",
            "175/175 [==============================] - 1s 6ms/step - loss: 0.0500 - accuracy: 0.9858 - val_loss: 0.2061 - val_accuracy: 0.9557\n",
            "Epoch 16/200\n",
            "175/175 [==============================] - 1s 6ms/step - loss: 0.0468 - accuracy: 0.9820 - val_loss: 0.1738 - val_accuracy: 0.9528\n",
            "Epoch 17/200\n",
            "175/175 [==============================] - 1s 6ms/step - loss: 0.0540 - accuracy: 0.9858 - val_loss: 0.1661 - val_accuracy: 0.9557\n",
            "Epoch 18/200\n",
            "175/175 [==============================] - 1s 6ms/step - loss: 0.0523 - accuracy: 0.9803 - val_loss: 0.1562 - val_accuracy: 0.9599\n",
            "Epoch 19/200\n",
            "175/175 [==============================] - 1s 6ms/step - loss: 0.0530 - accuracy: 0.9845 - val_loss: 0.1657 - val_accuracy: 0.9571\n",
            "Epoch 20/200\n",
            "175/175 [==============================] - 1s 6ms/step - loss: 0.0529 - accuracy: 0.9787 - val_loss: 0.1496 - val_accuracy: 0.9599\n",
            "Epoch 21/200\n",
            "175/175 [==============================] - 1s 6ms/step - loss: 0.0365 - accuracy: 0.9828 - val_loss: 0.1483 - val_accuracy: 0.9642\n",
            "Epoch 22/200\n",
            "175/175 [==============================] - 1s 6ms/step - loss: 0.0342 - accuracy: 0.9875 - val_loss: 0.1911 - val_accuracy: 0.9614\n",
            "Epoch 23/200\n",
            "175/175 [==============================] - 1s 6ms/step - loss: 0.0350 - accuracy: 0.9900 - val_loss: 0.1406 - val_accuracy: 0.9714\n",
            "Epoch 24/200\n",
            "175/175 [==============================] - 1s 6ms/step - loss: 0.0289 - accuracy: 0.9901 - val_loss: 0.1523 - val_accuracy: 0.9657\n",
            "Epoch 25/200\n",
            "175/175 [==============================] - 1s 6ms/step - loss: 0.0429 - accuracy: 0.9837 - val_loss: 0.1402 - val_accuracy: 0.9657\n",
            "Epoch 26/200\n",
            "175/175 [==============================] - 1s 6ms/step - loss: 0.0360 - accuracy: 0.9859 - val_loss: 0.1840 - val_accuracy: 0.9585\n",
            "Epoch 27/200\n",
            "175/175 [==============================] - 1s 6ms/step - loss: 0.0252 - accuracy: 0.9879 - val_loss: 0.1574 - val_accuracy: 0.9671\n",
            "Epoch 28/200\n",
            "175/175 [==============================] - 1s 6ms/step - loss: 0.0282 - accuracy: 0.9852 - val_loss: 0.1652 - val_accuracy: 0.9700\n",
            "Epoch 29/200\n",
            "175/175 [==============================] - 1s 6ms/step - loss: 0.0245 - accuracy: 0.9870 - val_loss: 0.1773 - val_accuracy: 0.9614\n",
            "Epoch 30/200\n",
            "175/175 [==============================] - 1s 6ms/step - loss: 0.0299 - accuracy: 0.9900 - val_loss: 0.1396 - val_accuracy: 0.9714\n",
            "Epoch 31/200\n",
            "175/175 [==============================] - 1s 6ms/step - loss: 0.0234 - accuracy: 0.9883 - val_loss: 0.1384 - val_accuracy: 0.9728\n",
            "Epoch 32/200\n",
            "175/175 [==============================] - 1s 6ms/step - loss: 0.0297 - accuracy: 0.9922 - val_loss: 0.1343 - val_accuracy: 0.9714\n",
            "Epoch 33/200\n",
            "175/175 [==============================] - 1s 6ms/step - loss: 0.0187 - accuracy: 0.9902 - val_loss: 0.1512 - val_accuracy: 0.9700\n",
            "Epoch 34/200\n",
            "175/175 [==============================] - 1s 6ms/step - loss: 0.0391 - accuracy: 0.9841 - val_loss: 0.1978 - val_accuracy: 0.9628\n",
            "Epoch 35/200\n",
            "175/175 [==============================] - 1s 6ms/step - loss: 0.0181 - accuracy: 0.9942 - val_loss: 0.1627 - val_accuracy: 0.9714\n",
            "Epoch 36/200\n",
            "175/175 [==============================] - 1s 6ms/step - loss: 0.0313 - accuracy: 0.9872 - val_loss: 0.1575 - val_accuracy: 0.9742\n",
            "Epoch 37/200\n",
            "175/175 [==============================] - 1s 6ms/step - loss: 0.0295 - accuracy: 0.9900 - val_loss: 0.1799 - val_accuracy: 0.9742\n",
            "Epoch 38/200\n",
            "175/175 [==============================] - 1s 6ms/step - loss: 0.0257 - accuracy: 0.9845 - val_loss: 0.1671 - val_accuracy: 0.9728\n",
            "Epoch 39/200\n",
            "175/175 [==============================] - 1s 6ms/step - loss: 0.0268 - accuracy: 0.9853 - val_loss: 0.1567 - val_accuracy: 0.9685\n",
            "Epoch 40/200\n",
            "175/175 [==============================] - 1s 6ms/step - loss: 0.0195 - accuracy: 0.9888 - val_loss: 0.1675 - val_accuracy: 0.9642\n",
            "Epoch 41/200\n",
            "175/175 [==============================] - 1s 6ms/step - loss: 0.0299 - accuracy: 0.9865 - val_loss: 0.1954 - val_accuracy: 0.9671\n",
            "Epoch 42/200\n",
            "175/175 [==============================] - 1s 6ms/step - loss: 0.0231 - accuracy: 0.9903 - val_loss: 0.1698 - val_accuracy: 0.9714\n",
            "Epoch 43/200\n",
            "175/175 [==============================] - 1s 6ms/step - loss: 0.0156 - accuracy: 0.9928 - val_loss: 0.1729 - val_accuracy: 0.9714\n",
            "Epoch 44/200\n",
            "175/175 [==============================] - 1s 6ms/step - loss: 0.0193 - accuracy: 0.9911 - val_loss: 0.1642 - val_accuracy: 0.9728\n",
            "Epoch 45/200\n",
            "175/175 [==============================] - 1s 6ms/step - loss: 0.0113 - accuracy: 0.9947 - val_loss: 0.1792 - val_accuracy: 0.9728\n",
            "Epoch 46/200\n",
            "175/175 [==============================] - 1s 6ms/step - loss: 0.0151 - accuracy: 0.9928 - val_loss: 0.1607 - val_accuracy: 0.9757\n",
            "Epoch 47/200\n",
            "175/175 [==============================] - 1s 6ms/step - loss: 0.0230 - accuracy: 0.9926 - val_loss: 0.1953 - val_accuracy: 0.9628\n",
            "Epoch 48/200\n",
            "175/175 [==============================] - 1s 6ms/step - loss: 0.0188 - accuracy: 0.9930 - val_loss: 0.1595 - val_accuracy: 0.9700\n",
            "Epoch 49/200\n",
            "175/175 [==============================] - 1s 6ms/step - loss: 0.0126 - accuracy: 0.9964 - val_loss: 0.1621 - val_accuracy: 0.9671\n",
            "Epoch 50/200\n",
            "175/175 [==============================] - 1s 6ms/step - loss: 0.0151 - accuracy: 0.9965 - val_loss: 0.1637 - val_accuracy: 0.9742\n",
            "Epoch 51/200\n",
            "175/175 [==============================] - 1s 6ms/step - loss: 0.0135 - accuracy: 0.9935 - val_loss: 0.1851 - val_accuracy: 0.9728\n",
            "Epoch 52/200\n",
            "175/175 [==============================] - 1s 6ms/step - loss: 0.0111 - accuracy: 0.9969 - val_loss: 0.1806 - val_accuracy: 0.9714\n",
            "Epoch 53/200\n",
            "175/175 [==============================] - 1s 6ms/step - loss: 0.0183 - accuracy: 0.9932 - val_loss: 0.2118 - val_accuracy: 0.9642\n",
            "Epoch 54/200\n",
            "175/175 [==============================] - 1s 6ms/step - loss: 0.0162 - accuracy: 0.9948 - val_loss: 0.1641 - val_accuracy: 0.9714\n",
            "Epoch 55/200\n",
            "175/175 [==============================] - 1s 6ms/step - loss: 0.0145 - accuracy: 0.9948 - val_loss: 0.2229 - val_accuracy: 0.9628\n",
            "Epoch 56/200\n",
            "175/175 [==============================] - 1s 6ms/step - loss: 0.0137 - accuracy: 0.9942 - val_loss: 0.1935 - val_accuracy: 0.9642\n",
            "Epoch 57/200\n",
            "175/175 [==============================] - 1s 6ms/step - loss: 0.0150 - accuracy: 0.9943 - val_loss: 0.1781 - val_accuracy: 0.9714\n",
            "Epoch 58/200\n",
            "175/175 [==============================] - 1s 6ms/step - loss: 0.0182 - accuracy: 0.9929 - val_loss: 0.1360 - val_accuracy: 0.9757\n",
            "Epoch 59/200\n",
            "175/175 [==============================] - 1s 6ms/step - loss: 0.0179 - accuracy: 0.9957 - val_loss: 0.1649 - val_accuracy: 0.9742\n",
            "Epoch 60/200\n",
            "175/175 [==============================] - 1s 6ms/step - loss: 0.0175 - accuracy: 0.9924 - val_loss: 0.1676 - val_accuracy: 0.9714\n",
            "Epoch 61/200\n",
            "175/175 [==============================] - 1s 6ms/step - loss: 0.0125 - accuracy: 0.9963 - val_loss: 0.1632 - val_accuracy: 0.9728\n",
            "Epoch 62/200\n",
            "175/175 [==============================] - 1s 6ms/step - loss: 0.0096 - accuracy: 0.9973 - val_loss: 0.1815 - val_accuracy: 0.9700\n",
            "Epoch 63/200\n",
            "175/175 [==============================] - 1s 6ms/step - loss: 0.0177 - accuracy: 0.9949 - val_loss: 0.1617 - val_accuracy: 0.9728\n",
            "Epoch 64/200\n",
            "175/175 [==============================] - 1s 6ms/step - loss: 0.0233 - accuracy: 0.9926 - val_loss: 0.1756 - val_accuracy: 0.9714\n",
            "Epoch 65/200\n",
            "175/175 [==============================] - 1s 6ms/step - loss: 0.0126 - accuracy: 0.9945 - val_loss: 0.2052 - val_accuracy: 0.9700\n",
            "Epoch 66/200\n",
            "175/175 [==============================] - 1s 6ms/step - loss: 0.0166 - accuracy: 0.9931 - val_loss: 0.2033 - val_accuracy: 0.9728\n",
            "Epoch 67/200\n",
            "175/175 [==============================] - 1s 6ms/step - loss: 0.0132 - accuracy: 0.9948 - val_loss: 0.2242 - val_accuracy: 0.9685\n",
            "Epoch 68/200\n",
            "175/175 [==============================] - 1s 6ms/step - loss: 0.0107 - accuracy: 0.9970 - val_loss: 0.2376 - val_accuracy: 0.9728\n",
            "Epoch 69/200\n",
            "175/175 [==============================] - 1s 6ms/step - loss: 0.0131 - accuracy: 0.9952 - val_loss: 0.2040 - val_accuracy: 0.9685\n",
            "Epoch 70/200\n",
            "175/175 [==============================] - 1s 6ms/step - loss: 0.0120 - accuracy: 0.9969 - val_loss: 0.1950 - val_accuracy: 0.9728\n",
            "Epoch 71/200\n",
            "175/175 [==============================] - 1s 6ms/step - loss: 0.0085 - accuracy: 0.9972 - val_loss: 0.1717 - val_accuracy: 0.9714\n",
            "Epoch 72/200\n",
            "175/175 [==============================] - 1s 6ms/step - loss: 0.0142 - accuracy: 0.9958 - val_loss: 0.1719 - val_accuracy: 0.9671\n",
            "Epoch 73/200\n",
            "175/175 [==============================] - 1s 6ms/step - loss: 0.0107 - accuracy: 0.9964 - val_loss: 0.1688 - val_accuracy: 0.9728\n",
            "Epoch 74/200\n",
            "175/175 [==============================] - 1s 6ms/step - loss: 0.0080 - accuracy: 0.9982 - val_loss: 0.1856 - val_accuracy: 0.9714\n",
            "Epoch 75/200\n",
            "175/175 [==============================] - 1s 6ms/step - loss: 0.0091 - accuracy: 0.9973 - val_loss: 0.1695 - val_accuracy: 0.9771\n",
            "Epoch 76/200\n",
            "175/175 [==============================] - 1s 6ms/step - loss: 0.0096 - accuracy: 0.9972 - val_loss: 0.2013 - val_accuracy: 0.9742\n",
            "Epoch 77/200\n",
            "175/175 [==============================] - 1s 6ms/step - loss: 0.0104 - accuracy: 0.9974 - val_loss: 0.1983 - val_accuracy: 0.9757\n",
            "Epoch 78/200\n",
            "175/175 [==============================] - 1s 6ms/step - loss: 0.0095 - accuracy: 0.9954 - val_loss: 0.1665 - val_accuracy: 0.9757\n",
            "Epoch 79/200\n",
            "175/175 [==============================] - 1s 6ms/step - loss: 0.0084 - accuracy: 0.9975 - val_loss: 0.2027 - val_accuracy: 0.9728\n",
            "Epoch 80/200\n",
            "175/175 [==============================] - 1s 6ms/step - loss: 0.0099 - accuracy: 0.9974 - val_loss: 0.1841 - val_accuracy: 0.9771\n",
            "Epoch 81/200\n",
            "175/175 [==============================] - 1s 6ms/step - loss: 0.0165 - accuracy: 0.9944 - val_loss: 0.1696 - val_accuracy: 0.9742\n",
            "Epoch 82/200\n",
            "175/175 [==============================] - 1s 6ms/step - loss: 0.0074 - accuracy: 0.9979 - val_loss: 0.1858 - val_accuracy: 0.9714\n",
            "Epoch 83/200\n",
            "175/175 [==============================] - 1s 6ms/step - loss: 0.0106 - accuracy: 0.9968 - val_loss: 0.1502 - val_accuracy: 0.9771\n",
            "Epoch 84/200\n",
            "175/175 [==============================] - 1s 6ms/step - loss: 0.0119 - accuracy: 0.9978 - val_loss: 0.1493 - val_accuracy: 0.9785\n",
            "Epoch 85/200\n",
            "175/175 [==============================] - 1s 6ms/step - loss: 0.0069 - accuracy: 0.9984 - val_loss: 0.1474 - val_accuracy: 0.9814\n",
            "Epoch 86/200\n",
            "175/175 [==============================] - 1s 6ms/step - loss: 0.0074 - accuracy: 0.9975 - val_loss: 0.1806 - val_accuracy: 0.9785\n",
            "Epoch 87/200\n",
            "175/175 [==============================] - 1s 6ms/step - loss: 0.0048 - accuracy: 0.9986 - val_loss: 0.1534 - val_accuracy: 0.9814\n",
            "Epoch 88/200\n",
            "175/175 [==============================] - 1s 6ms/step - loss: 0.0081 - accuracy: 0.9969 - val_loss: 0.1728 - val_accuracy: 0.9742\n",
            "Epoch 89/200\n",
            "175/175 [==============================] - 1s 6ms/step - loss: 0.0184 - accuracy: 0.9952 - val_loss: 0.1388 - val_accuracy: 0.9800\n",
            "Epoch 90/200\n",
            "175/175 [==============================] - 1s 6ms/step - loss: 0.0065 - accuracy: 0.9975 - val_loss: 0.1474 - val_accuracy: 0.9771\n",
            "Epoch 91/200\n",
            "175/175 [==============================] - 1s 6ms/step - loss: 0.0108 - accuracy: 0.9979 - val_loss: 0.1594 - val_accuracy: 0.9785\n",
            "Epoch 92/200\n",
            "175/175 [==============================] - 1s 6ms/step - loss: 0.0149 - accuracy: 0.9934 - val_loss: 0.1995 - val_accuracy: 0.9685\n",
            "Epoch 93/200\n",
            "175/175 [==============================] - 1s 6ms/step - loss: 0.0089 - accuracy: 0.9971 - val_loss: 0.1723 - val_accuracy: 0.9771\n",
            "Epoch 94/200\n",
            "175/175 [==============================] - 1s 6ms/step - loss: 0.0085 - accuracy: 0.9972 - val_loss: 0.1572 - val_accuracy: 0.9771\n",
            "Epoch 95/200\n",
            "175/175 [==============================] - 1s 6ms/step - loss: 0.0074 - accuracy: 0.9979 - val_loss: 0.1356 - val_accuracy: 0.9800\n",
            "Epoch 96/200\n",
            "175/175 [==============================] - 1s 6ms/step - loss: 0.0133 - accuracy: 0.9972 - val_loss: 0.1368 - val_accuracy: 0.9800\n",
            "Epoch 97/200\n",
            "175/175 [==============================] - 1s 6ms/step - loss: 0.0028 - accuracy: 0.9999 - val_loss: 0.1423 - val_accuracy: 0.9800\n",
            "Epoch 98/200\n",
            "175/175 [==============================] - 1s 6ms/step - loss: 0.0070 - accuracy: 0.9987 - val_loss: 0.1539 - val_accuracy: 0.9800\n",
            "Epoch 99/200\n",
            "175/175 [==============================] - 1s 6ms/step - loss: 0.0101 - accuracy: 0.9973 - val_loss: 0.1527 - val_accuracy: 0.9800\n",
            "Epoch 100/200\n",
            "175/175 [==============================] - 1s 6ms/step - loss: 0.0105 - accuracy: 0.9956 - val_loss: 0.1590 - val_accuracy: 0.9785\n",
            "Epoch 101/200\n",
            "175/175 [==============================] - 1s 6ms/step - loss: 0.0082 - accuracy: 0.9975 - val_loss: 0.1531 - val_accuracy: 0.9771\n",
            "Epoch 102/200\n",
            "175/175 [==============================] - 1s 6ms/step - loss: 0.0043 - accuracy: 0.9985 - val_loss: 0.1315 - val_accuracy: 0.9828\n",
            "Epoch 103/200\n",
            "175/175 [==============================] - 1s 6ms/step - loss: 0.0090 - accuracy: 0.9968 - val_loss: 0.1413 - val_accuracy: 0.9828\n",
            "Epoch 104/200\n",
            "175/175 [==============================] - 1s 6ms/step - loss: 0.0042 - accuracy: 0.9990 - val_loss: 0.1410 - val_accuracy: 0.9814\n",
            "Epoch 105/200\n",
            "175/175 [==============================] - 1s 6ms/step - loss: 0.0147 - accuracy: 0.9955 - val_loss: 0.1381 - val_accuracy: 0.9828\n",
            "Epoch 106/200\n",
            "175/175 [==============================] - 1s 6ms/step - loss: 0.0076 - accuracy: 0.9974 - val_loss: 0.1357 - val_accuracy: 0.9800\n",
            "Epoch 107/200\n",
            "175/175 [==============================] - 1s 6ms/step - loss: 0.0048 - accuracy: 0.9990 - val_loss: 0.1622 - val_accuracy: 0.9785\n",
            "Epoch 108/200\n",
            "175/175 [==============================] - 1s 6ms/step - loss: 0.0063 - accuracy: 0.9980 - val_loss: 0.1594 - val_accuracy: 0.9771\n",
            "Epoch 109/200\n",
            "175/175 [==============================] - 1s 6ms/step - loss: 0.0076 - accuracy: 0.9990 - val_loss: 0.1370 - val_accuracy: 0.9785\n",
            "Epoch 110/200\n",
            "175/175 [==============================] - 1s 6ms/step - loss: 0.0061 - accuracy: 0.9978 - val_loss: 0.1418 - val_accuracy: 0.9843\n",
            "Epoch 111/200\n",
            "175/175 [==============================] - 1s 6ms/step - loss: 0.0098 - accuracy: 0.9975 - val_loss: 0.1385 - val_accuracy: 0.9814\n",
            "Epoch 112/200\n",
            "175/175 [==============================] - 1s 6ms/step - loss: 0.0046 - accuracy: 0.9986 - val_loss: 0.1411 - val_accuracy: 0.9871\n",
            "Epoch 113/200\n",
            "175/175 [==============================] - 1s 6ms/step - loss: 0.0025 - accuracy: 0.9990 - val_loss: 0.1365 - val_accuracy: 0.9843\n",
            "Epoch 114/200\n",
            "175/175 [==============================] - 1s 6ms/step - loss: 0.0145 - accuracy: 0.9959 - val_loss: 0.1267 - val_accuracy: 0.9828\n",
            "Epoch 115/200\n",
            "175/175 [==============================] - 1s 6ms/step - loss: 0.0035 - accuracy: 0.9991 - val_loss: 0.1277 - val_accuracy: 0.9843\n",
            "Epoch 116/200\n",
            "175/175 [==============================] - 1s 6ms/step - loss: 0.0045 - accuracy: 0.9975 - val_loss: 0.1364 - val_accuracy: 0.9828\n",
            "Epoch 117/200\n",
            "175/175 [==============================] - 1s 6ms/step - loss: 0.0022 - accuracy: 0.9999 - val_loss: 0.1387 - val_accuracy: 0.9785\n",
            "Epoch 118/200\n",
            "175/175 [==============================] - 1s 6ms/step - loss: 0.0100 - accuracy: 0.9983 - val_loss: 0.1416 - val_accuracy: 0.9828\n",
            "Epoch 119/200\n",
            "175/175 [==============================] - 1s 6ms/step - loss: 0.0065 - accuracy: 0.9954 - val_loss: 0.1432 - val_accuracy: 0.9843\n",
            "Epoch 120/200\n",
            "175/175 [==============================] - 1s 6ms/step - loss: 0.0082 - accuracy: 0.9952 - val_loss: 0.1565 - val_accuracy: 0.9828\n",
            "Epoch 121/200\n",
            "175/175 [==============================] - 1s 6ms/step - loss: 0.0049 - accuracy: 0.9975 - val_loss: 0.1715 - val_accuracy: 0.9800\n",
            "Epoch 122/200\n",
            "175/175 [==============================] - 1s 6ms/step - loss: 0.0050 - accuracy: 0.9987 - val_loss: 0.1620 - val_accuracy: 0.9757\n",
            "Epoch 123/200\n",
            "175/175 [==============================] - 1s 6ms/step - loss: 0.0054 - accuracy: 0.9989 - val_loss: 0.1739 - val_accuracy: 0.9800\n",
            "Epoch 124/200\n",
            "175/175 [==============================] - 1s 6ms/step - loss: 0.0125 - accuracy: 0.9965 - val_loss: 0.1456 - val_accuracy: 0.9757\n",
            "Epoch 125/200\n",
            "175/175 [==============================] - 1s 6ms/step - loss: 0.0077 - accuracy: 0.9962 - val_loss: 0.1379 - val_accuracy: 0.9814\n",
            "Epoch 126/200\n",
            "175/175 [==============================] - 1s 6ms/step - loss: 0.0034 - accuracy: 0.9991 - val_loss: 0.1595 - val_accuracy: 0.9771\n",
            "Epoch 127/200\n",
            "175/175 [==============================] - 1s 6ms/step - loss: 0.0080 - accuracy: 0.9955 - val_loss: 0.1557 - val_accuracy: 0.9771\n",
            "Epoch 128/200\n",
            "175/175 [==============================] - 1s 6ms/step - loss: 0.0106 - accuracy: 0.9975 - val_loss: 0.1333 - val_accuracy: 0.9828\n",
            "Epoch 129/200\n",
            "175/175 [==============================] - 1s 6ms/step - loss: 0.0061 - accuracy: 0.9976 - val_loss: 0.1331 - val_accuracy: 0.9800\n",
            "Epoch 130/200\n",
            "175/175 [==============================] - 1s 6ms/step - loss: 0.0028 - accuracy: 0.9991 - val_loss: 0.1658 - val_accuracy: 0.9771\n",
            "Epoch 131/200\n",
            "175/175 [==============================] - 1s 6ms/step - loss: 0.0126 - accuracy: 0.9966 - val_loss: 0.1593 - val_accuracy: 0.9757\n",
            "Epoch 132/200\n",
            "175/175 [==============================] - 1s 6ms/step - loss: 0.0041 - accuracy: 0.9992 - val_loss: 0.1389 - val_accuracy: 0.9857\n",
            "Epoch 133/200\n",
            "175/175 [==============================] - 1s 6ms/step - loss: 0.0075 - accuracy: 0.9983 - val_loss: 0.1341 - val_accuracy: 0.9771\n",
            "Epoch 134/200\n",
            "175/175 [==============================] - 1s 6ms/step - loss: 0.0029 - accuracy: 0.9993 - val_loss: 0.1448 - val_accuracy: 0.9771\n",
            "Epoch 135/200\n",
            "175/175 [==============================] - 1s 6ms/step - loss: 0.0034 - accuracy: 0.9987 - val_loss: 0.1491 - val_accuracy: 0.9757\n",
            "Epoch 136/200\n",
            "175/175 [==============================] - 1s 6ms/step - loss: 0.0033 - accuracy: 0.9990 - val_loss: 0.1655 - val_accuracy: 0.9742\n",
            "Epoch 137/200\n",
            "175/175 [==============================] - 1s 6ms/step - loss: 0.0038 - accuracy: 0.9984 - val_loss: 0.1472 - val_accuracy: 0.9814\n",
            "Epoch 138/200\n",
            "175/175 [==============================] - 1s 6ms/step - loss: 0.0067 - accuracy: 0.9985 - val_loss: 0.1291 - val_accuracy: 0.9800\n",
            "Epoch 139/200\n",
            "175/175 [==============================] - 1s 6ms/step - loss: 0.0045 - accuracy: 0.9984 - val_loss: 0.1630 - val_accuracy: 0.9685\n",
            "Epoch 140/200\n",
            "175/175 [==============================] - 1s 6ms/step - loss: 0.0082 - accuracy: 0.9974 - val_loss: 0.1615 - val_accuracy: 0.9785\n",
            "Epoch 141/200\n",
            "175/175 [==============================] - 1s 6ms/step - loss: 0.0059 - accuracy: 0.9979 - val_loss: 0.1577 - val_accuracy: 0.9857\n",
            "Epoch 142/200\n",
            "175/175 [==============================] - 1s 6ms/step - loss: 0.0055 - accuracy: 0.9979 - val_loss: 0.1687 - val_accuracy: 0.9814\n",
            "Epoch 143/200\n",
            "175/175 [==============================] - 1s 6ms/step - loss: 0.0037 - accuracy: 0.9993 - val_loss: 0.1768 - val_accuracy: 0.9800\n",
            "Epoch 144/200\n",
            "175/175 [==============================] - 1s 6ms/step - loss: 0.0045 - accuracy: 0.9989 - val_loss: 0.1807 - val_accuracy: 0.9757\n",
            "Epoch 145/200\n",
            "175/175 [==============================] - 1s 6ms/step - loss: 0.0085 - accuracy: 0.9973 - val_loss: 0.1465 - val_accuracy: 0.9800\n",
            "Epoch 146/200\n",
            "175/175 [==============================] - 1s 6ms/step - loss: 0.0093 - accuracy: 0.9966 - val_loss: 0.1546 - val_accuracy: 0.9771\n",
            "Epoch 147/200\n",
            "175/175 [==============================] - 1s 6ms/step - loss: 0.0055 - accuracy: 0.9986 - val_loss: 0.2308 - val_accuracy: 0.9657\n",
            "Epoch 148/200\n",
            "175/175 [==============================] - 1s 6ms/step - loss: 0.0107 - accuracy: 0.9988 - val_loss: 0.1929 - val_accuracy: 0.9757\n",
            "Epoch 149/200\n",
            "175/175 [==============================] - 1s 6ms/step - loss: 0.0031 - accuracy: 0.9993 - val_loss: 0.1878 - val_accuracy: 0.9785\n",
            "Epoch 150/200\n",
            "175/175 [==============================] - 1s 6ms/step - loss: 0.0045 - accuracy: 0.9975 - val_loss: 0.1890 - val_accuracy: 0.9828\n",
            "Epoch 151/200\n",
            "175/175 [==============================] - 1s 6ms/step - loss: 0.0055 - accuracy: 0.9986 - val_loss: 0.2014 - val_accuracy: 0.9800\n",
            "Epoch 152/200\n",
            "175/175 [==============================] - 1s 6ms/step - loss: 0.0043 - accuracy: 0.9983 - val_loss: 0.2304 - val_accuracy: 0.9728\n",
            "Epoch 153/200\n",
            "175/175 [==============================] - 1s 6ms/step - loss: 0.0088 - accuracy: 0.9983 - val_loss: 0.1769 - val_accuracy: 0.9800\n",
            "Epoch 154/200\n",
            "175/175 [==============================] - 1s 6ms/step - loss: 0.0107 - accuracy: 0.9972 - val_loss: 0.1916 - val_accuracy: 0.9728\n",
            "Epoch 155/200\n",
            "175/175 [==============================] - 1s 6ms/step - loss: 0.0072 - accuracy: 0.9984 - val_loss: 0.2035 - val_accuracy: 0.9700\n",
            "Epoch 156/200\n",
            "175/175 [==============================] - 1s 6ms/step - loss: 0.0035 - accuracy: 0.9988 - val_loss: 0.1713 - val_accuracy: 0.9814\n",
            "Epoch 157/200\n",
            "175/175 [==============================] - 1s 6ms/step - loss: 0.0039 - accuracy: 0.9980 - val_loss: 0.1853 - val_accuracy: 0.9742\n",
            "Epoch 158/200\n",
            "175/175 [==============================] - 1s 6ms/step - loss: 0.0016 - accuracy: 0.9992 - val_loss: 0.1840 - val_accuracy: 0.9728\n",
            "Epoch 159/200\n",
            "175/175 [==============================] - 1s 6ms/step - loss: 0.0038 - accuracy: 0.9992 - val_loss: 0.2076 - val_accuracy: 0.9685\n",
            "Epoch 160/200\n",
            "175/175 [==============================] - 1s 6ms/step - loss: 0.0058 - accuracy: 0.9986 - val_loss: 0.1796 - val_accuracy: 0.9742\n",
            "Epoch 161/200\n",
            "175/175 [==============================] - 1s 6ms/step - loss: 0.0028 - accuracy: 0.9995 - val_loss: 0.1958 - val_accuracy: 0.9728\n",
            "Epoch 162/200\n",
            "175/175 [==============================] - 1s 6ms/step - loss: 0.0033 - accuracy: 0.9984 - val_loss: 0.1942 - val_accuracy: 0.9785\n",
            "Epoch 163/200\n",
            "175/175 [==============================] - 1s 6ms/step - loss: 0.0033 - accuracy: 0.9990 - val_loss: 0.2221 - val_accuracy: 0.9671\n",
            "Epoch 164/200\n",
            "175/175 [==============================] - 1s 6ms/step - loss: 0.0081 - accuracy: 0.9989 - val_loss: 0.1721 - val_accuracy: 0.9785\n",
            "Epoch 165/200\n",
            "175/175 [==============================] - 1s 6ms/step - loss: 0.0062 - accuracy: 0.9967 - val_loss: 0.1887 - val_accuracy: 0.9785\n",
            "Epoch 166/200\n",
            "175/175 [==============================] - 1s 6ms/step - loss: 0.0026 - accuracy: 0.9990 - val_loss: 0.1891 - val_accuracy: 0.9728\n",
            "Epoch 167/200\n",
            "175/175 [==============================] - 1s 6ms/step - loss: 0.0024 - accuracy: 0.9989 - val_loss: 0.1814 - val_accuracy: 0.9800\n",
            "Epoch 168/200\n",
            "175/175 [==============================] - 1s 6ms/step - loss: 0.0043 - accuracy: 0.9968 - val_loss: 0.1777 - val_accuracy: 0.9814\n",
            "Epoch 169/200\n",
            "175/175 [==============================] - 1s 6ms/step - loss: 8.9645e-04 - accuracy: 1.0000 - val_loss: 0.1788 - val_accuracy: 0.9814\n",
            "Epoch 170/200\n",
            "175/175 [==============================] - 1s 6ms/step - loss: 0.0028 - accuracy: 0.9988 - val_loss: 0.1940 - val_accuracy: 0.9800\n",
            "Epoch 171/200\n",
            "175/175 [==============================] - 1s 6ms/step - loss: 0.0034 - accuracy: 0.9994 - val_loss: 0.2236 - val_accuracy: 0.9685\n",
            "Epoch 172/200\n",
            "175/175 [==============================] - 1s 6ms/step - loss: 0.0092 - accuracy: 0.9987 - val_loss: 0.2373 - val_accuracy: 0.9757\n",
            "Epoch 173/200\n",
            "175/175 [==============================] - 1s 6ms/step - loss: 0.0056 - accuracy: 0.9986 - val_loss: 0.1978 - val_accuracy: 0.9785\n",
            "Epoch 174/200\n",
            "175/175 [==============================] - 1s 6ms/step - loss: 0.0080 - accuracy: 0.9978 - val_loss: 0.2342 - val_accuracy: 0.9742\n",
            "Epoch 175/200\n",
            "175/175 [==============================] - 1s 6ms/step - loss: 0.0053 - accuracy: 0.9983 - val_loss: 0.2216 - val_accuracy: 0.9728\n",
            "Epoch 176/200\n",
            "175/175 [==============================] - 1s 6ms/step - loss: 0.0096 - accuracy: 0.9974 - val_loss: 0.2254 - val_accuracy: 0.9742\n",
            "Epoch 177/200\n",
            "175/175 [==============================] - 1s 6ms/step - loss: 0.0038 - accuracy: 0.9982 - val_loss: 0.2206 - val_accuracy: 0.9771\n",
            "Epoch 178/200\n",
            "175/175 [==============================] - 1s 6ms/step - loss: 0.0145 - accuracy: 0.9967 - val_loss: 0.2004 - val_accuracy: 0.9800\n",
            "Epoch 179/200\n",
            "175/175 [==============================] - 1s 6ms/step - loss: 0.0037 - accuracy: 0.9985 - val_loss: 0.2266 - val_accuracy: 0.9728\n",
            "Epoch 180/200\n",
            "175/175 [==============================] - 1s 6ms/step - loss: 0.0035 - accuracy: 0.9993 - val_loss: 0.1983 - val_accuracy: 0.9757\n",
            "Epoch 181/200\n",
            "175/175 [==============================] - 1s 6ms/step - loss: 0.0127 - accuracy: 0.9955 - val_loss: 0.1884 - val_accuracy: 0.9742\n",
            "Epoch 182/200\n",
            "175/175 [==============================] - 1s 6ms/step - loss: 0.0026 - accuracy: 0.9996 - val_loss: 0.1995 - val_accuracy: 0.9757\n",
            "Epoch 183/200\n",
            "175/175 [==============================] - 1s 6ms/step - loss: 0.0013 - accuracy: 1.0000 - val_loss: 0.2102 - val_accuracy: 0.9757\n",
            "Epoch 184/200\n",
            "175/175 [==============================] - 1s 6ms/step - loss: 0.0032 - accuracy: 0.9987 - val_loss: 0.1904 - val_accuracy: 0.9785\n",
            "Epoch 185/200\n",
            "175/175 [==============================] - 1s 6ms/step - loss: 0.0018 - accuracy: 0.9995 - val_loss: 0.1880 - val_accuracy: 0.9800\n",
            "Epoch 186/200\n",
            "175/175 [==============================] - 1s 6ms/step - loss: 0.0015 - accuracy: 0.9998 - val_loss: 0.1796 - val_accuracy: 0.9757\n",
            "Epoch 187/200\n",
            "175/175 [==============================] - 1s 6ms/step - loss: 0.0044 - accuracy: 0.9976 - val_loss: 0.1858 - val_accuracy: 0.9828\n",
            "Epoch 188/200\n",
            "175/175 [==============================] - 1s 6ms/step - loss: 0.0060 - accuracy: 0.9975 - val_loss: 0.2432 - val_accuracy: 0.9728\n",
            "Epoch 189/200\n",
            "175/175 [==============================] - 1s 6ms/step - loss: 0.0015 - accuracy: 0.9997 - val_loss: 0.2139 - val_accuracy: 0.9843\n",
            "Epoch 190/200\n",
            "175/175 [==============================] - 1s 6ms/step - loss: 0.0117 - accuracy: 0.9975 - val_loss: 0.2154 - val_accuracy: 0.9771\n",
            "Epoch 191/200\n",
            "175/175 [==============================] - 1s 6ms/step - loss: 0.0022 - accuracy: 0.9990 - val_loss: 0.2087 - val_accuracy: 0.9800\n",
            "Epoch 192/200\n",
            "175/175 [==============================] - 1s 6ms/step - loss: 0.0022 - accuracy: 0.9996 - val_loss: 0.2086 - val_accuracy: 0.9800\n",
            "Epoch 193/200\n",
            "175/175 [==============================] - 1s 6ms/step - loss: 9.4609e-04 - accuracy: 1.0000 - val_loss: 0.1976 - val_accuracy: 0.9814\n",
            "Epoch 194/200\n",
            "175/175 [==============================] - 1s 6ms/step - loss: 0.0102 - accuracy: 0.9965 - val_loss: 0.2369 - val_accuracy: 0.9700\n",
            "Epoch 195/200\n",
            "175/175 [==============================] - 1s 6ms/step - loss: 0.0105 - accuracy: 0.9963 - val_loss: 0.1924 - val_accuracy: 0.9785\n",
            "Epoch 196/200\n",
            "175/175 [==============================] - 1s 6ms/step - loss: 0.0027 - accuracy: 0.9994 - val_loss: 0.2040 - val_accuracy: 0.9785\n",
            "Epoch 197/200\n",
            "175/175 [==============================] - 1s 6ms/step - loss: 0.0035 - accuracy: 0.9985 - val_loss: 0.2225 - val_accuracy: 0.9800\n",
            "Epoch 198/200\n",
            "175/175 [==============================] - 1s 6ms/step - loss: 0.0016 - accuracy: 0.9998 - val_loss: 0.2369 - val_accuracy: 0.9757\n",
            "Epoch 199/200\n",
            "175/175 [==============================] - 1s 6ms/step - loss: 0.0020 - accuracy: 0.9996 - val_loss: 0.2370 - val_accuracy: 0.9814\n",
            "Epoch 200/200\n",
            "175/175 [==============================] - 1s 6ms/step - loss: 0.0011 - accuracy: 0.9999 - val_loss: 0.2237 - val_accuracy: 0.9828\n"
          ],
          "name": "stdout"
        }
      ]
    },
    {
      "cell_type": "code",
      "metadata": {
        "id": "xN29f_hjVrPa",
        "colab": {
          "base_uri": "https://localhost:8080/"
        },
        "outputId": "2355ec98-36f9-4e64-a4f1-f13a3c0bb6db"
      },
      "source": [
        "test_loss, test_acc = model.evaluate(Ntest_seq, Ntest_lab, verbose=2)"
      ],
      "execution_count": 335,
      "outputs": [
        {
          "output_type": "stream",
          "text": [
            "37/37 - 0s - loss: 0.3353 - accuracy: 0.9786\n"
          ],
          "name": "stdout"
        }
      ]
    },
    {
      "cell_type": "code",
      "metadata": {
        "id": "MbB4uowQUUAe",
        "colab": {
          "base_uri": "https://localhost:8080/"
        },
        "outputId": "1b8bb3e1-14c5-4499-8d39-ec380b4a6fad"
      },
      "source": [
        "print(test_acc)"
      ],
      "execution_count": 336,
      "outputs": [
        {
          "output_type": "stream",
          "text": [
            "0.9785591959953308\n"
          ],
          "name": "stdout"
        }
      ]
    },
    {
      "cell_type": "code",
      "metadata": {
        "id": "g1DQP_9CGD9Z",
        "colab": {
          "base_uri": "https://localhost:8080/"
        },
        "outputId": "288d67d6-3908-4e28-864d-fc504b593c5d"
      },
      "source": [
        "pred_pro=model.predict(Ntest_seq) #计算概率\n",
        "pred_pro.shape"
      ],
      "execution_count": 337,
      "outputs": [
        {
          "output_type": "execute_result",
          "data": {
            "text/plain": [
              "(1166, 2)"
            ]
          },
          "metadata": {
            "tags": []
          },
          "execution_count": 337
        }
      ]
    },
    {
      "cell_type": "code",
      "metadata": {
        "colab": {
          "base_uri": "https://localhost:8080/"
        },
        "id": "jn4ULsf_4fcc",
        "outputId": "d7fcc905-96e6-493f-98cf-9768ff3c24de"
      },
      "source": [
        "# PR曲线（精确率/召回率）\n",
        "from sklearn.metrics import precision_recall_curve,auc\n",
        "precision, recall, thresholds=precision_recall_curve(Ntest_lab,pred_pro[:,1]) # 计算多种阈值的p,r\n",
        "pr_auc = auc(recall, precision)\n",
        "print(pr_auc)"
      ],
      "execution_count": 338,
      "outputs": [
        {
          "output_type": "stream",
          "text": [
            "0.974576409972249\n"
          ],
          "name": "stdout"
        }
      ]
    },
    {
      "cell_type": "code",
      "metadata": {
        "colab": {
          "base_uri": "https://localhost:8080/",
          "height": 283
        },
        "id": "VieSeC6F7iap",
        "outputId": "0b978d7f-6856-411f-c393-769c668aa7cc"
      },
      "source": [
        "# PR曲线\n",
        "def plot_pr_curve(recall,precision,label=None):\n",
        "    plt.plot(recall,precision,'b--',linewidth=2,label=label)\n",
        "    plt.axis([0,1,0,1])\n",
        "    plt.xlabel('recall')\n",
        "    plt.ylabel('precision')\n",
        "plot_pr_curve(recall,precision)\n",
        "plt.show()"
      ],
      "execution_count": 339,
      "outputs": [
        {
          "output_type": "display_data",
          "data": {
            "image/png": "[encoded data removed]",
            "text/plain": [
              "<Figure size 432x288 with 1 Axes>"
            ]
          },
          "metadata": {
            "tags": [],
            "needs_background": "light"
          }
        }
      ]
    },
    {
      "cell_type": "code",
      "metadata": {
        "id": "klol9lQMGPMO"
      },
      "source": [
        "listnew=[list(recall),list(precision)]"
      ],
      "execution_count": 340,
      "outputs": []
    },
    {
      "cell_type": "code",
      "metadata": {
        "id": "2ZR6T2QTGPVm"
      },
      "source": [
        "#def savedata2D(list1,filepath,test_acc,AUC):\n",
        "def savedata2D(list1,filepath):\n",
        "    output = open(filepath,'w+',encoding='utf-8')\n",
        "    for i in range(len(list1)):\n",
        "        for j in range(len(list1[i])):\n",
        "                output.write(str(list1[i][j]))    \n",
        "                output.write('\\t')   \n",
        "        output.write('\\n')\n",
        "    #output.write(AUC)\n",
        "    #output.write('\\n')\n",
        "    #output.write(str(test_acc))\n",
        "    #output.write('\\n')\n",
        "    output.close()"
      ],
      "execution_count": 341,
      "outputs": []
    },
    {
      "cell_type": "code",
      "metadata": {
        "id": "PhPsVf1qGT6H"
      },
      "source": [
        "#fp_roc='/content/data_ROC_on_after.txt'\n",
        "fp_pr='/content/data_PR_on_after.txt'\n",
        "#savedata2D(listnew,fp,test_acc,AUC)\n",
        "#savedata2D(listnew,fp_roc)\n",
        "savedata2D(listnew,fp_pr)"
      ],
      "execution_count": 342,
      "outputs": []
    },
    {
      "cell_type": "code",
      "metadata": {
        "id": "gbbqqSklGZ1C",
        "colab": {
          "base_uri": "https://localhost:8080/",
          "height": 53
        },
        "outputId": "d2b45776-b7ae-47db-fa96-8c0d8cdb0b00"
      },
      "source": [
        "'''\n",
        "fp1='/content/data_ROC_on_after.txt'\n",
        "fp2='/content/data_ROC_on_before.txt'\n",
        "listA=np.loadtxt(fp1)\n",
        "listB=np.loadtxt(fp2)\n",
        "'''"
      ],
      "execution_count": 343,
      "outputs": [
        {
          "output_type": "execute_result",
          "data": {
            "application/vnd.google.colaboratory.intrinsic+json": {
              "type": "string"
            },
            "text/plain": [
              "\"\\nfp1='/content/data_ROC_on_after.txt'\\nfp2='/content/data_ROC_on_before.txt'\\nlistA=np.loadtxt(fp1)\\nlistB=np.loadtxt(fp2)\\n\""
            ]
          },
          "metadata": {
            "tags": []
          },
          "execution_count": 343
        }
      ]
    },
    {
      "cell_type": "code",
      "metadata": {
        "id": "jwv-JPpmGaDg",
        "colab": {
          "base_uri": "https://localhost:8080/",
          "height": 89
        },
        "outputId": "6a0135fe-c137-4c14-cd35-ca9c7dd96dd6"
      },
      "source": [
        "'''\n",
        "# 绘制前后变化\n",
        "def plot_roc_curve2(fpr1,tpr1,fpr2,tpr2,label1,label2,title):\n",
        "    plt.plot(fpr1,tpr1,'r--',linewidth=2,label=label1)\n",
        "    plt.plot(fpr2,tpr2,'g--',linewidth=2,label=label2)\n",
        "    plt.plot([0,1],[0,1],'k--')\n",
        "    plt.axis([0,1,0,1])\n",
        "    plt.xlabel('Fales Positive Rate')\n",
        "    plt.ylabel('True Positive Rate')\n",
        "\n",
        "    plt.legend(loc='upper right')\n",
        "    plt.title(title)\n",
        "    '''"
      ],
      "execution_count": 344,
      "outputs": [
        {
          "output_type": "execute_result",
          "data": {
            "application/vnd.google.colaboratory.intrinsic+json": {
              "type": "string"
            },
            "text/plain": [
              "\"\\n# 绘制前后变化\\ndef plot_roc_curve2(fpr1,tpr1,fpr2,tpr2,label1,label2,title):\\n    plt.plot(fpr1,tpr1,'r--',linewidth=2,label=label1)\\n    plt.plot(fpr2,tpr2,'g--',linewidth=2,label=label2)\\n    plt.plot([0,1],[0,1],'k--')\\n    plt.axis([0,1,0,1])\\n    plt.xlabel('Fales Positive Rate')\\n    plt.ylabel('True Positive Rate')\\n\\n    plt.legend(loc='upper right')\\n    plt.title(title)\\n    \""
            ]
          },
          "metadata": {
            "tags": []
          },
          "execution_count": 344
        }
      ]
    },
    {
      "cell_type": "code",
      "metadata": {
        "id": "_i_jSByIGfI6",
        "colab": {
          "base_uri": "https://localhost:8080/",
          "height": 35
        },
        "outputId": "78d1f73d-b1e0-4ea7-d50f-69f227cae5b7"
      },
      "source": [
        "'''\n",
        "plot_roc_curve2(listB[0],listB[1],listA[0],listA[1],'before','after',None)\n",
        "plt.show()\n",
        "'''"
      ],
      "execution_count": 345,
      "outputs": [
        {
          "output_type": "execute_result",
          "data": {
            "application/vnd.google.colaboratory.intrinsic+json": {
              "type": "string"
            },
            "text/plain": [
              "\"\\nplot_roc_curve2(listB[0],listB[1],listA[0],listA[1],'before','after',None)\\nplt.show()\\n\""
            ]
          },
          "metadata": {
            "tags": []
          },
          "execution_count": 345
        }
      ]
    },
    {
      "cell_type": "code",
      "metadata": {
        "id": "mH0YpqDsd7ZG"
      },
      "source": [
        "# 保存模型\n",
        "#model.save('/content/model_trained.h5') \n"
      ],
      "execution_count": 346,
      "outputs": []
    },
    {
      "cell_type": "code",
      "metadata": {
        "id": "oPCnIXbGeXg9"
      },
      "source": [
        "# 加载模型，同时加载了模型的结构、权重等信息\n",
        "#loaded_model = tf.keras.models.load_model('/content/model_trained.h5')"
      ],
      "execution_count": 347,
      "outputs": []
    }
  ]
}