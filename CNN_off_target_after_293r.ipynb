{
  "nbformat": 4,
  "nbformat_minor": 0,
  "metadata": {
    "colab": {
      "name": "CNN_off_target_after_293r.ipynb",
      "provenance": [],
      "collapsed_sections": [],
      "authorship_tag": "ABX9TyMsAcLU3R0hTTtZb0yDolq2",
      "include_colab_link": true
    },
    "kernelspec": {
      "name": "python3",
      "display_name": "Python 3"
    },
    "language_info": {
      "name": "python"
    }
  },
  "cells": [
    {
      "cell_type": "markdown",
      "metadata": {
        "id": "view-in-github",
        "colab_type": "text"
      },
      "source": [
        "<a href=\"https://colab.research.google.com/github/happyendingddd/CRISPR_Cas9_gRNA_design/blob/main/CNN_off_target_after_293r.ipynb\" target=\"_parent\"><img src=\"https://colab.research.google.com/assets/colab-badge.svg\" alt=\"Open In Colab\"/></a>"
      ]
    },
    {
      "cell_type": "code",
      "metadata": {
        "id": "MPDIloPHJLDm"
      },
      "source": [
        "import tensorflow as tf\n",
        "\n",
        "import pandas as pd\n",
        "import numpy as np\n",
        "from tensorflow.keras import layers\n",
        "import sklearn\n",
        "import matplotlib.pyplot as plt"
      ],
      "execution_count": 156,
      "outputs": []
    },
    {
      "cell_type": "code",
      "metadata": {
        "id": "oAsslLtrRhcS"
      },
      "source": [
        "# 数据导入1\n",
        "file_path='/content/merge_ot_sgRNA_293r_binary.csv'\n",
        "data_read=pd.read_csv(file_path,sep=',')\n",
        "otSeq=np.array(data_read['OT'])\n",
        "guideSeq=np.array(data_read['Target sgRNA'])\n",
        "labels=np.array(data_read['Cleavage Frequency'])"
      ],
      "execution_count": 157,
      "outputs": []
    },
    {
      "cell_type": "code",
      "metadata": {
        "id": "Ig37f_0tiZ5t"
      },
      "source": [
        "# 数据导入2（已经是编码形式）\n",
        "num_read=guideSeq.shape[0]\n",
        "seqdata_gP=np.load('/content/generated_ot_sgRNA_code_293r_positive.npy')[0:num_read-1]\n",
        "seqdata_gN=np.load('/content/generated_ot_sgRNA_code_293r_negetive.npy')[0:num_read-1]\n",
        "seqdata_g=np.vstack([seqdata_gP,seqdata_gN])\n",
        "labels_gP=np.zeros(seqdata_gP.shape[0])+1\n",
        "labels_gN=np.zeros(seqdata_gN.shape[0])\n",
        "labels_g=np.r_[labels_gP,labels_gN]\n",
        "labels_all=np.r_[labels,labels_g]"
      ],
      "execution_count": 158,
      "outputs": []
    },
    {
      "cell_type": "code",
      "metadata": {
        "id": "sUJpJOe6Xh0T"
      },
      "source": [
        "# 0ne_hot编码\n",
        "ntmap = {'A': (1, 0, 0, 0),\n",
        "         'C': (0, 1, 0, 0),\n",
        "         'G': (0, 0, 1, 0),\n",
        "         'T': (0, 0, 0, 1)\n",
        "         }\n",
        "\n",
        "def get_seqcode(seq):\n",
        "    return list(map(lambda c: ntmap[c], seq))\n",
        "\n",
        "def oneHotcoding(Seq):\n",
        "    n=0\n",
        "    for seq in Seq:\n",
        "        if n==0:\n",
        "            SeqcodeL=[]\n",
        "        seqcode=get_seqcode(seq)\n",
        "        n+=1\n",
        "        SeqcodeL.append(seqcode)\n",
        "        seqcode=[]\n",
        "        SeqcodeA=np.array(SeqcodeL)\n",
        "    return SeqcodeA"
      ],
      "execution_count": 159,
      "outputs": []
    },
    {
      "cell_type": "code",
      "metadata": {
        "id": "l4eR5tvcRkhV"
      },
      "source": [
        "# OR算子编码sgRNA-DNA\n",
        "def OR(a,b):\n",
        "    ab=np.zeros([a.shape[0],a.shape[1]])\n",
        "    for i in range(a.shape[0]):\n",
        "        for j in range(a.shape[1]):\n",
        "            if a[i][j] != b[i][j]:\n",
        "                ab[i][j]=a[i][j]+b[i][j]\n",
        "            else:\n",
        "                ab[i][j]=a[i][j]\n",
        "    return ab"
      ],
      "execution_count": 160,
      "outputs": []
    },
    {
      "cell_type": "code",
      "metadata": {
        "id": "aQfjTbR6csQA"
      },
      "source": [
        "# 编码\n",
        "guidecode=oneHotcoding(guideSeq)\n",
        "otcode=oneHotcoding(otSeq)\n",
        "guide_ot_code=np.zeros((guidecode.shape[0],guidecode.shape[1],guidecode.shape[2]))\n",
        "for i in range(len(guidecode)):\n",
        "    guide_ot_code[i]=OR(guidecode[i],otcode[i])"
      ],
      "execution_count": 161,
      "outputs": []
    },
    {
      "cell_type": "code",
      "metadata": {
        "colab": {
          "base_uri": "https://localhost:8080/"
        },
        "id": "PBlEUwKweQhE",
        "outputId": "f7cebf5d-b32d-41bd-a276-ba37e51fb65e"
      },
      "source": [
        "seqdata=guide_ot_code\n",
        "seqdata_all=np.vstack([seqdata,seqdata_g])\n",
        "print(seqdata_all.shape)"
      ],
      "execution_count": 162,
      "outputs": [
        {
          "output_type": "stream",
          "text": [
            "(1606, 23, 4)\n"
          ],
          "name": "stdout"
        }
      ]
    },
    {
      "cell_type": "code",
      "metadata": {
        "id": "fgztcQI0ZES9"
      },
      "source": [
        "from sklearn.model_selection import train_test_split\n",
        "train_seq,test_seq,train_lab,test_lab=train_test_split(seqdata_all,labels_all,train_size = 0.6,random_state=0,stratify=labels_all)"
      ],
      "execution_count": 163,
      "outputs": []
    },
    {
      "cell_type": "code",
      "metadata": {
        "id": "579mL7Rsb-NO"
      },
      "source": [
        "val_seq=test_seq[:int(test_seq.shape[0]*0.25)];val_lab=test_lab[:int(test_seq.shape[0]*0.25)]\n",
        "Ntest_seq=test_seq[int(test_seq.shape[0]*0.25)+1:];Ntest_lab=test_lab[int(test_seq.shape[0]*0.25)+1:]"
      ],
      "execution_count": 164,
      "outputs": []
    },
    {
      "cell_type": "code",
      "metadata": {
        "colab": {
          "base_uri": "https://localhost:8080/"
        },
        "id": "6AAGqIGzWYym",
        "outputId": "41b3ba93-4d89-43ef-f181-08cda609f5b6"
      },
      "source": [
        "sum(Ntest_lab)"
      ],
      "execution_count": 165,
      "outputs": [
        {
          "output_type": "execute_result",
          "data": {
            "text/plain": [
              "227.0"
            ]
          },
          "metadata": {
            "tags": []
          },
          "execution_count": 165
        }
      ]
    },
    {
      "cell_type": "code",
      "metadata": {
        "id": "yRdwI4H4J6GM"
      },
      "source": [
        "def CNN_model():\n",
        "  model = tf.keras.Sequential()\n",
        "  \n",
        "  model.add(layers.Conv1D(16, 3, padding='same', activation='relu', input_shape=(23,4)))\n",
        "  model.add(layers.BatchNormalization())\n",
        "  model.add(layers.LeakyReLU())\n",
        "  model.add(layers.Dropout(0.3))\n",
        "\n",
        "  model.add(layers.Conv1D(64, 3,padding='same', activation='relu'))\n",
        "  model.add(layers.BatchNormalization())\n",
        "  model.add(layers.LeakyReLU())\n",
        "  model.add(layers.Dropout(0.3))\n",
        "\n",
        "  model.add(layers.Conv1D(64, 3,padding='same', activation='relu'))\n",
        "  model.add(layers.BatchNormalization())\n",
        "  model.add(layers.LeakyReLU())\n",
        "  model.add(layers.Dropout(0.3))\n",
        "\n",
        "  model.add(layers.Flatten())\n",
        "  model.add(layers.Dense(16, activation='relu'))\n",
        "  #model.add(layers.Dense(2))\n",
        "  model.add(layers.Dense(2,activation='sigmoid'))\n",
        "\n",
        "  return model"
      ],
      "execution_count": 166,
      "outputs": []
    },
    {
      "cell_type": "code",
      "metadata": {
        "id": "NaSwu0mpR2MR"
      },
      "source": [
        "model=CNN_model()\n",
        "#model.summary()"
      ],
      "execution_count": 167,
      "outputs": []
    },
    {
      "cell_type": "code",
      "metadata": {
        "id": "2WewlvP6SLbc"
      },
      "source": [
        "model.compile(optimizer='adam',\n",
        "              loss=tf.keras.losses.SparseCategoricalCrossentropy(from_logits=True),\n",
        "              metrics=['accuracy'])"
      ],
      "execution_count": 168,
      "outputs": []
    },
    {
      "cell_type": "code",
      "metadata": {
        "colab": {
          "base_uri": "https://localhost:8080/"
        },
        "id": "Z04ozd0wNsfm",
        "outputId": "be28ac22-ffeb-4559-d0e3-8d1de8a9049e"
      },
      "source": [
        "history = model.fit(train_seq, train_lab, epochs=50, batch_size=16,\n",
        "                    validation_data=(val_seq, val_lab))"
      ],
      "execution_count": 169,
      "outputs": [
        {
          "output_type": "stream",
          "text": [
            "Epoch 1/50\n",
            "61/61 [==============================] - 2s 10ms/step - loss: 0.6828 - accuracy: 0.6139 - val_loss: 0.6847 - val_accuracy: 0.4688\n",
            "Epoch 2/50\n",
            "61/61 [==============================] - 0s 7ms/step - loss: 0.3989 - accuracy: 0.8098 - val_loss: 0.6887 - val_accuracy: 0.4688\n",
            "Epoch 3/50\n",
            "61/61 [==============================] - 0s 7ms/step - loss: 0.3266 - accuracy: 0.8387 - val_loss: 0.6104 - val_accuracy: 0.5750\n",
            "Epoch 4/50\n",
            "61/61 [==============================] - 0s 7ms/step - loss: 0.3264 - accuracy: 0.8406 - val_loss: 0.4902 - val_accuracy: 0.8125\n",
            "Epoch 5/50\n",
            "61/61 [==============================] - 0s 7ms/step - loss: 0.3112 - accuracy: 0.8334 - val_loss: 0.3774 - val_accuracy: 0.8313\n",
            "Epoch 6/50\n",
            "61/61 [==============================] - 0s 7ms/step - loss: 0.3113 - accuracy: 0.8439 - val_loss: 0.2857 - val_accuracy: 0.8562\n",
            "Epoch 7/50\n",
            "61/61 [==============================] - 0s 7ms/step - loss: 0.2465 - accuracy: 0.8686 - val_loss: 0.2414 - val_accuracy: 0.8562\n",
            "Epoch 8/50\n",
            "61/61 [==============================] - 0s 7ms/step - loss: 0.2134 - accuracy: 0.9068 - val_loss: 0.2429 - val_accuracy: 0.8562\n",
            "Epoch 9/50\n",
            "61/61 [==============================] - 0s 7ms/step - loss: 0.2383 - accuracy: 0.8726 - val_loss: 0.2285 - val_accuracy: 0.8750\n",
            "Epoch 10/50\n",
            "61/61 [==============================] - 0s 7ms/step - loss: 0.2208 - accuracy: 0.8732 - val_loss: 0.2170 - val_accuracy: 0.8750\n",
            "Epoch 11/50\n",
            "61/61 [==============================] - 0s 7ms/step - loss: 0.2313 - accuracy: 0.8615 - val_loss: 0.2175 - val_accuracy: 0.8938\n",
            "Epoch 12/50\n",
            "61/61 [==============================] - 0s 7ms/step - loss: 0.2131 - accuracy: 0.8992 - val_loss: 0.2228 - val_accuracy: 0.8750\n",
            "Epoch 13/50\n",
            "61/61 [==============================] - 0s 7ms/step - loss: 0.2378 - accuracy: 0.8781 - val_loss: 0.2140 - val_accuracy: 0.8813\n",
            "Epoch 14/50\n",
            "61/61 [==============================] - 0s 7ms/step - loss: 0.2263 - accuracy: 0.8669 - val_loss: 0.2325 - val_accuracy: 0.8625\n",
            "Epoch 15/50\n",
            "61/61 [==============================] - 0s 7ms/step - loss: 0.1823 - accuracy: 0.9058 - val_loss: 0.2170 - val_accuracy: 0.8938\n",
            "Epoch 16/50\n",
            "61/61 [==============================] - 0s 7ms/step - loss: 0.1696 - accuracy: 0.9069 - val_loss: 0.2140 - val_accuracy: 0.8875\n",
            "Epoch 17/50\n",
            "61/61 [==============================] - 0s 7ms/step - loss: 0.2103 - accuracy: 0.8839 - val_loss: 0.2068 - val_accuracy: 0.9000\n",
            "Epoch 18/50\n",
            "61/61 [==============================] - 0s 7ms/step - loss: 0.1778 - accuracy: 0.9203 - val_loss: 0.2076 - val_accuracy: 0.9000\n",
            "Epoch 19/50\n",
            "61/61 [==============================] - 0s 7ms/step - loss: 0.1879 - accuracy: 0.9162 - val_loss: 0.2054 - val_accuracy: 0.9000\n",
            "Epoch 20/50\n",
            "61/61 [==============================] - 0s 7ms/step - loss: 0.1822 - accuracy: 0.9055 - val_loss: 0.2196 - val_accuracy: 0.8750\n",
            "Epoch 21/50\n",
            "61/61 [==============================] - 0s 7ms/step - loss: 0.1824 - accuracy: 0.8973 - val_loss: 0.2266 - val_accuracy: 0.8875\n",
            "Epoch 22/50\n",
            "61/61 [==============================] - 0s 7ms/step - loss: 0.1806 - accuracy: 0.9020 - val_loss: 0.2125 - val_accuracy: 0.9125\n",
            "Epoch 23/50\n",
            "61/61 [==============================] - 0s 7ms/step - loss: 0.1857 - accuracy: 0.9111 - val_loss: 0.2236 - val_accuracy: 0.8938\n",
            "Epoch 24/50\n",
            "61/61 [==============================] - 0s 7ms/step - loss: 0.1904 - accuracy: 0.8845 - val_loss: 0.2206 - val_accuracy: 0.9187\n",
            "Epoch 25/50\n",
            "61/61 [==============================] - 0s 6ms/step - loss: 0.1763 - accuracy: 0.9227 - val_loss: 0.2080 - val_accuracy: 0.8938\n",
            "Epoch 26/50\n",
            "61/61 [==============================] - 0s 7ms/step - loss: 0.1812 - accuracy: 0.9063 - val_loss: 0.2059 - val_accuracy: 0.9125\n",
            "Epoch 27/50\n",
            "61/61 [==============================] - 0s 7ms/step - loss: 0.1657 - accuracy: 0.9261 - val_loss: 0.2192 - val_accuracy: 0.9000\n",
            "Epoch 28/50\n",
            "61/61 [==============================] - 0s 7ms/step - loss: 0.1822 - accuracy: 0.9107 - val_loss: 0.2156 - val_accuracy: 0.9062\n",
            "Epoch 29/50\n",
            "61/61 [==============================] - 0s 7ms/step - loss: 0.1618 - accuracy: 0.9159 - val_loss: 0.2157 - val_accuracy: 0.9062\n",
            "Epoch 30/50\n",
            "61/61 [==============================] - 0s 6ms/step - loss: 0.1562 - accuracy: 0.9238 - val_loss: 0.2063 - val_accuracy: 0.9000\n",
            "Epoch 31/50\n",
            "61/61 [==============================] - 0s 7ms/step - loss: 0.1782 - accuracy: 0.9141 - val_loss: 0.2032 - val_accuracy: 0.9000\n",
            "Epoch 32/50\n",
            "61/61 [==============================] - 0s 7ms/step - loss: 0.1682 - accuracy: 0.9208 - val_loss: 0.2039 - val_accuracy: 0.9187\n",
            "Epoch 33/50\n",
            "61/61 [==============================] - 0s 7ms/step - loss: 0.1731 - accuracy: 0.9185 - val_loss: 0.2101 - val_accuracy: 0.9000\n",
            "Epoch 34/50\n",
            "61/61 [==============================] - 0s 6ms/step - loss: 0.1660 - accuracy: 0.9270 - val_loss: 0.2131 - val_accuracy: 0.9062\n",
            "Epoch 35/50\n",
            "61/61 [==============================] - 0s 7ms/step - loss: 0.1555 - accuracy: 0.9260 - val_loss: 0.2075 - val_accuracy: 0.9000\n",
            "Epoch 36/50\n",
            "61/61 [==============================] - 0s 7ms/step - loss: 0.1350 - accuracy: 0.9404 - val_loss: 0.2143 - val_accuracy: 0.9000\n",
            "Epoch 37/50\n",
            "61/61 [==============================] - 0s 6ms/step - loss: 0.1341 - accuracy: 0.9325 - val_loss: 0.2181 - val_accuracy: 0.9125\n",
            "Epoch 38/50\n",
            "61/61 [==============================] - 0s 7ms/step - loss: 0.1766 - accuracy: 0.9187 - val_loss: 0.2035 - val_accuracy: 0.9312\n",
            "Epoch 39/50\n",
            "61/61 [==============================] - 0s 6ms/step - loss: 0.1447 - accuracy: 0.9373 - val_loss: 0.2063 - val_accuracy: 0.9250\n",
            "Epoch 40/50\n",
            "61/61 [==============================] - 0s 6ms/step - loss: 0.1337 - accuracy: 0.9304 - val_loss: 0.2144 - val_accuracy: 0.9000\n",
            "Epoch 41/50\n",
            "61/61 [==============================] - 0s 6ms/step - loss: 0.1433 - accuracy: 0.9337 - val_loss: 0.2279 - val_accuracy: 0.9000\n",
            "Epoch 42/50\n",
            "61/61 [==============================] - 0s 7ms/step - loss: 0.1535 - accuracy: 0.9275 - val_loss: 0.2343 - val_accuracy: 0.9125\n",
            "Epoch 43/50\n",
            "61/61 [==============================] - 0s 7ms/step - loss: 0.1622 - accuracy: 0.9110 - val_loss: 0.2250 - val_accuracy: 0.9125\n",
            "Epoch 44/50\n",
            "61/61 [==============================] - 0s 7ms/step - loss: 0.1522 - accuracy: 0.9357 - val_loss: 0.2298 - val_accuracy: 0.8875\n",
            "Epoch 45/50\n",
            "61/61 [==============================] - 0s 6ms/step - loss: 0.1544 - accuracy: 0.9269 - val_loss: 0.2062 - val_accuracy: 0.9125\n",
            "Epoch 46/50\n",
            "61/61 [==============================] - 0s 7ms/step - loss: 0.1484 - accuracy: 0.9244 - val_loss: 0.1951 - val_accuracy: 0.9187\n",
            "Epoch 47/50\n",
            "61/61 [==============================] - 0s 7ms/step - loss: 0.1412 - accuracy: 0.9260 - val_loss: 0.2134 - val_accuracy: 0.9062\n",
            "Epoch 48/50\n",
            "61/61 [==============================] - 0s 7ms/step - loss: 0.1253 - accuracy: 0.9313 - val_loss: 0.2255 - val_accuracy: 0.9125\n",
            "Epoch 49/50\n",
            "61/61 [==============================] - 0s 6ms/step - loss: 0.1569 - accuracy: 0.9255 - val_loss: 0.2075 - val_accuracy: 0.9125\n",
            "Epoch 50/50\n",
            "61/61 [==============================] - 0s 7ms/step - loss: 0.1224 - accuracy: 0.9437 - val_loss: 0.2190 - val_accuracy: 0.8938\n"
          ],
          "name": "stdout"
        }
      ]
    },
    {
      "cell_type": "code",
      "metadata": {
        "colab": {
          "base_uri": "https://localhost:8080/",
          "height": 499
        },
        "id": "I7USoOtCe3sO",
        "outputId": "cb875f6a-2dea-47aa-b064-a9c9112850a1"
      },
      "source": [
        "acc = history.history['accuracy']\n",
        "val_acc = history.history['val_accuracy']\n",
        "loss = history.history['loss']\n",
        "val_loss = history.history['val_loss']\n",
        "\n",
        "epochs_range = range(50)\n",
        "\n",
        "plt.figure(figsize=(8, 8))\n",
        "plt.subplot(1, 2, 1)\n",
        "plt.plot(epochs_range, acc, label='Training Accuracy')\n",
        "plt.plot(epochs_range, val_acc, label='Validation Accuracy')\n",
        "plt.legend(loc='lower right')\n",
        "plt.title('Training and Validation Accuracy')\n",
        "\n",
        "plt.subplot(1, 2, 2)\n",
        "plt.plot(epochs_range, loss, label='Training Loss')\n",
        "plt.plot(epochs_range, val_loss, label='Validation Loss')\n",
        "plt.legend(loc='upper right')\n",
        "plt.title('Training and Validation Loss')\n",
        "plt.show()"
      ],
      "execution_count": 170,
      "outputs": [
        {
          "output_type": "display_data",
          "data": {
            "image/png": "[encoded data removed]",
            "text/plain": [
              "<Figure size 576x576 with 2 Axes>"
            ]
          },
          "metadata": {
            "tags": [],
            "needs_background": "light"
          }
        }
      ]
    },
    {
      "cell_type": "code",
      "metadata": {
        "colab": {
          "base_uri": "https://localhost:8080/"
        },
        "id": "NzLHiYbNfVfX",
        "outputId": "f675893a-583c-4d21-fac9-7acf186eda54"
      },
      "source": [
        "test_loss, test_acc = model.evaluate(Ntest_seq, Ntest_lab, verbose=2)"
      ],
      "execution_count": 171,
      "outputs": [
        {
          "output_type": "stream",
          "text": [
            "16/16 - 0s - loss: 0.3520 - accuracy: 0.8465\n"
          ],
          "name": "stdout"
        }
      ]
    },
    {
      "cell_type": "code",
      "metadata": {
        "id": "bifAL9U3MEy-"
      },
      "source": [
        "pred_pro=model.predict(Ntest_seq) #计算概率"
      ],
      "execution_count": 172,
      "outputs": []
    },
    {
      "cell_type": "code",
      "metadata": {
        "colab": {
          "base_uri": "https://localhost:8080/",
          "height": 283
        },
        "id": "Hpvqy8Jky6CJ",
        "outputId": "f114a76e-6f11-41d9-f0f3-08928addf0bb"
      },
      "source": [
        "# ROC曲线（假正类率(fpr)/真正类率(tpr)）\n",
        "from sklearn.metrics import roc_curve\n",
        "fpr , tpr , thresholds = roc_curve(Ntest_lab,pred_pro[:,1])  # 计算多种阈值的TPR和FPR\n",
        "\n",
        "def plot_roc_curve(fpr,tpr,label=None):\n",
        "    plt.plot(fpr,tpr,'b--',linewidth=2,label=label)\n",
        "    plt.plot([0,1],[0,1],'k--')\n",
        "    plt.axis([0,1,0,1])\n",
        "    plt.xlabel('Fales Positive Rate')\n",
        "    plt.ylabel('True Positive Rate')\n",
        "\n",
        "plot_roc_curve(fpr,tpr)\n",
        "plt.show()"
      ],
      "execution_count": 173,
      "outputs": [
        {
          "output_type": "display_data",
          "data": {
            "image/png": "[encoded data removed]",
            "text/plain": [
              "<Figure size 432x288 with 1 Axes>"
            ]
          },
          "metadata": {
            "tags": [],
            "needs_background": "light"
          }
        }
      ]
    },
    {
      "cell_type": "code",
      "metadata": {
        "colab": {
          "base_uri": "https://localhost:8080/"
        },
        "id": "OYtx3EXaVCRt",
        "outputId": "d9500d38-8aea-4b71-88d8-9b978316a2ef"
      },
      "source": [
        "# ROC曲线下面积AUC\n",
        "from sklearn.metrics import roc_auc_score\n",
        "print(roc_auc_score(Ntest_lab,pred_pro[:,1]))"
      ],
      "execution_count": 174,
      "outputs": [
        {
          "output_type": "stream",
          "text": [
            "0.938205061760387\n"
          ],
          "name": "stdout"
        }
      ]
    },
    {
      "cell_type": "code",
      "metadata": {
        "colab": {
          "base_uri": "https://localhost:8080/"
        },
        "id": "MbB4uowQUUAe",
        "outputId": "a6fd9b52-8da3-4951-aadc-c53d1eea854b"
      },
      "source": [
        "print(test_acc)\n",
        "#after:293r=0.9825360774993896;K562=0.9555555582046509"
      ],
      "execution_count": 175,
      "outputs": [
        {
          "output_type": "stream",
          "text": [
            "0.8464730381965637\n"
          ],
          "name": "stdout"
        }
      ]
    },
    {
      "cell_type": "code",
      "metadata": {
        "id": "mH0YpqDsd7ZG"
      },
      "source": [
        "# 保存模型\n",
        "model.save('/content/model_trained_after_293r_cnn.h5') \n"
      ],
      "execution_count": 176,
      "outputs": []
    },
    {
      "cell_type": "code",
      "metadata": {
        "id": "oPCnIXbGeXg9"
      },
      "source": [
        "# 加载模型，同时加载了模型的结构、权重等信息\n",
        "loaded_model = tf.keras.models.load_model('/content/model_trained.h5')"
      ],
      "execution_count": 177,
      "outputs": []
    }
  ]
}